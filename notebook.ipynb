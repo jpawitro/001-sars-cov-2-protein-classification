{
 "cells": [
  {
   "cell_type": "markdown",
   "metadata": {},
   "source": [
    "# SARSCov2 Protein Sequences Classification"
   ]
  },
  {
   "cell_type": "markdown",
   "metadata": {},
   "source": [
    "## Data Preparation"
   ]
  },
  {
   "cell_type": "code",
   "execution_count": 1,
   "metadata": {},
   "outputs": [],
   "source": [
    "# import libraries\n",
    "import os\n",
    "from Bio import SeqIO\n",
    "import pickle\n",
    "import pandas as pd\n",
    "import matplotlib.pyplot as plt\n",
    "import numpy as np\n",
    "import seaborn as sns\n",
    "from sklearn.preprocessing import LabelBinarizer\n",
    "from sklearn.linear_model import ElasticNet\n",
    "from sklearn.model_selection import train_test_split\n",
    "from sklearn.metrics import classification_report, confusion_matrix, ConfusionMatrixDisplay\n",
    "from tensorflow.keras.preprocessing.text import Tokenizer\n",
    "from tensorflow.keras.preprocessing import sequence\n",
    "import lightgbm as lgb\n",
    "from skopt.space import Real, Categorical, Integer\n",
    "from skopt import BayesSearchCV\n",
    "%matplotlib inline\n",
    "sns.set(style=\"darkgrid\")"
   ]
  },
  {
   "cell_type": "code",
   "execution_count": 2,
   "metadata": {},
   "outputs": [],
   "source": [
    "# function to convert fasta records into pandas dataframe\n",
    "def read_fasta(file):\n",
    "    with open(file) as fasta_file:\n",
    "        identifiers = []\n",
    "        names = []\n",
    "        sequences = []\n",
    "        lengths = []\n",
    "        descriptions = []\n",
    "        features = []\n",
    "        for seq_record in SeqIO.parse(fasta_file, 'fasta'):\n",
    "            identifiers.append(seq_record.id)\n",
    "            names.append(seq_record.name)\n",
    "            sequences.append(str(seq_record.seq))\n",
    "            lengths.append(len(seq_record.seq))\n",
    "            descriptions.append(seq_record.description)\n",
    "            features.append(seq_record.features)   \n",
    "    s1 = pd.Series(identifiers, name='id')\n",
    "    s2 = pd.Series(names, name='name')\n",
    "    s3 = pd.Series(sequences, name='sequence')\n",
    "    s4 = pd.Series(lengths, name='length')\n",
    "    s5 = pd.Series(descriptions, name='description')\n",
    "    s6 = pd.Series(features, name='feature')\n",
    "    df = pd.DataFrame(dict(id=s1, name=s2, sequence=s3, length=s4, description=s5, feature=s6)).set_index(['id'])\n",
    "    return df"
   ]
  },
  {
   "cell_type": "code",
   "execution_count": 3,
   "metadata": {},
   "outputs": [],
   "source": [
    "# read the dataset\n",
    "positif = read_fasta(os.path.join('data','positif.fasta'))\n",
    "negatif = read_fasta(os.path.join('data','negatif.fasta'))"
   ]
  },
  {
   "cell_type": "code",
   "execution_count": 4,
   "metadata": {},
   "outputs": [
    {
     "data": {
      "text/html": [
       "<div>\n",
       "<style scoped>\n",
       "    .dataframe tbody tr th:only-of-type {\n",
       "        vertical-align: middle;\n",
       "    }\n",
       "\n",
       "    .dataframe tbody tr th {\n",
       "        vertical-align: top;\n",
       "    }\n",
       "\n",
       "    .dataframe thead th {\n",
       "        text-align: right;\n",
       "    }\n",
       "</style>\n",
       "<table border=\"1\" class=\"dataframe\">\n",
       "  <thead>\n",
       "    <tr style=\"text-align: right;\">\n",
       "      <th></th>\n",
       "      <th>name</th>\n",
       "      <th>sequence</th>\n",
       "      <th>length</th>\n",
       "      <th>description</th>\n",
       "      <th>feature</th>\n",
       "    </tr>\n",
       "    <tr>\n",
       "      <th>id</th>\n",
       "      <th></th>\n",
       "      <th></th>\n",
       "      <th></th>\n",
       "      <th></th>\n",
       "      <th></th>\n",
       "    </tr>\n",
       "  </thead>\n",
       "  <tbody>\n",
       "    <tr>\n",
       "      <th>tr|A0A6M6J105|A0A6M6J105_SARS2</th>\n",
       "      <td>tr|A0A6M6J105|A0A6M6J105_SARS2</td>\n",
       "      <td>MESLVPGFNEKTHVQLSLPVLQVRDVLVRGFGDSVEEVLSEARQHL...</td>\n",
       "      <td>4405</td>\n",
       "      <td>tr|A0A6M6J105|A0A6M6J105_SARS2 3C-like protein...</td>\n",
       "      <td>[]</td>\n",
       "    </tr>\n",
       "    <tr>\n",
       "      <th>tr|A0A6M4N1G6|A0A6M4N1G6_SARS2</th>\n",
       "      <td>tr|A0A6M4N1G6|A0A6M4N1G6_SARS2</td>\n",
       "      <td>MYSFVSEETGTLIXNSVLLFLAFVVFLLVTLAILTALRLCAYCCNI...</td>\n",
       "      <td>75</td>\n",
       "      <td>tr|A0A6M4N1G6|A0A6M4N1G6_SARS2 Envelope small ...</td>\n",
       "      <td>[]</td>\n",
       "    </tr>\n",
       "    <tr>\n",
       "      <th>tr|A0A6M4NIQ4|A0A6M4NIQ4_SARS2</th>\n",
       "      <td>tr|A0A6M4NIQ4|A0A6M4NIQ4_SARS2</td>\n",
       "      <td>MESLVPGFNEKTHVQLSLPVLQVRDVLXRGFGDSVEEVLSEARQHL...</td>\n",
       "      <td>4371</td>\n",
       "      <td>tr|A0A6M4NIQ4|A0A6M4NIQ4_SARS2 3C-like protein...</td>\n",
       "      <td>[]</td>\n",
       "    </tr>\n",
       "    <tr>\n",
       "      <th>tr|A0A6M4N6E0|A0A6M4N6E0_SARS2</th>\n",
       "      <td>tr|A0A6M4N6E0|A0A6M4N6E0_SARS2</td>\n",
       "      <td>MESLVPXFNEKTHVQLSLPVLQVRDVLVRGFGDSVEEVLSEARQHL...</td>\n",
       "      <td>4405</td>\n",
       "      <td>tr|A0A6M4N6E0|A0A6M4N6E0_SARS2 3C-like protein...</td>\n",
       "      <td>[]</td>\n",
       "    </tr>\n",
       "    <tr>\n",
       "      <th>tr|A0A7D4GRX1|A0A7D4GRX1_SARS2</th>\n",
       "      <td>tr|A0A7D4GRX1|A0A7D4GRX1_SARS2</td>\n",
       "      <td>MESLVPGFNEKTHVQLSLPVLQVRDVLVRGFGDSVEEVLSEARQHL...</td>\n",
       "      <td>7096</td>\n",
       "      <td>tr|A0A7D4GRX1|A0A7D4GRX1_SARS2 ORF1ab polyprot...</td>\n",
       "      <td>[]</td>\n",
       "    </tr>\n",
       "    <tr>\n",
       "      <th>...</th>\n",
       "      <td>...</td>\n",
       "      <td>...</td>\n",
       "      <td>...</td>\n",
       "      <td>...</td>\n",
       "      <td>...</td>\n",
       "    </tr>\n",
       "    <tr>\n",
       "      <th>tr|A0A6M4MUN3|A0A6M4MUN3_SARS2</th>\n",
       "      <td>tr|A0A6M4MUN3|A0A6M4MUN3_SARS2</td>\n",
       "      <td>MFHLVDFQVTIAEILLIIMRTFKVSILNLDYIINLIIKNLSKSLTE...</td>\n",
       "      <td>61</td>\n",
       "      <td>tr|A0A6M4MUN3|A0A6M4MUN3_SARS2 Accessory prote...</td>\n",
       "      <td>[]</td>\n",
       "    </tr>\n",
       "    <tr>\n",
       "      <th>tr|A0A6H2EGB9|A0A6H2EGB9_SARS2</th>\n",
       "      <td>tr|A0A6H2EGB9|A0A6H2EGB9_SARS2</td>\n",
       "      <td>MESLVPGFNEKTHVQLSLPVLQVRDVLVRGFGDSVEEVLSEARQHL...</td>\n",
       "      <td>7096</td>\n",
       "      <td>tr|A0A6H2EGB9|A0A6H2EGB9_SARS2 2'-O-methyltran...</td>\n",
       "      <td>[]</td>\n",
       "    </tr>\n",
       "    <tr>\n",
       "      <th>tr|A0A6M4N1R7|A0A6M4N1R7_SARS2</th>\n",
       "      <td>tr|A0A6M4N1R7|A0A6M4N1R7_SARS2</td>\n",
       "      <td>MSDNGPQNQRNAPRITFGGPSDSTGSNQNGERSGARSKQRRPQGLP...</td>\n",
       "      <td>419</td>\n",
       "      <td>tr|A0A6M4N1R7|A0A6M4N1R7_SARS2 Nucleoprotein O...</td>\n",
       "      <td>[]</td>\n",
       "    </tr>\n",
       "    <tr>\n",
       "      <th>tr|A0A6N1NLH7|A0A6N1NLH7_SARS2</th>\n",
       "      <td>tr|A0A6N1NLH7|A0A6N1NLH7_SARS2</td>\n",
       "      <td>MFHLVDFQVTIAEILLIIMRTFKVSIWNLDYIINLIIKNLSKSLTE...</td>\n",
       "      <td>61</td>\n",
       "      <td>tr|A0A6N1NLH7|A0A6N1NLH7_SARS2 Accessory prote...</td>\n",
       "      <td>[]</td>\n",
       "    </tr>\n",
       "    <tr>\n",
       "      <th>tr|A0A6N1WFR0|A0A6N1WFR0_SARS2</th>\n",
       "      <td>tr|A0A6N1WFR0|A0A6N1WFR0_SARS2</td>\n",
       "      <td>MESLVPGFNEKTHVQLSLPVLQVRDVLVRGFGDSVEEVLSEARQHL...</td>\n",
       "      <td>4405</td>\n",
       "      <td>tr|A0A6N1WFR0|A0A6N1WFR0_SARS2 3C-like protein...</td>\n",
       "      <td>[]</td>\n",
       "    </tr>\n",
       "  </tbody>\n",
       "</table>\n",
       "<p>3139 rows × 5 columns</p>\n",
       "</div>"
      ],
      "text/plain": [
       "                                                          name  \\\n",
       "id                                                               \n",
       "tr|A0A6M6J105|A0A6M6J105_SARS2  tr|A0A6M6J105|A0A6M6J105_SARS2   \n",
       "tr|A0A6M4N1G6|A0A6M4N1G6_SARS2  tr|A0A6M4N1G6|A0A6M4N1G6_SARS2   \n",
       "tr|A0A6M4NIQ4|A0A6M4NIQ4_SARS2  tr|A0A6M4NIQ4|A0A6M4NIQ4_SARS2   \n",
       "tr|A0A6M4N6E0|A0A6M4N6E0_SARS2  tr|A0A6M4N6E0|A0A6M4N6E0_SARS2   \n",
       "tr|A0A7D4GRX1|A0A7D4GRX1_SARS2  tr|A0A7D4GRX1|A0A7D4GRX1_SARS2   \n",
       "...                                                        ...   \n",
       "tr|A0A6M4MUN3|A0A6M4MUN3_SARS2  tr|A0A6M4MUN3|A0A6M4MUN3_SARS2   \n",
       "tr|A0A6H2EGB9|A0A6H2EGB9_SARS2  tr|A0A6H2EGB9|A0A6H2EGB9_SARS2   \n",
       "tr|A0A6M4N1R7|A0A6M4N1R7_SARS2  tr|A0A6M4N1R7|A0A6M4N1R7_SARS2   \n",
       "tr|A0A6N1NLH7|A0A6N1NLH7_SARS2  tr|A0A6N1NLH7|A0A6N1NLH7_SARS2   \n",
       "tr|A0A6N1WFR0|A0A6N1WFR0_SARS2  tr|A0A6N1WFR0|A0A6N1WFR0_SARS2   \n",
       "\n",
       "                                                                         sequence  \\\n",
       "id                                                                                  \n",
       "tr|A0A6M6J105|A0A6M6J105_SARS2  MESLVPGFNEKTHVQLSLPVLQVRDVLVRGFGDSVEEVLSEARQHL...   \n",
       "tr|A0A6M4N1G6|A0A6M4N1G6_SARS2  MYSFVSEETGTLIXNSVLLFLAFVVFLLVTLAILTALRLCAYCCNI...   \n",
       "tr|A0A6M4NIQ4|A0A6M4NIQ4_SARS2  MESLVPGFNEKTHVQLSLPVLQVRDVLXRGFGDSVEEVLSEARQHL...   \n",
       "tr|A0A6M4N6E0|A0A6M4N6E0_SARS2  MESLVPXFNEKTHVQLSLPVLQVRDVLVRGFGDSVEEVLSEARQHL...   \n",
       "tr|A0A7D4GRX1|A0A7D4GRX1_SARS2  MESLVPGFNEKTHVQLSLPVLQVRDVLVRGFGDSVEEVLSEARQHL...   \n",
       "...                                                                           ...   \n",
       "tr|A0A6M4MUN3|A0A6M4MUN3_SARS2  MFHLVDFQVTIAEILLIIMRTFKVSILNLDYIINLIIKNLSKSLTE...   \n",
       "tr|A0A6H2EGB9|A0A6H2EGB9_SARS2  MESLVPGFNEKTHVQLSLPVLQVRDVLVRGFGDSVEEVLSEARQHL...   \n",
       "tr|A0A6M4N1R7|A0A6M4N1R7_SARS2  MSDNGPQNQRNAPRITFGGPSDSTGSNQNGERSGARSKQRRPQGLP...   \n",
       "tr|A0A6N1NLH7|A0A6N1NLH7_SARS2  MFHLVDFQVTIAEILLIIMRTFKVSIWNLDYIINLIIKNLSKSLTE...   \n",
       "tr|A0A6N1WFR0|A0A6N1WFR0_SARS2  MESLVPGFNEKTHVQLSLPVLQVRDVLVRGFGDSVEEVLSEARQHL...   \n",
       "\n",
       "                                length  \\\n",
       "id                                       \n",
       "tr|A0A6M6J105|A0A6M6J105_SARS2    4405   \n",
       "tr|A0A6M4N1G6|A0A6M4N1G6_SARS2      75   \n",
       "tr|A0A6M4NIQ4|A0A6M4NIQ4_SARS2    4371   \n",
       "tr|A0A6M4N6E0|A0A6M4N6E0_SARS2    4405   \n",
       "tr|A0A7D4GRX1|A0A7D4GRX1_SARS2    7096   \n",
       "...                                ...   \n",
       "tr|A0A6M4MUN3|A0A6M4MUN3_SARS2      61   \n",
       "tr|A0A6H2EGB9|A0A6H2EGB9_SARS2    7096   \n",
       "tr|A0A6M4N1R7|A0A6M4N1R7_SARS2     419   \n",
       "tr|A0A6N1NLH7|A0A6N1NLH7_SARS2      61   \n",
       "tr|A0A6N1WFR0|A0A6N1WFR0_SARS2    4405   \n",
       "\n",
       "                                                                      description  \\\n",
       "id                                                                                  \n",
       "tr|A0A6M6J105|A0A6M6J105_SARS2  tr|A0A6M6J105|A0A6M6J105_SARS2 3C-like protein...   \n",
       "tr|A0A6M4N1G6|A0A6M4N1G6_SARS2  tr|A0A6M4N1G6|A0A6M4N1G6_SARS2 Envelope small ...   \n",
       "tr|A0A6M4NIQ4|A0A6M4NIQ4_SARS2  tr|A0A6M4NIQ4|A0A6M4NIQ4_SARS2 3C-like protein...   \n",
       "tr|A0A6M4N6E0|A0A6M4N6E0_SARS2  tr|A0A6M4N6E0|A0A6M4N6E0_SARS2 3C-like protein...   \n",
       "tr|A0A7D4GRX1|A0A7D4GRX1_SARS2  tr|A0A7D4GRX1|A0A7D4GRX1_SARS2 ORF1ab polyprot...   \n",
       "...                                                                           ...   \n",
       "tr|A0A6M4MUN3|A0A6M4MUN3_SARS2  tr|A0A6M4MUN3|A0A6M4MUN3_SARS2 Accessory prote...   \n",
       "tr|A0A6H2EGB9|A0A6H2EGB9_SARS2  tr|A0A6H2EGB9|A0A6H2EGB9_SARS2 2'-O-methyltran...   \n",
       "tr|A0A6M4N1R7|A0A6M4N1R7_SARS2  tr|A0A6M4N1R7|A0A6M4N1R7_SARS2 Nucleoprotein O...   \n",
       "tr|A0A6N1NLH7|A0A6N1NLH7_SARS2  tr|A0A6N1NLH7|A0A6N1NLH7_SARS2 Accessory prote...   \n",
       "tr|A0A6N1WFR0|A0A6N1WFR0_SARS2  tr|A0A6N1WFR0|A0A6N1WFR0_SARS2 3C-like protein...   \n",
       "\n",
       "                               feature  \n",
       "id                                      \n",
       "tr|A0A6M6J105|A0A6M6J105_SARS2      []  \n",
       "tr|A0A6M4N1G6|A0A6M4N1G6_SARS2      []  \n",
       "tr|A0A6M4NIQ4|A0A6M4NIQ4_SARS2      []  \n",
       "tr|A0A6M4N6E0|A0A6M4N6E0_SARS2      []  \n",
       "tr|A0A7D4GRX1|A0A7D4GRX1_SARS2      []  \n",
       "...                                ...  \n",
       "tr|A0A6M4MUN3|A0A6M4MUN3_SARS2      []  \n",
       "tr|A0A6H2EGB9|A0A6H2EGB9_SARS2      []  \n",
       "tr|A0A6M4N1R7|A0A6M4N1R7_SARS2      []  \n",
       "tr|A0A6N1NLH7|A0A6N1NLH7_SARS2      []  \n",
       "tr|A0A6N1WFR0|A0A6N1WFR0_SARS2      []  \n",
       "\n",
       "[3139 rows x 5 columns]"
      ]
     },
     "execution_count": 4,
     "metadata": {},
     "output_type": "execute_result"
    }
   ],
   "source": [
    "# shows positif dataset\n",
    "positif"
   ]
  },
  {
   "cell_type": "code",
   "execution_count": 5,
   "metadata": {},
   "outputs": [
    {
     "data": {
      "text/html": [
       "<div>\n",
       "<style scoped>\n",
       "    .dataframe tbody tr th:only-of-type {\n",
       "        vertical-align: middle;\n",
       "    }\n",
       "\n",
       "    .dataframe tbody tr th {\n",
       "        vertical-align: top;\n",
       "    }\n",
       "\n",
       "    .dataframe thead th {\n",
       "        text-align: right;\n",
       "    }\n",
       "</style>\n",
       "<table border=\"1\" class=\"dataframe\">\n",
       "  <thead>\n",
       "    <tr style=\"text-align: right;\">\n",
       "      <th></th>\n",
       "      <th>name</th>\n",
       "      <th>sequence</th>\n",
       "      <th>length</th>\n",
       "      <th>description</th>\n",
       "      <th>feature</th>\n",
       "    </tr>\n",
       "    <tr>\n",
       "      <th>id</th>\n",
       "      <th></th>\n",
       "      <th></th>\n",
       "      <th></th>\n",
       "      <th></th>\n",
       "      <th></th>\n",
       "    </tr>\n",
       "  </thead>\n",
       "  <tbody>\n",
       "    <tr>\n",
       "      <th>sp|Q5TD94|RSH4A_HUMAN</th>\n",
       "      <td>sp|Q5TD94|RSH4A_HUMAN</td>\n",
       "      <td>MEDSTSPKQEKENQEELGETRRPWEGKTAASPQYSEPESSEPLEAK...</td>\n",
       "      <td>716</td>\n",
       "      <td>sp|Q5TD94|RSH4A_HUMAN Radial spoke head protei...</td>\n",
       "      <td>[]</td>\n",
       "    </tr>\n",
       "    <tr>\n",
       "      <th>sp|Q14160|SCRIB_HUMAN</th>\n",
       "      <td>sp|Q14160|SCRIB_HUMAN</td>\n",
       "      <td>MLKCIPLWRCNRHVESVDKRHCSLQAVPEEIYRYSRSLEELLLDAN...</td>\n",
       "      <td>1630</td>\n",
       "      <td>sp|Q14160|SCRIB_HUMAN Protein scribble homolog...</td>\n",
       "      <td>[]</td>\n",
       "    </tr>\n",
       "    <tr>\n",
       "      <th>sp|Q15436|SC23A_HUMAN</th>\n",
       "      <td>sp|Q15436|SC23A_HUMAN</td>\n",
       "      <td>MTTYLEFIQQNEERDGVRFSWNVWPSSRLEATRMVVPVAALFTPLK...</td>\n",
       "      <td>765</td>\n",
       "      <td>sp|Q15436|SC23A_HUMAN Protein transport protei...</td>\n",
       "      <td>[]</td>\n",
       "    </tr>\n",
       "    <tr>\n",
       "      <th>sp|P51170|SCNNG_HUMAN</th>\n",
       "      <td>sp|P51170|SCNNG_HUMAN</td>\n",
       "      <td>MAPGEKIKAKIKKNLPVTGPQAPTIKELMRWYCLNTNTHGCRRIVV...</td>\n",
       "      <td>649</td>\n",
       "      <td>sp|P51170|SCNNG_HUMAN Amiloride-sensitive sodi...</td>\n",
       "      <td>[]</td>\n",
       "    </tr>\n",
       "    <tr>\n",
       "      <th>sp|Q13228|SBP1_HUMAN</th>\n",
       "      <td>sp|Q13228|SBP1_HUMAN</td>\n",
       "      <td>MATKCGNCGPGYSTPLEAMKGPREEIVYLPCIYRNTGTEAPDYLAT...</td>\n",
       "      <td>472</td>\n",
       "      <td>sp|Q13228|SBP1_HUMAN Methanethiol oxidase OS=H...</td>\n",
       "      <td>[]</td>\n",
       "    </tr>\n",
       "    <tr>\n",
       "      <th>...</th>\n",
       "      <td>...</td>\n",
       "      <td>...</td>\n",
       "      <td>...</td>\n",
       "      <td>...</td>\n",
       "      <td>...</td>\n",
       "    </tr>\n",
       "    <tr>\n",
       "      <th>sp|P57078|RIPK4_HUMAN</th>\n",
       "      <td>sp|P57078|RIPK4_HUMAN</td>\n",
       "      <td>MEGDGGTPWALALLRTFDAGEFTGWEKVGSGGFGQVYKVRHVHWKT...</td>\n",
       "      <td>832</td>\n",
       "      <td>sp|P57078|RIPK4_HUMAN Receptor-interacting ser...</td>\n",
       "      <td>[]</td>\n",
       "    </tr>\n",
       "    <tr>\n",
       "      <th>sp|Q8TDP1|RNH2C_HUMAN</th>\n",
       "      <td>sp|Q8TDP1|RNH2C_HUMAN</td>\n",
       "      <td>MESGDEAAIERHRVHLRSATLRDAVPATLHLLPCEVAVDGPAPVGR...</td>\n",
       "      <td>164</td>\n",
       "      <td>sp|Q8TDP1|RNH2C_HUMAN Ribonuclease H2 subunit ...</td>\n",
       "      <td>[]</td>\n",
       "    </tr>\n",
       "    <tr>\n",
       "      <th>sp|Q9BQ52|RNZ2_HUMAN</th>\n",
       "      <td>sp|Q9BQ52|RNZ2_HUMAN</td>\n",
       "      <td>MWALCSLLRSAAGRTMSQGRTISQAPARRERPRKDPLRHLRTREKR...</td>\n",
       "      <td>826</td>\n",
       "      <td>sp|Q9BQ52|RNZ2_HUMAN Zinc phosphodiesterase EL...</td>\n",
       "      <td>[]</td>\n",
       "    </tr>\n",
       "    <tr>\n",
       "      <th>sp|Q9UL12|SARDH_HUMAN</th>\n",
       "      <td>sp|Q9UL12|SARDH_HUMAN</td>\n",
       "      <td>MASLSRALRVAAAHPRQSPTRGMGPCNLSSAAGPTAEKSVPYQRTL...</td>\n",
       "      <td>918</td>\n",
       "      <td>sp|Q9UL12|SARDH_HUMAN Sarcosine dehydrogenase,...</td>\n",
       "      <td>[]</td>\n",
       "    </tr>\n",
       "    <tr>\n",
       "      <th>sp|Q9Y397|ZDHC9_HUMAN</th>\n",
       "      <td>sp|Q9Y397|ZDHC9_HUMAN</td>\n",
       "      <td>MSVMVVRKKVTRKWEKLPGRNTFCCDGRVMMARQKGIFYLTLFLIL...</td>\n",
       "      <td>364</td>\n",
       "      <td>sp|Q9Y397|ZDHC9_HUMAN Palmitoyltransferase ZDH...</td>\n",
       "      <td>[]</td>\n",
       "    </tr>\n",
       "  </tbody>\n",
       "</table>\n",
       "<p>4106 rows × 5 columns</p>\n",
       "</div>"
      ],
      "text/plain": [
       "                                        name  \\\n",
       "id                                             \n",
       "sp|Q5TD94|RSH4A_HUMAN  sp|Q5TD94|RSH4A_HUMAN   \n",
       "sp|Q14160|SCRIB_HUMAN  sp|Q14160|SCRIB_HUMAN   \n",
       "sp|Q15436|SC23A_HUMAN  sp|Q15436|SC23A_HUMAN   \n",
       "sp|P51170|SCNNG_HUMAN  sp|P51170|SCNNG_HUMAN   \n",
       "sp|Q13228|SBP1_HUMAN    sp|Q13228|SBP1_HUMAN   \n",
       "...                                      ...   \n",
       "sp|P57078|RIPK4_HUMAN  sp|P57078|RIPK4_HUMAN   \n",
       "sp|Q8TDP1|RNH2C_HUMAN  sp|Q8TDP1|RNH2C_HUMAN   \n",
       "sp|Q9BQ52|RNZ2_HUMAN    sp|Q9BQ52|RNZ2_HUMAN   \n",
       "sp|Q9UL12|SARDH_HUMAN  sp|Q9UL12|SARDH_HUMAN   \n",
       "sp|Q9Y397|ZDHC9_HUMAN  sp|Q9Y397|ZDHC9_HUMAN   \n",
       "\n",
       "                                                                sequence  \\\n",
       "id                                                                         \n",
       "sp|Q5TD94|RSH4A_HUMAN  MEDSTSPKQEKENQEELGETRRPWEGKTAASPQYSEPESSEPLEAK...   \n",
       "sp|Q14160|SCRIB_HUMAN  MLKCIPLWRCNRHVESVDKRHCSLQAVPEEIYRYSRSLEELLLDAN...   \n",
       "sp|Q15436|SC23A_HUMAN  MTTYLEFIQQNEERDGVRFSWNVWPSSRLEATRMVVPVAALFTPLK...   \n",
       "sp|P51170|SCNNG_HUMAN  MAPGEKIKAKIKKNLPVTGPQAPTIKELMRWYCLNTNTHGCRRIVV...   \n",
       "sp|Q13228|SBP1_HUMAN   MATKCGNCGPGYSTPLEAMKGPREEIVYLPCIYRNTGTEAPDYLAT...   \n",
       "...                                                                  ...   \n",
       "sp|P57078|RIPK4_HUMAN  MEGDGGTPWALALLRTFDAGEFTGWEKVGSGGFGQVYKVRHVHWKT...   \n",
       "sp|Q8TDP1|RNH2C_HUMAN  MESGDEAAIERHRVHLRSATLRDAVPATLHLLPCEVAVDGPAPVGR...   \n",
       "sp|Q9BQ52|RNZ2_HUMAN   MWALCSLLRSAAGRTMSQGRTISQAPARRERPRKDPLRHLRTREKR...   \n",
       "sp|Q9UL12|SARDH_HUMAN  MASLSRALRVAAAHPRQSPTRGMGPCNLSSAAGPTAEKSVPYQRTL...   \n",
       "sp|Q9Y397|ZDHC9_HUMAN  MSVMVVRKKVTRKWEKLPGRNTFCCDGRVMMARQKGIFYLTLFLIL...   \n",
       "\n",
       "                       length  \\\n",
       "id                              \n",
       "sp|Q5TD94|RSH4A_HUMAN     716   \n",
       "sp|Q14160|SCRIB_HUMAN    1630   \n",
       "sp|Q15436|SC23A_HUMAN     765   \n",
       "sp|P51170|SCNNG_HUMAN     649   \n",
       "sp|Q13228|SBP1_HUMAN      472   \n",
       "...                       ...   \n",
       "sp|P57078|RIPK4_HUMAN     832   \n",
       "sp|Q8TDP1|RNH2C_HUMAN     164   \n",
       "sp|Q9BQ52|RNZ2_HUMAN      826   \n",
       "sp|Q9UL12|SARDH_HUMAN     918   \n",
       "sp|Q9Y397|ZDHC9_HUMAN     364   \n",
       "\n",
       "                                                             description  \\\n",
       "id                                                                         \n",
       "sp|Q5TD94|RSH4A_HUMAN  sp|Q5TD94|RSH4A_HUMAN Radial spoke head protei...   \n",
       "sp|Q14160|SCRIB_HUMAN  sp|Q14160|SCRIB_HUMAN Protein scribble homolog...   \n",
       "sp|Q15436|SC23A_HUMAN  sp|Q15436|SC23A_HUMAN Protein transport protei...   \n",
       "sp|P51170|SCNNG_HUMAN  sp|P51170|SCNNG_HUMAN Amiloride-sensitive sodi...   \n",
       "sp|Q13228|SBP1_HUMAN   sp|Q13228|SBP1_HUMAN Methanethiol oxidase OS=H...   \n",
       "...                                                                  ...   \n",
       "sp|P57078|RIPK4_HUMAN  sp|P57078|RIPK4_HUMAN Receptor-interacting ser...   \n",
       "sp|Q8TDP1|RNH2C_HUMAN  sp|Q8TDP1|RNH2C_HUMAN Ribonuclease H2 subunit ...   \n",
       "sp|Q9BQ52|RNZ2_HUMAN   sp|Q9BQ52|RNZ2_HUMAN Zinc phosphodiesterase EL...   \n",
       "sp|Q9UL12|SARDH_HUMAN  sp|Q9UL12|SARDH_HUMAN Sarcosine dehydrogenase,...   \n",
       "sp|Q9Y397|ZDHC9_HUMAN  sp|Q9Y397|ZDHC9_HUMAN Palmitoyltransferase ZDH...   \n",
       "\n",
       "                      feature  \n",
       "id                             \n",
       "sp|Q5TD94|RSH4A_HUMAN      []  \n",
       "sp|Q14160|SCRIB_HUMAN      []  \n",
       "sp|Q15436|SC23A_HUMAN      []  \n",
       "sp|P51170|SCNNG_HUMAN      []  \n",
       "sp|Q13228|SBP1_HUMAN       []  \n",
       "...                       ...  \n",
       "sp|P57078|RIPK4_HUMAN      []  \n",
       "sp|Q8TDP1|RNH2C_HUMAN      []  \n",
       "sp|Q9BQ52|RNZ2_HUMAN       []  \n",
       "sp|Q9UL12|SARDH_HUMAN      []  \n",
       "sp|Q9Y397|ZDHC9_HUMAN      []  \n",
       "\n",
       "[4106 rows x 5 columns]"
      ]
     },
     "execution_count": 5,
     "metadata": {},
     "output_type": "execute_result"
    }
   ],
   "source": [
    "# shows negatif dataset\n",
    "negatif"
   ]
  },
  {
   "cell_type": "code",
   "execution_count": 6,
   "metadata": {},
   "outputs": [
    {
     "data": {
      "text/html": [
       "<div>\n",
       "<style scoped>\n",
       "    .dataframe tbody tr th:only-of-type {\n",
       "        vertical-align: middle;\n",
       "    }\n",
       "\n",
       "    .dataframe tbody tr th {\n",
       "        vertical-align: top;\n",
       "    }\n",
       "\n",
       "    .dataframe thead th {\n",
       "        text-align: right;\n",
       "    }\n",
       "</style>\n",
       "<table border=\"1\" class=\"dataframe\">\n",
       "  <thead>\n",
       "    <tr style=\"text-align: right;\">\n",
       "      <th></th>\n",
       "      <th>0</th>\n",
       "      <th>1</th>\n",
       "      <th>2</th>\n",
       "      <th>3</th>\n",
       "    </tr>\n",
       "    <tr>\n",
       "      <th>id</th>\n",
       "      <th></th>\n",
       "      <th></th>\n",
       "      <th></th>\n",
       "      <th></th>\n",
       "    </tr>\n",
       "  </thead>\n",
       "  <tbody>\n",
       "    <tr>\n",
       "      <th>tr|A0A6M6J105|A0A6M6J105_SARS2</th>\n",
       "      <td>tr|A0A6M6J105|A0A6M6J105_SARS2</td>\n",
       "      <td>3C-like proteinase OS</td>\n",
       "      <td>Severe acute respiratory syndrome coronavirus ...</td>\n",
       "      <td>2697049 GN=ORF1ab PE=3 SV=1</td>\n",
       "    </tr>\n",
       "    <tr>\n",
       "      <th>tr|A0A6M4N1G6|A0A6M4N1G6_SARS2</th>\n",
       "      <td>tr|A0A6M4N1G6|A0A6M4N1G6_SARS2</td>\n",
       "      <td>Envelope small membrane protein OS</td>\n",
       "      <td>Severe acute respiratory syndrome coronavirus ...</td>\n",
       "      <td>2697049 GN=E PE=3 SV=1</td>\n",
       "    </tr>\n",
       "    <tr>\n",
       "      <th>tr|A0A6M4NIQ4|A0A6M4NIQ4_SARS2</th>\n",
       "      <td>tr|A0A6M4NIQ4|A0A6M4NIQ4_SARS2</td>\n",
       "      <td>3C-like proteinase (Fragment) OS</td>\n",
       "      <td>Severe acute respiratory syndrome coronavirus ...</td>\n",
       "      <td>2697049 GN=ORF1ab PE=3 SV=1</td>\n",
       "    </tr>\n",
       "    <tr>\n",
       "      <th>tr|A0A6M4N6E0|A0A6M4N6E0_SARS2</th>\n",
       "      <td>tr|A0A6M4N6E0|A0A6M4N6E0_SARS2</td>\n",
       "      <td>3C-like proteinase OS</td>\n",
       "      <td>Severe acute respiratory syndrome coronavirus ...</td>\n",
       "      <td>2697049 GN=ORF1ab PE=3 SV=1</td>\n",
       "    </tr>\n",
       "    <tr>\n",
       "      <th>tr|A0A7D4GRX1|A0A7D4GRX1_SARS2</th>\n",
       "      <td>tr|A0A7D4GRX1|A0A7D4GRX1_SARS2</td>\n",
       "      <td>ORF1ab polyprotein OS</td>\n",
       "      <td>Severe acute respiratory syndrome coronavirus ...</td>\n",
       "      <td>2697049 GN=ORF1ab PE=4 SV=1</td>\n",
       "    </tr>\n",
       "    <tr>\n",
       "      <th>...</th>\n",
       "      <td>...</td>\n",
       "      <td>...</td>\n",
       "      <td>...</td>\n",
       "      <td>...</td>\n",
       "    </tr>\n",
       "    <tr>\n",
       "      <th>tr|A0A6M4MUN3|A0A6M4MUN3_SARS2</th>\n",
       "      <td>tr|A0A6M4MUN3|A0A6M4MUN3_SARS2</td>\n",
       "      <td>Accessory protein 6 OS</td>\n",
       "      <td>Severe acute respiratory syndrome coronavirus ...</td>\n",
       "      <td>2697049 GN=ORF6 PE=4 SV=1</td>\n",
       "    </tr>\n",
       "    <tr>\n",
       "      <th>tr|A0A6H2EGB9|A0A6H2EGB9_SARS2</th>\n",
       "      <td>tr|A0A6H2EGB9|A0A6H2EGB9_SARS2</td>\n",
       "      <td>2'-O-methyltransferase OS</td>\n",
       "      <td>Severe acute respiratory syndrome coronavirus ...</td>\n",
       "      <td>2697049 GN=ORF1ab PE=3 SV=1</td>\n",
       "    </tr>\n",
       "    <tr>\n",
       "      <th>tr|A0A6M4N1R7|A0A6M4N1R7_SARS2</th>\n",
       "      <td>tr|A0A6M4N1R7|A0A6M4N1R7_SARS2</td>\n",
       "      <td>Nucleoprotein OS</td>\n",
       "      <td>Severe acute respiratory syndrome coronavirus ...</td>\n",
       "      <td>2697049 GN=N PE=3 SV=1</td>\n",
       "    </tr>\n",
       "    <tr>\n",
       "      <th>tr|A0A6N1NLH7|A0A6N1NLH7_SARS2</th>\n",
       "      <td>tr|A0A6N1NLH7|A0A6N1NLH7_SARS2</td>\n",
       "      <td>Accessory protein 6 OS</td>\n",
       "      <td>Severe acute respiratory syndrome coronavirus ...</td>\n",
       "      <td>2697049 GN=ORF6 PE=4 SV=1</td>\n",
       "    </tr>\n",
       "    <tr>\n",
       "      <th>tr|A0A6N1WFR0|A0A6N1WFR0_SARS2</th>\n",
       "      <td>tr|A0A6N1WFR0|A0A6N1WFR0_SARS2</td>\n",
       "      <td>3C-like proteinase OS</td>\n",
       "      <td>Severe acute respiratory syndrome coronavirus ...</td>\n",
       "      <td>2697049 GN=ORF1ab PE=3 SV=1</td>\n",
       "    </tr>\n",
       "  </tbody>\n",
       "</table>\n",
       "<p>3139 rows × 4 columns</p>\n",
       "</div>"
      ],
      "text/plain": [
       "                                                             0  \\\n",
       "id                                                               \n",
       "tr|A0A6M6J105|A0A6M6J105_SARS2  tr|A0A6M6J105|A0A6M6J105_SARS2   \n",
       "tr|A0A6M4N1G6|A0A6M4N1G6_SARS2  tr|A0A6M4N1G6|A0A6M4N1G6_SARS2   \n",
       "tr|A0A6M4NIQ4|A0A6M4NIQ4_SARS2  tr|A0A6M4NIQ4|A0A6M4NIQ4_SARS2   \n",
       "tr|A0A6M4N6E0|A0A6M4N6E0_SARS2  tr|A0A6M4N6E0|A0A6M4N6E0_SARS2   \n",
       "tr|A0A7D4GRX1|A0A7D4GRX1_SARS2  tr|A0A7D4GRX1|A0A7D4GRX1_SARS2   \n",
       "...                                                        ...   \n",
       "tr|A0A6M4MUN3|A0A6M4MUN3_SARS2  tr|A0A6M4MUN3|A0A6M4MUN3_SARS2   \n",
       "tr|A0A6H2EGB9|A0A6H2EGB9_SARS2  tr|A0A6H2EGB9|A0A6H2EGB9_SARS2   \n",
       "tr|A0A6M4N1R7|A0A6M4N1R7_SARS2  tr|A0A6M4N1R7|A0A6M4N1R7_SARS2   \n",
       "tr|A0A6N1NLH7|A0A6N1NLH7_SARS2  tr|A0A6N1NLH7|A0A6N1NLH7_SARS2   \n",
       "tr|A0A6N1WFR0|A0A6N1WFR0_SARS2  tr|A0A6N1WFR0|A0A6N1WFR0_SARS2   \n",
       "\n",
       "                                                                 1  \\\n",
       "id                                                                   \n",
       "tr|A0A6M6J105|A0A6M6J105_SARS2               3C-like proteinase OS   \n",
       "tr|A0A6M4N1G6|A0A6M4N1G6_SARS2  Envelope small membrane protein OS   \n",
       "tr|A0A6M4NIQ4|A0A6M4NIQ4_SARS2    3C-like proteinase (Fragment) OS   \n",
       "tr|A0A6M4N6E0|A0A6M4N6E0_SARS2               3C-like proteinase OS   \n",
       "tr|A0A7D4GRX1|A0A7D4GRX1_SARS2               ORF1ab polyprotein OS   \n",
       "...                                                            ...   \n",
       "tr|A0A6M4MUN3|A0A6M4MUN3_SARS2              Accessory protein 6 OS   \n",
       "tr|A0A6H2EGB9|A0A6H2EGB9_SARS2           2'-O-methyltransferase OS   \n",
       "tr|A0A6M4N1R7|A0A6M4N1R7_SARS2                    Nucleoprotein OS   \n",
       "tr|A0A6N1NLH7|A0A6N1NLH7_SARS2              Accessory protein 6 OS   \n",
       "tr|A0A6N1WFR0|A0A6N1WFR0_SARS2               3C-like proteinase OS   \n",
       "\n",
       "                                                                                2  \\\n",
       "id                                                                                  \n",
       "tr|A0A6M6J105|A0A6M6J105_SARS2  Severe acute respiratory syndrome coronavirus ...   \n",
       "tr|A0A6M4N1G6|A0A6M4N1G6_SARS2  Severe acute respiratory syndrome coronavirus ...   \n",
       "tr|A0A6M4NIQ4|A0A6M4NIQ4_SARS2  Severe acute respiratory syndrome coronavirus ...   \n",
       "tr|A0A6M4N6E0|A0A6M4N6E0_SARS2  Severe acute respiratory syndrome coronavirus ...   \n",
       "tr|A0A7D4GRX1|A0A7D4GRX1_SARS2  Severe acute respiratory syndrome coronavirus ...   \n",
       "...                                                                           ...   \n",
       "tr|A0A6M4MUN3|A0A6M4MUN3_SARS2  Severe acute respiratory syndrome coronavirus ...   \n",
       "tr|A0A6H2EGB9|A0A6H2EGB9_SARS2  Severe acute respiratory syndrome coronavirus ...   \n",
       "tr|A0A6M4N1R7|A0A6M4N1R7_SARS2  Severe acute respiratory syndrome coronavirus ...   \n",
       "tr|A0A6N1NLH7|A0A6N1NLH7_SARS2  Severe acute respiratory syndrome coronavirus ...   \n",
       "tr|A0A6N1WFR0|A0A6N1WFR0_SARS2  Severe acute respiratory syndrome coronavirus ...   \n",
       "\n",
       "                                                          3  \n",
       "id                                                           \n",
       "tr|A0A6M6J105|A0A6M6J105_SARS2  2697049 GN=ORF1ab PE=3 SV=1  \n",
       "tr|A0A6M4N1G6|A0A6M4N1G6_SARS2       2697049 GN=E PE=3 SV=1  \n",
       "tr|A0A6M4NIQ4|A0A6M4NIQ4_SARS2  2697049 GN=ORF1ab PE=3 SV=1  \n",
       "tr|A0A6M4N6E0|A0A6M4N6E0_SARS2  2697049 GN=ORF1ab PE=3 SV=1  \n",
       "tr|A0A7D4GRX1|A0A7D4GRX1_SARS2  2697049 GN=ORF1ab PE=4 SV=1  \n",
       "...                                                     ...  \n",
       "tr|A0A6M4MUN3|A0A6M4MUN3_SARS2    2697049 GN=ORF6 PE=4 SV=1  \n",
       "tr|A0A6H2EGB9|A0A6H2EGB9_SARS2  2697049 GN=ORF1ab PE=3 SV=1  \n",
       "tr|A0A6M4N1R7|A0A6M4N1R7_SARS2       2697049 GN=N PE=3 SV=1  \n",
       "tr|A0A6N1NLH7|A0A6N1NLH7_SARS2    2697049 GN=ORF6 PE=4 SV=1  \n",
       "tr|A0A6N1WFR0|A0A6N1WFR0_SARS2  2697049 GN=ORF1ab PE=3 SV=1  \n",
       "\n",
       "[3139 rows x 4 columns]"
      ]
     },
     "execution_count": 6,
     "metadata": {},
     "output_type": "execute_result"
    }
   ],
   "source": [
    "# splitting the description text of positif dataset\n",
    "px = positif['description'].str.split(' ', 1, expand=True).copy()\n",
    "px[[1,2]] = px[1].str.split('=', 1, expand=True)\n",
    "px[[2,3]] = px[2].str.split('=', 1, expand=True)\n",
    "positif[['description','category','misc']] = px[[1,2,3]]\n",
    "px"
   ]
  },
  {
   "cell_type": "code",
   "execution_count": 7,
   "metadata": {},
   "outputs": [
    {
     "data": {
      "text/html": [
       "<div>\n",
       "<style scoped>\n",
       "    .dataframe tbody tr th:only-of-type {\n",
       "        vertical-align: middle;\n",
       "    }\n",
       "\n",
       "    .dataframe tbody tr th {\n",
       "        vertical-align: top;\n",
       "    }\n",
       "\n",
       "    .dataframe thead th {\n",
       "        text-align: right;\n",
       "    }\n",
       "</style>\n",
       "<table border=\"1\" class=\"dataframe\">\n",
       "  <thead>\n",
       "    <tr style=\"text-align: right;\">\n",
       "      <th></th>\n",
       "      <th>0</th>\n",
       "      <th>1</th>\n",
       "      <th>2</th>\n",
       "      <th>3</th>\n",
       "    </tr>\n",
       "    <tr>\n",
       "      <th>id</th>\n",
       "      <th></th>\n",
       "      <th></th>\n",
       "      <th></th>\n",
       "      <th></th>\n",
       "    </tr>\n",
       "  </thead>\n",
       "  <tbody>\n",
       "    <tr>\n",
       "      <th>sp|Q5TD94|RSH4A_HUMAN</th>\n",
       "      <td>sp|Q5TD94|RSH4A_HUMAN</td>\n",
       "      <td>Radial spoke head protein 4 homolog A OS</td>\n",
       "      <td>Homo sapiens OX</td>\n",
       "      <td>9606 GN=RSPH4A PE=1 SV=1</td>\n",
       "    </tr>\n",
       "    <tr>\n",
       "      <th>sp|Q14160|SCRIB_HUMAN</th>\n",
       "      <td>sp|Q14160|SCRIB_HUMAN</td>\n",
       "      <td>Protein scribble homolog OS</td>\n",
       "      <td>Homo sapiens OX</td>\n",
       "      <td>9606 GN=SCRIB PE=1 SV=4</td>\n",
       "    </tr>\n",
       "    <tr>\n",
       "      <th>sp|Q15436|SC23A_HUMAN</th>\n",
       "      <td>sp|Q15436|SC23A_HUMAN</td>\n",
       "      <td>Protein transport protein Sec23A OS</td>\n",
       "      <td>Homo sapiens OX</td>\n",
       "      <td>9606 GN=SEC23A PE=1 SV=2</td>\n",
       "    </tr>\n",
       "    <tr>\n",
       "      <th>sp|P51170|SCNNG_HUMAN</th>\n",
       "      <td>sp|P51170|SCNNG_HUMAN</td>\n",
       "      <td>Amiloride-sensitive sodium channel subunit gam...</td>\n",
       "      <td>Homo sapiens OX</td>\n",
       "      <td>9606 GN=SCNN1G PE=1 SV=4</td>\n",
       "    </tr>\n",
       "    <tr>\n",
       "      <th>sp|Q13228|SBP1_HUMAN</th>\n",
       "      <td>sp|Q13228|SBP1_HUMAN</td>\n",
       "      <td>Methanethiol oxidase OS</td>\n",
       "      <td>Homo sapiens OX</td>\n",
       "      <td>9606 GN=SELENBP1 PE=1 SV=2</td>\n",
       "    </tr>\n",
       "    <tr>\n",
       "      <th>...</th>\n",
       "      <td>...</td>\n",
       "      <td>...</td>\n",
       "      <td>...</td>\n",
       "      <td>...</td>\n",
       "    </tr>\n",
       "    <tr>\n",
       "      <th>sp|P57078|RIPK4_HUMAN</th>\n",
       "      <td>sp|P57078|RIPK4_HUMAN</td>\n",
       "      <td>Receptor-interacting serine/threonine-protein ...</td>\n",
       "      <td>Homo sapiens OX</td>\n",
       "      <td>9606 GN=RIPK4 PE=1 SV=1</td>\n",
       "    </tr>\n",
       "    <tr>\n",
       "      <th>sp|Q8TDP1|RNH2C_HUMAN</th>\n",
       "      <td>sp|Q8TDP1|RNH2C_HUMAN</td>\n",
       "      <td>Ribonuclease H2 subunit C OS</td>\n",
       "      <td>Homo sapiens OX</td>\n",
       "      <td>9606 GN=RNASEH2C PE=1 SV=1</td>\n",
       "    </tr>\n",
       "    <tr>\n",
       "      <th>sp|Q9BQ52|RNZ2_HUMAN</th>\n",
       "      <td>sp|Q9BQ52|RNZ2_HUMAN</td>\n",
       "      <td>Zinc phosphodiesterase ELAC protein 2 OS</td>\n",
       "      <td>Homo sapiens OX</td>\n",
       "      <td>9606 GN=ELAC2 PE=1 SV=2</td>\n",
       "    </tr>\n",
       "    <tr>\n",
       "      <th>sp|Q9UL12|SARDH_HUMAN</th>\n",
       "      <td>sp|Q9UL12|SARDH_HUMAN</td>\n",
       "      <td>Sarcosine dehydrogenase, mitochondrial OS</td>\n",
       "      <td>Homo sapiens OX</td>\n",
       "      <td>9606 GN=SARDH PE=1 SV=1</td>\n",
       "    </tr>\n",
       "    <tr>\n",
       "      <th>sp|Q9Y397|ZDHC9_HUMAN</th>\n",
       "      <td>sp|Q9Y397|ZDHC9_HUMAN</td>\n",
       "      <td>Palmitoyltransferase ZDHHC9 OS</td>\n",
       "      <td>Homo sapiens OX</td>\n",
       "      <td>9606 GN=ZDHHC9 PE=1 SV=2</td>\n",
       "    </tr>\n",
       "  </tbody>\n",
       "</table>\n",
       "<p>4106 rows × 4 columns</p>\n",
       "</div>"
      ],
      "text/plain": [
       "                                           0  \\\n",
       "id                                             \n",
       "sp|Q5TD94|RSH4A_HUMAN  sp|Q5TD94|RSH4A_HUMAN   \n",
       "sp|Q14160|SCRIB_HUMAN  sp|Q14160|SCRIB_HUMAN   \n",
       "sp|Q15436|SC23A_HUMAN  sp|Q15436|SC23A_HUMAN   \n",
       "sp|P51170|SCNNG_HUMAN  sp|P51170|SCNNG_HUMAN   \n",
       "sp|Q13228|SBP1_HUMAN    sp|Q13228|SBP1_HUMAN   \n",
       "...                                      ...   \n",
       "sp|P57078|RIPK4_HUMAN  sp|P57078|RIPK4_HUMAN   \n",
       "sp|Q8TDP1|RNH2C_HUMAN  sp|Q8TDP1|RNH2C_HUMAN   \n",
       "sp|Q9BQ52|RNZ2_HUMAN    sp|Q9BQ52|RNZ2_HUMAN   \n",
       "sp|Q9UL12|SARDH_HUMAN  sp|Q9UL12|SARDH_HUMAN   \n",
       "sp|Q9Y397|ZDHC9_HUMAN  sp|Q9Y397|ZDHC9_HUMAN   \n",
       "\n",
       "                                                                       1  \\\n",
       "id                                                                         \n",
       "sp|Q5TD94|RSH4A_HUMAN           Radial spoke head protein 4 homolog A OS   \n",
       "sp|Q14160|SCRIB_HUMAN                        Protein scribble homolog OS   \n",
       "sp|Q15436|SC23A_HUMAN                Protein transport protein Sec23A OS   \n",
       "sp|P51170|SCNNG_HUMAN  Amiloride-sensitive sodium channel subunit gam...   \n",
       "sp|Q13228|SBP1_HUMAN                             Methanethiol oxidase OS   \n",
       "...                                                                  ...   \n",
       "sp|P57078|RIPK4_HUMAN  Receptor-interacting serine/threonine-protein ...   \n",
       "sp|Q8TDP1|RNH2C_HUMAN                       Ribonuclease H2 subunit C OS   \n",
       "sp|Q9BQ52|RNZ2_HUMAN            Zinc phosphodiesterase ELAC protein 2 OS   \n",
       "sp|Q9UL12|SARDH_HUMAN          Sarcosine dehydrogenase, mitochondrial OS   \n",
       "sp|Q9Y397|ZDHC9_HUMAN                     Palmitoyltransferase ZDHHC9 OS   \n",
       "\n",
       "                                     2                           3  \n",
       "id                                                                  \n",
       "sp|Q5TD94|RSH4A_HUMAN  Homo sapiens OX    9606 GN=RSPH4A PE=1 SV=1  \n",
       "sp|Q14160|SCRIB_HUMAN  Homo sapiens OX     9606 GN=SCRIB PE=1 SV=4  \n",
       "sp|Q15436|SC23A_HUMAN  Homo sapiens OX    9606 GN=SEC23A PE=1 SV=2  \n",
       "sp|P51170|SCNNG_HUMAN  Homo sapiens OX    9606 GN=SCNN1G PE=1 SV=4  \n",
       "sp|Q13228|SBP1_HUMAN   Homo sapiens OX  9606 GN=SELENBP1 PE=1 SV=2  \n",
       "...                                ...                         ...  \n",
       "sp|P57078|RIPK4_HUMAN  Homo sapiens OX     9606 GN=RIPK4 PE=1 SV=1  \n",
       "sp|Q8TDP1|RNH2C_HUMAN  Homo sapiens OX  9606 GN=RNASEH2C PE=1 SV=1  \n",
       "sp|Q9BQ52|RNZ2_HUMAN   Homo sapiens OX     9606 GN=ELAC2 PE=1 SV=2  \n",
       "sp|Q9UL12|SARDH_HUMAN  Homo sapiens OX     9606 GN=SARDH PE=1 SV=1  \n",
       "sp|Q9Y397|ZDHC9_HUMAN  Homo sapiens OX    9606 GN=ZDHHC9 PE=1 SV=2  \n",
       "\n",
       "[4106 rows x 4 columns]"
      ]
     },
     "execution_count": 7,
     "metadata": {},
     "output_type": "execute_result"
    }
   ],
   "source": [
    "# splitting the description text of negatif dataset\n",
    "nx = negatif['description'].str.split(' ', 1, expand=True).copy()\n",
    "nx[[1,2]] = nx[1].str.split('=', 1, expand=True)\n",
    "nx[[2,3]] = nx[2].str.split('=', 1, expand=True)\n",
    "negatif[['description','category','misc']] = nx[[1,2,3]]\n",
    "nx"
   ]
  },
  {
   "cell_type": "code",
   "execution_count": 8,
   "metadata": {},
   "outputs": [],
   "source": [
    "# join the dataframe\n",
    "df = pd.concat([positif,negatif])"
   ]
  },
  {
   "cell_type": "markdown",
   "metadata": {},
   "source": [
    "## Exploration"
   ]
  },
  {
   "cell_type": "code",
   "execution_count": 9,
   "metadata": {},
   "outputs": [
    {
     "data": {
      "text/plain": [
       "<AxesSubplot:xlabel='length', ylabel='Count'>"
      ]
     },
     "execution_count": 9,
     "metadata": {},
     "output_type": "execute_result"
    },
    {
     "data": {
      "image/png": "[encoded data removed]",
      "text/plain": [
       "<Figure size 720x720 with 1 Axes>"
      ]
     },
     "metadata": {},
     "output_type": "display_data"
    }
   ],
   "source": [
    "# histogram plot of sequences' length\n",
    "fig, ax = plt.subplots(figsize=(10,10))\n",
    "sns.histplot(df['length'], ax=ax)"
   ]
  },
  {
   "cell_type": "code",
   "execution_count": 10,
   "metadata": {},
   "outputs": [
    {
     "data": {
      "text/plain": [
       "count                          7245\n",
       "unique                         4153\n",
       "top       2'-O-methyltransferase OS\n",
       "freq                            809\n",
       "Name: description, dtype: object"
      ]
     },
     "execution_count": 10,
     "metadata": {},
     "output_type": "execute_result"
    }
   ],
   "source": [
    "# desc. stats of description\n",
    "df.description.describe()"
   ]
  },
  {
   "cell_type": "code",
   "execution_count": 11,
   "metadata": {},
   "outputs": [
    {
     "data": {
      "text/plain": [
       "count                                                  7245\n",
       "unique                                                 7201\n",
       "top       RXAPHGHVMVELVAELEGIQYGRSGETLGVLVPHVGEIPVAYRKVL...\n",
       "freq                                                      6\n",
       "Name: sequence, dtype: object"
      ]
     },
     "execution_count": 11,
     "metadata": {},
     "output_type": "execute_result"
    }
   ],
   "source": [
    "# desc. stats of sequence\n",
    "df.sequence.describe()"
   ]
  },
  {
   "cell_type": "code",
   "execution_count": 12,
   "metadata": {},
   "outputs": [
    {
     "data": {
      "image/png": "[encoded data removed]",
      "text/plain": [
       "<Figure size 432x288 with 1 Axes>"
      ]
     },
     "metadata": {},
     "output_type": "display_data"
    }
   ],
   "source": [
    "# value counts of category, to find out wether the data imbalance or not\n",
    "plt.hist(df.category, edgecolor = 'k'); \n",
    "plt.xlabel('Label'); plt.ylabel('Count'); plt.title('Counts of Labels');"
   ]
  },
  {
   "cell_type": "code",
   "execution_count": 13,
   "metadata": {},
   "outputs": [
    {
     "data": {
      "text/plain": [
       "count     7245.000000\n",
       "mean      1962.365079\n",
       "std       2393.274102\n",
       "min         25.000000\n",
       "25%        406.000000\n",
       "50%        748.000000\n",
       "75%       2699.000000\n",
       "max      34350.000000\n",
       "Name: length, dtype: float64"
      ]
     },
     "execution_count": 13,
     "metadata": {},
     "output_type": "execute_result"
    }
   ],
   "source": [
    "# desc. stats of length\n",
    "df.length.describe()"
   ]
  },
  {
   "cell_type": "code",
   "execution_count": 14,
   "metadata": {},
   "outputs": [
    {
     "data": {
      "text/plain": [
       "7096"
      ]
     },
     "execution_count": 14,
     "metadata": {},
     "output_type": "execute_result"
    }
   ],
   "source": [
    "# max length of 99% quantile data\n",
    "maxlength = int(df.length.quantile(0.99))\n",
    "maxlength"
   ]
  },
  {
   "cell_type": "markdown",
   "metadata": {},
   "source": [
    "## Preprocessing"
   ]
  },
  {
   "cell_type": "code",
   "execution_count": 15,
   "metadata": {},
   "outputs": [],
   "source": [
    "# transform label to binary\n",
    "dx = df[['sequence','category']].copy()\n",
    "lb = LabelBinarizer()\n",
    "dx['category'] = lb.fit_transform(dx['category'])"
   ]
  },
  {
   "cell_type": "code",
   "execution_count": 16,
   "metadata": {},
   "outputs": [],
   "source": [
    "# set up tokenizer\n",
    "tokenizer = Tokenizer(char_level=True)"
   ]
  },
  {
   "cell_type": "code",
   "execution_count": 17,
   "metadata": {},
   "outputs": [],
   "source": [
    "# sequence tokenizing\n",
    "tokenizer.fit_on_texts(dx.sequence.values)\n",
    "x = tokenizer.texts_to_sequences(dx.sequence.values)\n",
    "x = sequence.pad_sequences(x, maxlen=maxlength)"
   ]
  },
  {
   "cell_type": "code",
   "execution_count": 18,
   "metadata": {},
   "outputs": [
    {
     "data": {
      "text/plain": [
       "ElasticNet()"
      ]
     },
     "execution_count": 18,
     "metadata": {},
     "output_type": "execute_result"
    }
   ],
   "source": [
    "# fit regression for reature importance\n",
    "fs = ElasticNet()\n",
    "fs.fit(x,dx.category.values)"
   ]
  },
  {
   "cell_type": "code",
   "execution_count": 19,
   "metadata": {},
   "outputs": [
    {
     "data": {
      "text/plain": [
       "array([-0.00360533, -0.00278628, -0.00246416, -0.0019132 , -0.00186833,\n",
       "       -0.00157084, -0.00078169, -0.00062731, -0.00046855,  0.        ,\n",
       "        0.00036757,  0.00080638,  0.00091615,  0.0010412 ,  0.00157882,\n",
       "        0.00218539,  0.00250739,  0.00285551,  0.00303181,  0.00677662,\n",
       "        0.0072493 ,  0.01853464])"
      ]
     },
     "execution_count": 19,
     "metadata": {},
     "output_type": "execute_result"
    }
   ],
   "source": [
    "# importance value of features\n",
    "importance = fs.coef_\n",
    "np.unique(importance)"
   ]
  },
  {
   "cell_type": "code",
   "execution_count": 20,
   "metadata": {},
   "outputs": [
    {
     "data": {
      "text/plain": [
       "[3336,\n",
       " 3665,\n",
       " 5871,\n",
       " 5879,\n",
       " 5975,\n",
       " 6083,\n",
       " 6643,\n",
       " 6667,\n",
       " 6722,\n",
       " 6789,\n",
       " 6811,\n",
       " 6843,\n",
       " 6873,\n",
       " 6906,\n",
       " 6908,\n",
       " 7002,\n",
       " 7006,\n",
       " 7032,\n",
       " 7063,\n",
       " 7065,\n",
       " 7092]"
      ]
     },
     "execution_count": 20,
     "metadata": {},
     "output_type": "execute_result"
    }
   ],
   "source": [
    "# selected features withvalue > 0\n",
    "sf = list(np.array(np.where(importance!=0))[0])\n",
    "sf"
   ]
  },
  {
   "cell_type": "code",
   "execution_count": 21,
   "metadata": {},
   "outputs": [
    {
     "data": {
      "text/plain": [
       "(7245, 21)"
      ]
     },
     "execution_count": 21,
     "metadata": {},
     "output_type": "execute_result"
    }
   ],
   "source": [
    "# selected features data\n",
    "X = x[:,sf]\n",
    "\n",
    "# print out the shape of selected features data\n",
    "X.shape"
   ]
  },
  {
   "cell_type": "code",
   "execution_count": 22,
   "metadata": {},
   "outputs": [
    {
     "data": {
      "text/plain": [
       "(7245,)"
      ]
     },
     "execution_count": 22,
     "metadata": {},
     "output_type": "execute_result"
    }
   ],
   "source": [
    "# print out label shape\n",
    "y = np.array(dx.category)\n",
    "y.shape"
   ]
  },
  {
   "cell_type": "code",
   "execution_count": 23,
   "metadata": {},
   "outputs": [],
   "source": [
    "# split data for training and testing\n",
    "x_train, x_test, y_train, y_test = train_test_split(X,y, test_size=0.2, random_state=1)"
   ]
  },
  {
   "cell_type": "markdown",
   "metadata": {},
   "source": [
    "## Training"
   ]
  },
  {
   "cell_type": "code",
   "execution_count": 24,
   "metadata": {},
   "outputs": [
    {
     "data": {
      "text/plain": [
       "{'boosting_type': 'gbdt',\n",
       " 'class_weight': None,\n",
       " 'colsample_bytree': 1.0,\n",
       " 'importance_type': 'split',\n",
       " 'learning_rate': 0.1,\n",
       " 'max_depth': -1,\n",
       " 'min_child_samples': 20,\n",
       " 'min_child_weight': 0.001,\n",
       " 'min_split_gain': 0.0,\n",
       " 'n_estimators': 100,\n",
       " 'n_jobs': -1,\n",
       " 'num_leaves': 31,\n",
       " 'objective': None,\n",
       " 'random_state': None,\n",
       " 'reg_alpha': 0.0,\n",
       " 'reg_lambda': 0.0,\n",
       " 'silent': True,\n",
       " 'subsample': 1.0,\n",
       " 'subsample_for_bin': 200000,\n",
       " 'subsample_freq': 0,\n",
       " 'verbose': -1,\n",
       " 'force_col_wise': True}"
      ]
     },
     "execution_count": 24,
     "metadata": {},
     "output_type": "execute_result"
    }
   ],
   "source": [
    "# define LGBMClassifier model and show the default parameters\n",
    "model = lgb.LGBMClassifier(verbose=-1, force_col_wise=True)\n",
    "model.get_params()"
   ]
  },
  {
   "cell_type": "code",
   "execution_count": 25,
   "metadata": {},
   "outputs": [],
   "source": [
    "# search space\n",
    "space = {\n",
    "    'class_weight': Categorical([None, 'balanced']),\n",
    "    'boosting_type': Categorical(['gbdt', 'goss','dart']),\n",
    "    'num_leaves': Integer(30,50),\n",
    "    'learning_rate': Real(0.005, 0.2, 'log-uniform'),\n",
    "    'subsample_for_bin': Integer(20000, 300000),\n",
    "    'min_child_samples': Integer(20, 500),\n",
    "    'reg_alpha': Real(0, 1),\n",
    "    'reg_lambda': Real(0, 1),\n",
    "    'colsample_bytree': Real(0.6, 1),\n",
    "}"
   ]
  },
  {
   "cell_type": "code",
   "execution_count": 26,
   "metadata": {},
   "outputs": [
    {
     "data": {
      "text/plain": [
       "BayesSearchCV(estimator=LGBMClassifier(force_col_wise=True, verbose=-1),\n",
       "              n_iter=20, random_state=0,\n",
       "              search_spaces={'boosting_type': Categorical(categories=('gbdt', 'goss', 'dart'), prior=None),\n",
       "                             'class_weight': Categorical(categories=(None, 'balanced'), prior=None),\n",
       "                             'colsample_bytree': Real(low=0.6, high=1, prior='uniform', transform='identity'),\n",
       "                             'learning_rate': Real...\n",
       "                             'min_child_samples': Integer(low=20, high=500, prior='uniform', transform='identity'),\n",
       "                             'num_leaves': Integer(low=30, high=50, prior='uniform', transform='identity'),\n",
       "                             'reg_alpha': Real(low=0, high=1, prior='uniform', transform='identity'),\n",
       "                             'reg_lambda': Real(low=0, high=1, prior='uniform', transform='identity'),\n",
       "                             'subsample_for_bin': Integer(low=20000, high=300000, prior='uniform', transform='identity')})"
      ]
     },
     "execution_count": 26,
     "metadata": {},
     "output_type": "execute_result"
    }
   ],
   "source": [
    "# bayesian optimization over hyper parameters\n",
    "optimization = BayesSearchCV(model, space, n_iter=20, random_state=0)\n",
    "optimization.fit(x_train,y_train)"
   ]
  },
  {
   "cell_type": "markdown",
   "metadata": {},
   "source": [
    "## Results"
   ]
  },
  {
   "cell_type": "code",
   "execution_count": 27,
   "metadata": {},
   "outputs": [
    {
     "name": "stdout",
     "output_type": "stream",
     "text": [
      "val. score : 0.9930986887508627\n",
      "test score : 0.9924085576259489\n"
     ]
    }
   ],
   "source": [
    "# score\n",
    "print('val. score :',optimization.best_score_)\n",
    "print('test score :',optimization.score(x_test,y_test))"
   ]
  },
  {
   "cell_type": "code",
   "execution_count": 28,
   "metadata": {},
   "outputs": [
    {
     "data": {
      "text/plain": [
       "OrderedDict([('boosting_type', 'goss'),\n",
       "             ('class_weight', None),\n",
       "             ('colsample_bytree', 0.6),\n",
       "             ('learning_rate', 0.2),\n",
       "             ('min_child_samples', 20),\n",
       "             ('num_leaves', 50),\n",
       "             ('reg_alpha', 0.0),\n",
       "             ('reg_lambda', 0.0),\n",
       "             ('subsample_for_bin', 300000)])"
      ]
     },
     "execution_count": 28,
     "metadata": {},
     "output_type": "execute_result"
    }
   ],
   "source": [
    "# best parameters\n",
    "optimization.best_params_"
   ]
  },
  {
   "cell_type": "code",
   "execution_count": 29,
   "metadata": {},
   "outputs": [
    {
     "name": "stdout",
     "output_type": "stream",
     "text": [
      "                                                    precision    recall  f1-score   support\n",
      "\n",
      "                                   Homo sapiens OX       0.99      1.00      0.99       820\n",
      "Severe acute respiratory syndrome coronavirus 2 OX       0.99      0.99      0.99       629\n",
      "\n",
      "                                          accuracy                           0.99      1449\n",
      "                                         macro avg       0.99      0.99      0.99      1449\n",
      "                                      weighted avg       0.99      0.99      0.99      1449\n",
      "\n"
     ]
    }
   ],
   "source": [
    "# show classification report\n",
    "predictions = optimization.predict(x_test)\n",
    "print(classification_report(y_test, predictions, target_names = lb.classes_))"
   ]
  },
  {
   "cell_type": "code",
   "execution_count": 30,
   "metadata": {},
   "outputs": [
    {
     "data": {
      "image/png": "[encoded data removed]",
      "text/plain": [
       "<Figure size 640x480 with 2 Axes>"
      ]
     },
     "metadata": {},
     "output_type": "display_data"
    }
   ],
   "source": [
    "# show confusion matrix\n",
    "plt.style.use(style=\"classic\")\n",
    "cm = confusion_matrix(y_test, predictions)\n",
    "disp = ConfusionMatrixDisplay(confusion_matrix=cm, display_labels=lb.classes_)\n",
    "disp.plot()\n",
    "plt.xticks(rotation=90)\n",
    "plt.show()"
   ]
  }
 ],
 "metadata": {
  "interpreter": {
   "hash": "493e0250bb5fe87cbd2702042bdb35536f6a5960e23640f849cdbcae86dc9e58"
  },
  "kernelspec": {
   "display_name": "Python 3.8.11 64-bit ('001_sarscov2-protein-classification-lightg-UNkJeX7T': venv)",
   "name": "python3"
  },
  "language_info": {
   "codemirror_mode": {
    "name": "ipython",
    "version": 3
   },
   "file_extension": ".py",
   "mimetype": "text/x-python",
   "name": "python",
   "nbconvert_exporter": "python",
   "pygments_lexer": "ipython3",
   "version": "3.8.11"
  },
  "orig_nbformat": 2
 },
 "nbformat": 4,
 "nbformat_minor": 2
}
