{
 "cells": [
  {
   "cell_type": "markdown",
   "metadata": {},
   "source": [
    "# SARSCov2 Protein Sequences Classification"
   ]
  },
  {
   "cell_type": "markdown",
   "metadata": {},
   "source": [
    "## Data Preparation"
   ]
  },
  {
   "cell_type": "code",
   "execution_count": 1,
   "metadata": {},
   "outputs": [],
   "source": [
    "# import libraries\n",
    "import os\n",
    "from Bio import SeqIO\n",
    "import pandas as pd\n",
    "import matplotlib.pyplot as plt\n",
    "import numpy as np\n",
    "import seaborn as sns\n",
    "from sklearn.preprocessing import LabelBinarizer\n",
    "from sklearn.linear_model import ElasticNet\n",
    "from sklearn.model_selection import train_test_split\n",
    "from tensorflow.keras.preprocessing.text import Tokenizer\n",
    "from tensorflow.keras.preprocessing import sequence\n",
    "import lightgbm as lgb\n",
    "from skopt.space import Real, Categorical, Integer\n",
    "from skopt import BayesSearchCV\n",
    "%matplotlib inline\n",
    "sns.set(style=\"darkgrid\")"
   ]
  },
  {
   "cell_type": "code",
   "execution_count": 2,
   "metadata": {},
   "outputs": [],
   "source": [
    "# function to convert fasta records into pandas dataframe\n",
    "def read_fasta(file):\n",
    "    with open(file) as fasta_file:\n",
    "        identifiers = []\n",
    "        names = []\n",
    "        sequences = []\n",
    "        lengths = []\n",
    "        descriptions = []\n",
    "        features = []\n",
    "        for seq_record in SeqIO.parse(fasta_file, 'fasta'):\n",
    "            identifiers.append(seq_record.id)\n",
    "            names.append(seq_record.name)\n",
    "            sequences.append(str(seq_record.seq))\n",
    "            lengths.append(len(seq_record.seq))\n",
    "            descriptions.append(seq_record.description)\n",
    "            features.append(seq_record.features)   \n",
    "    s1 = pd.Series(identifiers, name='id')\n",
    "    s2 = pd.Series(names, name='name')\n",
    "    s3 = pd.Series(sequences, name='sequence')\n",
    "    s4 = pd.Series(lengths, name='length')\n",
    "    s5 = pd.Series(descriptions, name='description')\n",
    "    s6 = pd.Series(features, name='feature')\n",
    "    df = pd.DataFrame(dict(id=s1, name=s2, sequence=s3, length=s4, description=s5, feature=s6)).set_index(['id'])\n",
    "    return df"
   ]
  },
  {
   "cell_type": "code",
   "execution_count": 3,
   "metadata": {},
   "outputs": [],
   "source": [
    "# read the dataset\n",
    "positif = read_fasta(os.path.join('data','positif.fasta'))\n",
    "negatif = read_fasta(os.path.join('data','negatif.fasta'))"
   ]
  },
  {
   "cell_type": "code",
   "execution_count": 4,
   "metadata": {},
   "outputs": [
    {
     "data": {
      "text/html": [
       "<div>\n",
       "<style scoped>\n",
       "    .dataframe tbody tr th:only-of-type {\n",
       "        vertical-align: middle;\n",
       "    }\n",
       "\n",
       "    .dataframe tbody tr th {\n",
       "        vertical-align: top;\n",
       "    }\n",
       "\n",
       "    .dataframe thead th {\n",
       "        text-align: right;\n",
       "    }\n",
       "</style>\n",
       "<table border=\"1\" class=\"dataframe\">\n",
       "  <thead>\n",
       "    <tr style=\"text-align: right;\">\n",
       "      <th></th>\n",
       "      <th>name</th>\n",
       "      <th>sequence</th>\n",
       "      <th>length</th>\n",
       "      <th>description</th>\n",
       "      <th>feature</th>\n",
       "    </tr>\n",
       "    <tr>\n",
       "      <th>id</th>\n",
       "      <th></th>\n",
       "      <th></th>\n",
       "      <th></th>\n",
       "      <th></th>\n",
       "      <th></th>\n",
       "    </tr>\n",
       "  </thead>\n",
       "  <tbody>\n",
       "    <tr>\n",
       "      <th>tr|A0A6M6J105|A0A6M6J105_SARS2</th>\n",
       "      <td>tr|A0A6M6J105|A0A6M6J105_SARS2</td>\n",
       "      <td>MESLVPGFNEKTHVQLSLPVLQVRDVLVRGFGDSVEEVLSEARQHL...</td>\n",
       "      <td>4405</td>\n",
       "      <td>tr|A0A6M6J105|A0A6M6J105_SARS2 3C-like protein...</td>\n",
       "      <td>[]</td>\n",
       "    </tr>\n",
       "    <tr>\n",
       "      <th>tr|A0A6M4N1G6|A0A6M4N1G6_SARS2</th>\n",
       "      <td>tr|A0A6M4N1G6|A0A6M4N1G6_SARS2</td>\n",
       "      <td>MYSFVSEETGTLIXNSVLLFLAFVVFLLVTLAILTALRLCAYCCNI...</td>\n",
       "      <td>75</td>\n",
       "      <td>tr|A0A6M4N1G6|A0A6M4N1G6_SARS2 Envelope small ...</td>\n",
       "      <td>[]</td>\n",
       "    </tr>\n",
       "    <tr>\n",
       "      <th>tr|A0A6M4NIQ4|A0A6M4NIQ4_SARS2</th>\n",
       "      <td>tr|A0A6M4NIQ4|A0A6M4NIQ4_SARS2</td>\n",
       "      <td>MESLVPGFNEKTHVQLSLPVLQVRDVLXRGFGDSVEEVLSEARQHL...</td>\n",
       "      <td>4371</td>\n",
       "      <td>tr|A0A6M4NIQ4|A0A6M4NIQ4_SARS2 3C-like protein...</td>\n",
       "      <td>[]</td>\n",
       "    </tr>\n",
       "    <tr>\n",
       "      <th>tr|A0A6M4N6E0|A0A6M4N6E0_SARS2</th>\n",
       "      <td>tr|A0A6M4N6E0|A0A6M4N6E0_SARS2</td>\n",
       "      <td>MESLVPXFNEKTHVQLSLPVLQVRDVLVRGFGDSVEEVLSEARQHL...</td>\n",
       "      <td>4405</td>\n",
       "      <td>tr|A0A6M4N6E0|A0A6M4N6E0_SARS2 3C-like protein...</td>\n",
       "      <td>[]</td>\n",
       "    </tr>\n",
       "    <tr>\n",
       "      <th>tr|A0A7D4GRX1|A0A7D4GRX1_SARS2</th>\n",
       "      <td>tr|A0A7D4GRX1|A0A7D4GRX1_SARS2</td>\n",
       "      <td>MESLVPGFNEKTHVQLSLPVLQVRDVLVRGFGDSVEEVLSEARQHL...</td>\n",
       "      <td>7096</td>\n",
       "      <td>tr|A0A7D4GRX1|A0A7D4GRX1_SARS2 ORF1ab polyprot...</td>\n",
       "      <td>[]</td>\n",
       "    </tr>\n",
       "    <tr>\n",
       "      <th>...</th>\n",
       "      <td>...</td>\n",
       "      <td>...</td>\n",
       "      <td>...</td>\n",
       "      <td>...</td>\n",
       "      <td>...</td>\n",
       "    </tr>\n",
       "    <tr>\n",
       "      <th>tr|A0A6M4MUN3|A0A6M4MUN3_SARS2</th>\n",
       "      <td>tr|A0A6M4MUN3|A0A6M4MUN3_SARS2</td>\n",
       "      <td>MFHLVDFQVTIAEILLIIMRTFKVSILNLDYIINLIIKNLSKSLTE...</td>\n",
       "      <td>61</td>\n",
       "      <td>tr|A0A6M4MUN3|A0A6M4MUN3_SARS2 Accessory prote...</td>\n",
       "      <td>[]</td>\n",
       "    </tr>\n",
       "    <tr>\n",
       "      <th>tr|A0A6H2EGB9|A0A6H2EGB9_SARS2</th>\n",
       "      <td>tr|A0A6H2EGB9|A0A6H2EGB9_SARS2</td>\n",
       "      <td>MESLVPGFNEKTHVQLSLPVLQVRDVLVRGFGDSVEEVLSEARQHL...</td>\n",
       "      <td>7096</td>\n",
       "      <td>tr|A0A6H2EGB9|A0A6H2EGB9_SARS2 2'-O-methyltran...</td>\n",
       "      <td>[]</td>\n",
       "    </tr>\n",
       "    <tr>\n",
       "      <th>tr|A0A6M4N1R7|A0A6M4N1R7_SARS2</th>\n",
       "      <td>tr|A0A6M4N1R7|A0A6M4N1R7_SARS2</td>\n",
       "      <td>MSDNGPQNQRNAPRITFGGPSDSTGSNQNGERSGARSKQRRPQGLP...</td>\n",
       "      <td>419</td>\n",
       "      <td>tr|A0A6M4N1R7|A0A6M4N1R7_SARS2 Nucleoprotein O...</td>\n",
       "      <td>[]</td>\n",
       "    </tr>\n",
       "    <tr>\n",
       "      <th>tr|A0A6N1NLH7|A0A6N1NLH7_SARS2</th>\n",
       "      <td>tr|A0A6N1NLH7|A0A6N1NLH7_SARS2</td>\n",
       "      <td>MFHLVDFQVTIAEILLIIMRTFKVSIWNLDYIINLIIKNLSKSLTE...</td>\n",
       "      <td>61</td>\n",
       "      <td>tr|A0A6N1NLH7|A0A6N1NLH7_SARS2 Accessory prote...</td>\n",
       "      <td>[]</td>\n",
       "    </tr>\n",
       "    <tr>\n",
       "      <th>tr|A0A6N1WFR0|A0A6N1WFR0_SARS2</th>\n",
       "      <td>tr|A0A6N1WFR0|A0A6N1WFR0_SARS2</td>\n",
       "      <td>MESLVPGFNEKTHVQLSLPVLQVRDVLVRGFGDSVEEVLSEARQHL...</td>\n",
       "      <td>4405</td>\n",
       "      <td>tr|A0A6N1WFR0|A0A6N1WFR0_SARS2 3C-like protein...</td>\n",
       "      <td>[]</td>\n",
       "    </tr>\n",
       "  </tbody>\n",
       "</table>\n",
       "<p>3139 rows × 5 columns</p>\n",
       "</div>"
      ],
      "text/plain": [
       "                                                          name  \\\n",
       "id                                                               \n",
       "tr|A0A6M6J105|A0A6M6J105_SARS2  tr|A0A6M6J105|A0A6M6J105_SARS2   \n",
       "tr|A0A6M4N1G6|A0A6M4N1G6_SARS2  tr|A0A6M4N1G6|A0A6M4N1G6_SARS2   \n",
       "tr|A0A6M4NIQ4|A0A6M4NIQ4_SARS2  tr|A0A6M4NIQ4|A0A6M4NIQ4_SARS2   \n",
       "tr|A0A6M4N6E0|A0A6M4N6E0_SARS2  tr|A0A6M4N6E0|A0A6M4N6E0_SARS2   \n",
       "tr|A0A7D4GRX1|A0A7D4GRX1_SARS2  tr|A0A7D4GRX1|A0A7D4GRX1_SARS2   \n",
       "...                                                        ...   \n",
       "tr|A0A6M4MUN3|A0A6M4MUN3_SARS2  tr|A0A6M4MUN3|A0A6M4MUN3_SARS2   \n",
       "tr|A0A6H2EGB9|A0A6H2EGB9_SARS2  tr|A0A6H2EGB9|A0A6H2EGB9_SARS2   \n",
       "tr|A0A6M4N1R7|A0A6M4N1R7_SARS2  tr|A0A6M4N1R7|A0A6M4N1R7_SARS2   \n",
       "tr|A0A6N1NLH7|A0A6N1NLH7_SARS2  tr|A0A6N1NLH7|A0A6N1NLH7_SARS2   \n",
       "tr|A0A6N1WFR0|A0A6N1WFR0_SARS2  tr|A0A6N1WFR0|A0A6N1WFR0_SARS2   \n",
       "\n",
       "                                                                         sequence  \\\n",
       "id                                                                                  \n",
       "tr|A0A6M6J105|A0A6M6J105_SARS2  MESLVPGFNEKTHVQLSLPVLQVRDVLVRGFGDSVEEVLSEARQHL...   \n",
       "tr|A0A6M4N1G6|A0A6M4N1G6_SARS2  MYSFVSEETGTLIXNSVLLFLAFVVFLLVTLAILTALRLCAYCCNI...   \n",
       "tr|A0A6M4NIQ4|A0A6M4NIQ4_SARS2  MESLVPGFNEKTHVQLSLPVLQVRDVLXRGFGDSVEEVLSEARQHL...   \n",
       "tr|A0A6M4N6E0|A0A6M4N6E0_SARS2  MESLVPXFNEKTHVQLSLPVLQVRDVLVRGFGDSVEEVLSEARQHL...   \n",
       "tr|A0A7D4GRX1|A0A7D4GRX1_SARS2  MESLVPGFNEKTHVQLSLPVLQVRDVLVRGFGDSVEEVLSEARQHL...   \n",
       "...                                                                           ...   \n",
       "tr|A0A6M4MUN3|A0A6M4MUN3_SARS2  MFHLVDFQVTIAEILLIIMRTFKVSILNLDYIINLIIKNLSKSLTE...   \n",
       "tr|A0A6H2EGB9|A0A6H2EGB9_SARS2  MESLVPGFNEKTHVQLSLPVLQVRDVLVRGFGDSVEEVLSEARQHL...   \n",
       "tr|A0A6M4N1R7|A0A6M4N1R7_SARS2  MSDNGPQNQRNAPRITFGGPSDSTGSNQNGERSGARSKQRRPQGLP...   \n",
       "tr|A0A6N1NLH7|A0A6N1NLH7_SARS2  MFHLVDFQVTIAEILLIIMRTFKVSIWNLDYIINLIIKNLSKSLTE...   \n",
       "tr|A0A6N1WFR0|A0A6N1WFR0_SARS2  MESLVPGFNEKTHVQLSLPVLQVRDVLVRGFGDSVEEVLSEARQHL...   \n",
       "\n",
       "                                length  \\\n",
       "id                                       \n",
       "tr|A0A6M6J105|A0A6M6J105_SARS2    4405   \n",
       "tr|A0A6M4N1G6|A0A6M4N1G6_SARS2      75   \n",
       "tr|A0A6M4NIQ4|A0A6M4NIQ4_SARS2    4371   \n",
       "tr|A0A6M4N6E0|A0A6M4N6E0_SARS2    4405   \n",
       "tr|A0A7D4GRX1|A0A7D4GRX1_SARS2    7096   \n",
       "...                                ...   \n",
       "tr|A0A6M4MUN3|A0A6M4MUN3_SARS2      61   \n",
       "tr|A0A6H2EGB9|A0A6H2EGB9_SARS2    7096   \n",
       "tr|A0A6M4N1R7|A0A6M4N1R7_SARS2     419   \n",
       "tr|A0A6N1NLH7|A0A6N1NLH7_SARS2      61   \n",
       "tr|A0A6N1WFR0|A0A6N1WFR0_SARS2    4405   \n",
       "\n",
       "                                                                      description  \\\n",
       "id                                                                                  \n",
       "tr|A0A6M6J105|A0A6M6J105_SARS2  tr|A0A6M6J105|A0A6M6J105_SARS2 3C-like protein...   \n",
       "tr|A0A6M4N1G6|A0A6M4N1G6_SARS2  tr|A0A6M4N1G6|A0A6M4N1G6_SARS2 Envelope small ...   \n",
       "tr|A0A6M4NIQ4|A0A6M4NIQ4_SARS2  tr|A0A6M4NIQ4|A0A6M4NIQ4_SARS2 3C-like protein...   \n",
       "tr|A0A6M4N6E0|A0A6M4N6E0_SARS2  tr|A0A6M4N6E0|A0A6M4N6E0_SARS2 3C-like protein...   \n",
       "tr|A0A7D4GRX1|A0A7D4GRX1_SARS2  tr|A0A7D4GRX1|A0A7D4GRX1_SARS2 ORF1ab polyprot...   \n",
       "...                                                                           ...   \n",
       "tr|A0A6M4MUN3|A0A6M4MUN3_SARS2  tr|A0A6M4MUN3|A0A6M4MUN3_SARS2 Accessory prote...   \n",
       "tr|A0A6H2EGB9|A0A6H2EGB9_SARS2  tr|A0A6H2EGB9|A0A6H2EGB9_SARS2 2'-O-methyltran...   \n",
       "tr|A0A6M4N1R7|A0A6M4N1R7_SARS2  tr|A0A6M4N1R7|A0A6M4N1R7_SARS2 Nucleoprotein O...   \n",
       "tr|A0A6N1NLH7|A0A6N1NLH7_SARS2  tr|A0A6N1NLH7|A0A6N1NLH7_SARS2 Accessory prote...   \n",
       "tr|A0A6N1WFR0|A0A6N1WFR0_SARS2  tr|A0A6N1WFR0|A0A6N1WFR0_SARS2 3C-like protein...   \n",
       "\n",
       "                               feature  \n",
       "id                                      \n",
       "tr|A0A6M6J105|A0A6M6J105_SARS2      []  \n",
       "tr|A0A6M4N1G6|A0A6M4N1G6_SARS2      []  \n",
       "tr|A0A6M4NIQ4|A0A6M4NIQ4_SARS2      []  \n",
       "tr|A0A6M4N6E0|A0A6M4N6E0_SARS2      []  \n",
       "tr|A0A7D4GRX1|A0A7D4GRX1_SARS2      []  \n",
       "...                                ...  \n",
       "tr|A0A6M4MUN3|A0A6M4MUN3_SARS2      []  \n",
       "tr|A0A6H2EGB9|A0A6H2EGB9_SARS2      []  \n",
       "tr|A0A6M4N1R7|A0A6M4N1R7_SARS2      []  \n",
       "tr|A0A6N1NLH7|A0A6N1NLH7_SARS2      []  \n",
       "tr|A0A6N1WFR0|A0A6N1WFR0_SARS2      []  \n",
       "\n",
       "[3139 rows x 5 columns]"
      ]
     },
     "execution_count": 4,
     "metadata": {},
     "output_type": "execute_result"
    }
   ],
   "source": [
    "# shows positif dataset\n",
    "positif"
   ]
  },
  {
   "cell_type": "code",
   "execution_count": 5,
   "metadata": {},
   "outputs": [
    {
     "data": {
      "text/html": [
       "<div>\n",
       "<style scoped>\n",
       "    .dataframe tbody tr th:only-of-type {\n",
       "        vertical-align: middle;\n",
       "    }\n",
       "\n",
       "    .dataframe tbody tr th {\n",
       "        vertical-align: top;\n",
       "    }\n",
       "\n",
       "    .dataframe thead th {\n",
       "        text-align: right;\n",
       "    }\n",
       "</style>\n",
       "<table border=\"1\" class=\"dataframe\">\n",
       "  <thead>\n",
       "    <tr style=\"text-align: right;\">\n",
       "      <th></th>\n",
       "      <th>name</th>\n",
       "      <th>sequence</th>\n",
       "      <th>length</th>\n",
       "      <th>description</th>\n",
       "      <th>feature</th>\n",
       "    </tr>\n",
       "    <tr>\n",
       "      <th>id</th>\n",
       "      <th></th>\n",
       "      <th></th>\n",
       "      <th></th>\n",
       "      <th></th>\n",
       "      <th></th>\n",
       "    </tr>\n",
       "  </thead>\n",
       "  <tbody>\n",
       "    <tr>\n",
       "      <th>sp|Q5TD94|RSH4A_HUMAN</th>\n",
       "      <td>sp|Q5TD94|RSH4A_HUMAN</td>\n",
       "      <td>MEDSTSPKQEKENQEELGETRRPWEGKTAASPQYSEPESSEPLEAK...</td>\n",
       "      <td>716</td>\n",
       "      <td>sp|Q5TD94|RSH4A_HUMAN Radial spoke head protei...</td>\n",
       "      <td>[]</td>\n",
       "    </tr>\n",
       "    <tr>\n",
       "      <th>sp|Q14160|SCRIB_HUMAN</th>\n",
       "      <td>sp|Q14160|SCRIB_HUMAN</td>\n",
       "      <td>MLKCIPLWRCNRHVESVDKRHCSLQAVPEEIYRYSRSLEELLLDAN...</td>\n",
       "      <td>1630</td>\n",
       "      <td>sp|Q14160|SCRIB_HUMAN Protein scribble homolog...</td>\n",
       "      <td>[]</td>\n",
       "    </tr>\n",
       "    <tr>\n",
       "      <th>sp|Q15436|SC23A_HUMAN</th>\n",
       "      <td>sp|Q15436|SC23A_HUMAN</td>\n",
       "      <td>MTTYLEFIQQNEERDGVRFSWNVWPSSRLEATRMVVPVAALFTPLK...</td>\n",
       "      <td>765</td>\n",
       "      <td>sp|Q15436|SC23A_HUMAN Protein transport protei...</td>\n",
       "      <td>[]</td>\n",
       "    </tr>\n",
       "    <tr>\n",
       "      <th>sp|P51170|SCNNG_HUMAN</th>\n",
       "      <td>sp|P51170|SCNNG_HUMAN</td>\n",
       "      <td>MAPGEKIKAKIKKNLPVTGPQAPTIKELMRWYCLNTNTHGCRRIVV...</td>\n",
       "      <td>649</td>\n",
       "      <td>sp|P51170|SCNNG_HUMAN Amiloride-sensitive sodi...</td>\n",
       "      <td>[]</td>\n",
       "    </tr>\n",
       "    <tr>\n",
       "      <th>sp|Q13228|SBP1_HUMAN</th>\n",
       "      <td>sp|Q13228|SBP1_HUMAN</td>\n",
       "      <td>MATKCGNCGPGYSTPLEAMKGPREEIVYLPCIYRNTGTEAPDYLAT...</td>\n",
       "      <td>472</td>\n",
       "      <td>sp|Q13228|SBP1_HUMAN Methanethiol oxidase OS=H...</td>\n",
       "      <td>[]</td>\n",
       "    </tr>\n",
       "    <tr>\n",
       "      <th>...</th>\n",
       "      <td>...</td>\n",
       "      <td>...</td>\n",
       "      <td>...</td>\n",
       "      <td>...</td>\n",
       "      <td>...</td>\n",
       "    </tr>\n",
       "    <tr>\n",
       "      <th>sp|P57078|RIPK4_HUMAN</th>\n",
       "      <td>sp|P57078|RIPK4_HUMAN</td>\n",
       "      <td>MEGDGGTPWALALLRTFDAGEFTGWEKVGSGGFGQVYKVRHVHWKT...</td>\n",
       "      <td>832</td>\n",
       "      <td>sp|P57078|RIPK4_HUMAN Receptor-interacting ser...</td>\n",
       "      <td>[]</td>\n",
       "    </tr>\n",
       "    <tr>\n",
       "      <th>sp|Q8TDP1|RNH2C_HUMAN</th>\n",
       "      <td>sp|Q8TDP1|RNH2C_HUMAN</td>\n",
       "      <td>MESGDEAAIERHRVHLRSATLRDAVPATLHLLPCEVAVDGPAPVGR...</td>\n",
       "      <td>164</td>\n",
       "      <td>sp|Q8TDP1|RNH2C_HUMAN Ribonuclease H2 subunit ...</td>\n",
       "      <td>[]</td>\n",
       "    </tr>\n",
       "    <tr>\n",
       "      <th>sp|Q9BQ52|RNZ2_HUMAN</th>\n",
       "      <td>sp|Q9BQ52|RNZ2_HUMAN</td>\n",
       "      <td>MWALCSLLRSAAGRTMSQGRTISQAPARRERPRKDPLRHLRTREKR...</td>\n",
       "      <td>826</td>\n",
       "      <td>sp|Q9BQ52|RNZ2_HUMAN Zinc phosphodiesterase EL...</td>\n",
       "      <td>[]</td>\n",
       "    </tr>\n",
       "    <tr>\n",
       "      <th>sp|Q9UL12|SARDH_HUMAN</th>\n",
       "      <td>sp|Q9UL12|SARDH_HUMAN</td>\n",
       "      <td>MASLSRALRVAAAHPRQSPTRGMGPCNLSSAAGPTAEKSVPYQRTL...</td>\n",
       "      <td>918</td>\n",
       "      <td>sp|Q9UL12|SARDH_HUMAN Sarcosine dehydrogenase,...</td>\n",
       "      <td>[]</td>\n",
       "    </tr>\n",
       "    <tr>\n",
       "      <th>sp|Q9Y397|ZDHC9_HUMAN</th>\n",
       "      <td>sp|Q9Y397|ZDHC9_HUMAN</td>\n",
       "      <td>MSVMVVRKKVTRKWEKLPGRNTFCCDGRVMMARQKGIFYLTLFLIL...</td>\n",
       "      <td>364</td>\n",
       "      <td>sp|Q9Y397|ZDHC9_HUMAN Palmitoyltransferase ZDH...</td>\n",
       "      <td>[]</td>\n",
       "    </tr>\n",
       "  </tbody>\n",
       "</table>\n",
       "<p>4106 rows × 5 columns</p>\n",
       "</div>"
      ],
      "text/plain": [
       "                                        name  \\\n",
       "id                                             \n",
       "sp|Q5TD94|RSH4A_HUMAN  sp|Q5TD94|RSH4A_HUMAN   \n",
       "sp|Q14160|SCRIB_HUMAN  sp|Q14160|SCRIB_HUMAN   \n",
       "sp|Q15436|SC23A_HUMAN  sp|Q15436|SC23A_HUMAN   \n",
       "sp|P51170|SCNNG_HUMAN  sp|P51170|SCNNG_HUMAN   \n",
       "sp|Q13228|SBP1_HUMAN    sp|Q13228|SBP1_HUMAN   \n",
       "...                                      ...   \n",
       "sp|P57078|RIPK4_HUMAN  sp|P57078|RIPK4_HUMAN   \n",
       "sp|Q8TDP1|RNH2C_HUMAN  sp|Q8TDP1|RNH2C_HUMAN   \n",
       "sp|Q9BQ52|RNZ2_HUMAN    sp|Q9BQ52|RNZ2_HUMAN   \n",
       "sp|Q9UL12|SARDH_HUMAN  sp|Q9UL12|SARDH_HUMAN   \n",
       "sp|Q9Y397|ZDHC9_HUMAN  sp|Q9Y397|ZDHC9_HUMAN   \n",
       "\n",
       "                                                                sequence  \\\n",
       "id                                                                         \n",
       "sp|Q5TD94|RSH4A_HUMAN  MEDSTSPKQEKENQEELGETRRPWEGKTAASPQYSEPESSEPLEAK...   \n",
       "sp|Q14160|SCRIB_HUMAN  MLKCIPLWRCNRHVESVDKRHCSLQAVPEEIYRYSRSLEELLLDAN...   \n",
       "sp|Q15436|SC23A_HUMAN  MTTYLEFIQQNEERDGVRFSWNVWPSSRLEATRMVVPVAALFTPLK...   \n",
       "sp|P51170|SCNNG_HUMAN  MAPGEKIKAKIKKNLPVTGPQAPTIKELMRWYCLNTNTHGCRRIVV...   \n",
       "sp|Q13228|SBP1_HUMAN   MATKCGNCGPGYSTPLEAMKGPREEIVYLPCIYRNTGTEAPDYLAT...   \n",
       "...                                                                  ...   \n",
       "sp|P57078|RIPK4_HUMAN  MEGDGGTPWALALLRTFDAGEFTGWEKVGSGGFGQVYKVRHVHWKT...   \n",
       "sp|Q8TDP1|RNH2C_HUMAN  MESGDEAAIERHRVHLRSATLRDAVPATLHLLPCEVAVDGPAPVGR...   \n",
       "sp|Q9BQ52|RNZ2_HUMAN   MWALCSLLRSAAGRTMSQGRTISQAPARRERPRKDPLRHLRTREKR...   \n",
       "sp|Q9UL12|SARDH_HUMAN  MASLSRALRVAAAHPRQSPTRGMGPCNLSSAAGPTAEKSVPYQRTL...   \n",
       "sp|Q9Y397|ZDHC9_HUMAN  MSVMVVRKKVTRKWEKLPGRNTFCCDGRVMMARQKGIFYLTLFLIL...   \n",
       "\n",
       "                       length  \\\n",
       "id                              \n",
       "sp|Q5TD94|RSH4A_HUMAN     716   \n",
       "sp|Q14160|SCRIB_HUMAN    1630   \n",
       "sp|Q15436|SC23A_HUMAN     765   \n",
       "sp|P51170|SCNNG_HUMAN     649   \n",
       "sp|Q13228|SBP1_HUMAN      472   \n",
       "...                       ...   \n",
       "sp|P57078|RIPK4_HUMAN     832   \n",
       "sp|Q8TDP1|RNH2C_HUMAN     164   \n",
       "sp|Q9BQ52|RNZ2_HUMAN      826   \n",
       "sp|Q9UL12|SARDH_HUMAN     918   \n",
       "sp|Q9Y397|ZDHC9_HUMAN     364   \n",
       "\n",
       "                                                             description  \\\n",
       "id                                                                         \n",
       "sp|Q5TD94|RSH4A_HUMAN  sp|Q5TD94|RSH4A_HUMAN Radial spoke head protei...   \n",
       "sp|Q14160|SCRIB_HUMAN  sp|Q14160|SCRIB_HUMAN Protein scribble homolog...   \n",
       "sp|Q15436|SC23A_HUMAN  sp|Q15436|SC23A_HUMAN Protein transport protei...   \n",
       "sp|P51170|SCNNG_HUMAN  sp|P51170|SCNNG_HUMAN Amiloride-sensitive sodi...   \n",
       "sp|Q13228|SBP1_HUMAN   sp|Q13228|SBP1_HUMAN Methanethiol oxidase OS=H...   \n",
       "...                                                                  ...   \n",
       "sp|P57078|RIPK4_HUMAN  sp|P57078|RIPK4_HUMAN Receptor-interacting ser...   \n",
       "sp|Q8TDP1|RNH2C_HUMAN  sp|Q8TDP1|RNH2C_HUMAN Ribonuclease H2 subunit ...   \n",
       "sp|Q9BQ52|RNZ2_HUMAN   sp|Q9BQ52|RNZ2_HUMAN Zinc phosphodiesterase EL...   \n",
       "sp|Q9UL12|SARDH_HUMAN  sp|Q9UL12|SARDH_HUMAN Sarcosine dehydrogenase,...   \n",
       "sp|Q9Y397|ZDHC9_HUMAN  sp|Q9Y397|ZDHC9_HUMAN Palmitoyltransferase ZDH...   \n",
       "\n",
       "                      feature  \n",
       "id                             \n",
       "sp|Q5TD94|RSH4A_HUMAN      []  \n",
       "sp|Q14160|SCRIB_HUMAN      []  \n",
       "sp|Q15436|SC23A_HUMAN      []  \n",
       "sp|P51170|SCNNG_HUMAN      []  \n",
       "sp|Q13228|SBP1_HUMAN       []  \n",
       "...                       ...  \n",
       "sp|P57078|RIPK4_HUMAN      []  \n",
       "sp|Q8TDP1|RNH2C_HUMAN      []  \n",
       "sp|Q9BQ52|RNZ2_HUMAN       []  \n",
       "sp|Q9UL12|SARDH_HUMAN      []  \n",
       "sp|Q9Y397|ZDHC9_HUMAN      []  \n",
       "\n",
       "[4106 rows x 5 columns]"
      ]
     },
     "execution_count": 5,
     "metadata": {},
     "output_type": "execute_result"
    }
   ],
   "source": [
    "# shows negatif dataset\n",
    "negatif"
   ]
  },
  {
   "cell_type": "code",
   "execution_count": 6,
   "metadata": {},
   "outputs": [
    {
     "data": {
      "text/html": [
       "<div>\n",
       "<style scoped>\n",
       "    .dataframe tbody tr th:only-of-type {\n",
       "        vertical-align: middle;\n",
       "    }\n",
       "\n",
       "    .dataframe tbody tr th {\n",
       "        vertical-align: top;\n",
       "    }\n",
       "\n",
       "    .dataframe thead th {\n",
       "        text-align: right;\n",
       "    }\n",
       "</style>\n",
       "<table border=\"1\" class=\"dataframe\">\n",
       "  <thead>\n",
       "    <tr style=\"text-align: right;\">\n",
       "      <th></th>\n",
       "      <th>0</th>\n",
       "      <th>1</th>\n",
       "      <th>2</th>\n",
       "      <th>3</th>\n",
       "    </tr>\n",
       "    <tr>\n",
       "      <th>id</th>\n",
       "      <th></th>\n",
       "      <th></th>\n",
       "      <th></th>\n",
       "      <th></th>\n",
       "    </tr>\n",
       "  </thead>\n",
       "  <tbody>\n",
       "    <tr>\n",
       "      <th>tr|A0A6M6J105|A0A6M6J105_SARS2</th>\n",
       "      <td>tr|A0A6M6J105|A0A6M6J105_SARS2</td>\n",
       "      <td>3C-like proteinase OS</td>\n",
       "      <td>Severe acute respiratory syndrome coronavirus ...</td>\n",
       "      <td>2697049 GN=ORF1ab PE=3 SV=1</td>\n",
       "    </tr>\n",
       "    <tr>\n",
       "      <th>tr|A0A6M4N1G6|A0A6M4N1G6_SARS2</th>\n",
       "      <td>tr|A0A6M4N1G6|A0A6M4N1G6_SARS2</td>\n",
       "      <td>Envelope small membrane protein OS</td>\n",
       "      <td>Severe acute respiratory syndrome coronavirus ...</td>\n",
       "      <td>2697049 GN=E PE=3 SV=1</td>\n",
       "    </tr>\n",
       "    <tr>\n",
       "      <th>tr|A0A6M4NIQ4|A0A6M4NIQ4_SARS2</th>\n",
       "      <td>tr|A0A6M4NIQ4|A0A6M4NIQ4_SARS2</td>\n",
       "      <td>3C-like proteinase (Fragment) OS</td>\n",
       "      <td>Severe acute respiratory syndrome coronavirus ...</td>\n",
       "      <td>2697049 GN=ORF1ab PE=3 SV=1</td>\n",
       "    </tr>\n",
       "    <tr>\n",
       "      <th>tr|A0A6M4N6E0|A0A6M4N6E0_SARS2</th>\n",
       "      <td>tr|A0A6M4N6E0|A0A6M4N6E0_SARS2</td>\n",
       "      <td>3C-like proteinase OS</td>\n",
       "      <td>Severe acute respiratory syndrome coronavirus ...</td>\n",
       "      <td>2697049 GN=ORF1ab PE=3 SV=1</td>\n",
       "    </tr>\n",
       "    <tr>\n",
       "      <th>tr|A0A7D4GRX1|A0A7D4GRX1_SARS2</th>\n",
       "      <td>tr|A0A7D4GRX1|A0A7D4GRX1_SARS2</td>\n",
       "      <td>ORF1ab polyprotein OS</td>\n",
       "      <td>Severe acute respiratory syndrome coronavirus ...</td>\n",
       "      <td>2697049 GN=ORF1ab PE=4 SV=1</td>\n",
       "    </tr>\n",
       "    <tr>\n",
       "      <th>...</th>\n",
       "      <td>...</td>\n",
       "      <td>...</td>\n",
       "      <td>...</td>\n",
       "      <td>...</td>\n",
       "    </tr>\n",
       "    <tr>\n",
       "      <th>tr|A0A6M4MUN3|A0A6M4MUN3_SARS2</th>\n",
       "      <td>tr|A0A6M4MUN3|A0A6M4MUN3_SARS2</td>\n",
       "      <td>Accessory protein 6 OS</td>\n",
       "      <td>Severe acute respiratory syndrome coronavirus ...</td>\n",
       "      <td>2697049 GN=ORF6 PE=4 SV=1</td>\n",
       "    </tr>\n",
       "    <tr>\n",
       "      <th>tr|A0A6H2EGB9|A0A6H2EGB9_SARS2</th>\n",
       "      <td>tr|A0A6H2EGB9|A0A6H2EGB9_SARS2</td>\n",
       "      <td>2'-O-methyltransferase OS</td>\n",
       "      <td>Severe acute respiratory syndrome coronavirus ...</td>\n",
       "      <td>2697049 GN=ORF1ab PE=3 SV=1</td>\n",
       "    </tr>\n",
       "    <tr>\n",
       "      <th>tr|A0A6M4N1R7|A0A6M4N1R7_SARS2</th>\n",
       "      <td>tr|A0A6M4N1R7|A0A6M4N1R7_SARS2</td>\n",
       "      <td>Nucleoprotein OS</td>\n",
       "      <td>Severe acute respiratory syndrome coronavirus ...</td>\n",
       "      <td>2697049 GN=N PE=3 SV=1</td>\n",
       "    </tr>\n",
       "    <tr>\n",
       "      <th>tr|A0A6N1NLH7|A0A6N1NLH7_SARS2</th>\n",
       "      <td>tr|A0A6N1NLH7|A0A6N1NLH7_SARS2</td>\n",
       "      <td>Accessory protein 6 OS</td>\n",
       "      <td>Severe acute respiratory syndrome coronavirus ...</td>\n",
       "      <td>2697049 GN=ORF6 PE=4 SV=1</td>\n",
       "    </tr>\n",
       "    <tr>\n",
       "      <th>tr|A0A6N1WFR0|A0A6N1WFR0_SARS2</th>\n",
       "      <td>tr|A0A6N1WFR0|A0A6N1WFR0_SARS2</td>\n",
       "      <td>3C-like proteinase OS</td>\n",
       "      <td>Severe acute respiratory syndrome coronavirus ...</td>\n",
       "      <td>2697049 GN=ORF1ab PE=3 SV=1</td>\n",
       "    </tr>\n",
       "  </tbody>\n",
       "</table>\n",
       "<p>3139 rows × 4 columns</p>\n",
       "</div>"
      ],
      "text/plain": [
       "                                                             0  \\\n",
       "id                                                               \n",
       "tr|A0A6M6J105|A0A6M6J105_SARS2  tr|A0A6M6J105|A0A6M6J105_SARS2   \n",
       "tr|A0A6M4N1G6|A0A6M4N1G6_SARS2  tr|A0A6M4N1G6|A0A6M4N1G6_SARS2   \n",
       "tr|A0A6M4NIQ4|A0A6M4NIQ4_SARS2  tr|A0A6M4NIQ4|A0A6M4NIQ4_SARS2   \n",
       "tr|A0A6M4N6E0|A0A6M4N6E0_SARS2  tr|A0A6M4N6E0|A0A6M4N6E0_SARS2   \n",
       "tr|A0A7D4GRX1|A0A7D4GRX1_SARS2  tr|A0A7D4GRX1|A0A7D4GRX1_SARS2   \n",
       "...                                                        ...   \n",
       "tr|A0A6M4MUN3|A0A6M4MUN3_SARS2  tr|A0A6M4MUN3|A0A6M4MUN3_SARS2   \n",
       "tr|A0A6H2EGB9|A0A6H2EGB9_SARS2  tr|A0A6H2EGB9|A0A6H2EGB9_SARS2   \n",
       "tr|A0A6M4N1R7|A0A6M4N1R7_SARS2  tr|A0A6M4N1R7|A0A6M4N1R7_SARS2   \n",
       "tr|A0A6N1NLH7|A0A6N1NLH7_SARS2  tr|A0A6N1NLH7|A0A6N1NLH7_SARS2   \n",
       "tr|A0A6N1WFR0|A0A6N1WFR0_SARS2  tr|A0A6N1WFR0|A0A6N1WFR0_SARS2   \n",
       "\n",
       "                                                                 1  \\\n",
       "id                                                                   \n",
       "tr|A0A6M6J105|A0A6M6J105_SARS2               3C-like proteinase OS   \n",
       "tr|A0A6M4N1G6|A0A6M4N1G6_SARS2  Envelope small membrane protein OS   \n",
       "tr|A0A6M4NIQ4|A0A6M4NIQ4_SARS2    3C-like proteinase (Fragment) OS   \n",
       "tr|A0A6M4N6E0|A0A6M4N6E0_SARS2               3C-like proteinase OS   \n",
       "tr|A0A7D4GRX1|A0A7D4GRX1_SARS2               ORF1ab polyprotein OS   \n",
       "...                                                            ...   \n",
       "tr|A0A6M4MUN3|A0A6M4MUN3_SARS2              Accessory protein 6 OS   \n",
       "tr|A0A6H2EGB9|A0A6H2EGB9_SARS2           2'-O-methyltransferase OS   \n",
       "tr|A0A6M4N1R7|A0A6M4N1R7_SARS2                    Nucleoprotein OS   \n",
       "tr|A0A6N1NLH7|A0A6N1NLH7_SARS2              Accessory protein 6 OS   \n",
       "tr|A0A6N1WFR0|A0A6N1WFR0_SARS2               3C-like proteinase OS   \n",
       "\n",
       "                                                                                2  \\\n",
       "id                                                                                  \n",
       "tr|A0A6M6J105|A0A6M6J105_SARS2  Severe acute respiratory syndrome coronavirus ...   \n",
       "tr|A0A6M4N1G6|A0A6M4N1G6_SARS2  Severe acute respiratory syndrome coronavirus ...   \n",
       "tr|A0A6M4NIQ4|A0A6M4NIQ4_SARS2  Severe acute respiratory syndrome coronavirus ...   \n",
       "tr|A0A6M4N6E0|A0A6M4N6E0_SARS2  Severe acute respiratory syndrome coronavirus ...   \n",
       "tr|A0A7D4GRX1|A0A7D4GRX1_SARS2  Severe acute respiratory syndrome coronavirus ...   \n",
       "...                                                                           ...   \n",
       "tr|A0A6M4MUN3|A0A6M4MUN3_SARS2  Severe acute respiratory syndrome coronavirus ...   \n",
       "tr|A0A6H2EGB9|A0A6H2EGB9_SARS2  Severe acute respiratory syndrome coronavirus ...   \n",
       "tr|A0A6M4N1R7|A0A6M4N1R7_SARS2  Severe acute respiratory syndrome coronavirus ...   \n",
       "tr|A0A6N1NLH7|A0A6N1NLH7_SARS2  Severe acute respiratory syndrome coronavirus ...   \n",
       "tr|A0A6N1WFR0|A0A6N1WFR0_SARS2  Severe acute respiratory syndrome coronavirus ...   \n",
       "\n",
       "                                                          3  \n",
       "id                                                           \n",
       "tr|A0A6M6J105|A0A6M6J105_SARS2  2697049 GN=ORF1ab PE=3 SV=1  \n",
       "tr|A0A6M4N1G6|A0A6M4N1G6_SARS2       2697049 GN=E PE=3 SV=1  \n",
       "tr|A0A6M4NIQ4|A0A6M4NIQ4_SARS2  2697049 GN=ORF1ab PE=3 SV=1  \n",
       "tr|A0A6M4N6E0|A0A6M4N6E0_SARS2  2697049 GN=ORF1ab PE=3 SV=1  \n",
       "tr|A0A7D4GRX1|A0A7D4GRX1_SARS2  2697049 GN=ORF1ab PE=4 SV=1  \n",
       "...                                                     ...  \n",
       "tr|A0A6M4MUN3|A0A6M4MUN3_SARS2    2697049 GN=ORF6 PE=4 SV=1  \n",
       "tr|A0A6H2EGB9|A0A6H2EGB9_SARS2  2697049 GN=ORF1ab PE=3 SV=1  \n",
       "tr|A0A6M4N1R7|A0A6M4N1R7_SARS2       2697049 GN=N PE=3 SV=1  \n",
       "tr|A0A6N1NLH7|A0A6N1NLH7_SARS2    2697049 GN=ORF6 PE=4 SV=1  \n",
       "tr|A0A6N1WFR0|A0A6N1WFR0_SARS2  2697049 GN=ORF1ab PE=3 SV=1  \n",
       "\n",
       "[3139 rows x 4 columns]"
      ]
     },
     "execution_count": 6,
     "metadata": {},
     "output_type": "execute_result"
    }
   ],
   "source": [
    "# splitting the description text of positif dataset\n",
    "px = positif['description'].str.split(' ', 1, expand=True).copy()\n",
    "px[[1,2]] = px[1].str.split('=', 1, expand=True)\n",
    "px[[2,3]] = px[2].str.split('=', 1, expand=True)\n",
    "positif[['description','category','misc']] = px[[1,2,3]]\n",
    "px"
   ]
  },
  {
   "cell_type": "code",
   "execution_count": 7,
   "metadata": {},
   "outputs": [
    {
     "data": {
      "text/html": [
       "<div>\n",
       "<style scoped>\n",
       "    .dataframe tbody tr th:only-of-type {\n",
       "        vertical-align: middle;\n",
       "    }\n",
       "\n",
       "    .dataframe tbody tr th {\n",
       "        vertical-align: top;\n",
       "    }\n",
       "\n",
       "    .dataframe thead th {\n",
       "        text-align: right;\n",
       "    }\n",
       "</style>\n",
       "<table border=\"1\" class=\"dataframe\">\n",
       "  <thead>\n",
       "    <tr style=\"text-align: right;\">\n",
       "      <th></th>\n",
       "      <th>0</th>\n",
       "      <th>1</th>\n",
       "      <th>2</th>\n",
       "      <th>3</th>\n",
       "    </tr>\n",
       "    <tr>\n",
       "      <th>id</th>\n",
       "      <th></th>\n",
       "      <th></th>\n",
       "      <th></th>\n",
       "      <th></th>\n",
       "    </tr>\n",
       "  </thead>\n",
       "  <tbody>\n",
       "    <tr>\n",
       "      <th>sp|Q5TD94|RSH4A_HUMAN</th>\n",
       "      <td>sp|Q5TD94|RSH4A_HUMAN</td>\n",
       "      <td>Radial spoke head protein 4 homolog A OS</td>\n",
       "      <td>Homo sapiens OX</td>\n",
       "      <td>9606 GN=RSPH4A PE=1 SV=1</td>\n",
       "    </tr>\n",
       "    <tr>\n",
       "      <th>sp|Q14160|SCRIB_HUMAN</th>\n",
       "      <td>sp|Q14160|SCRIB_HUMAN</td>\n",
       "      <td>Protein scribble homolog OS</td>\n",
       "      <td>Homo sapiens OX</td>\n",
       "      <td>9606 GN=SCRIB PE=1 SV=4</td>\n",
       "    </tr>\n",
       "    <tr>\n",
       "      <th>sp|Q15436|SC23A_HUMAN</th>\n",
       "      <td>sp|Q15436|SC23A_HUMAN</td>\n",
       "      <td>Protein transport protein Sec23A OS</td>\n",
       "      <td>Homo sapiens OX</td>\n",
       "      <td>9606 GN=SEC23A PE=1 SV=2</td>\n",
       "    </tr>\n",
       "    <tr>\n",
       "      <th>sp|P51170|SCNNG_HUMAN</th>\n",
       "      <td>sp|P51170|SCNNG_HUMAN</td>\n",
       "      <td>Amiloride-sensitive sodium channel subunit gam...</td>\n",
       "      <td>Homo sapiens OX</td>\n",
       "      <td>9606 GN=SCNN1G PE=1 SV=4</td>\n",
       "    </tr>\n",
       "    <tr>\n",
       "      <th>sp|Q13228|SBP1_HUMAN</th>\n",
       "      <td>sp|Q13228|SBP1_HUMAN</td>\n",
       "      <td>Methanethiol oxidase OS</td>\n",
       "      <td>Homo sapiens OX</td>\n",
       "      <td>9606 GN=SELENBP1 PE=1 SV=2</td>\n",
       "    </tr>\n",
       "    <tr>\n",
       "      <th>...</th>\n",
       "      <td>...</td>\n",
       "      <td>...</td>\n",
       "      <td>...</td>\n",
       "      <td>...</td>\n",
       "    </tr>\n",
       "    <tr>\n",
       "      <th>sp|P57078|RIPK4_HUMAN</th>\n",
       "      <td>sp|P57078|RIPK4_HUMAN</td>\n",
       "      <td>Receptor-interacting serine/threonine-protein ...</td>\n",
       "      <td>Homo sapiens OX</td>\n",
       "      <td>9606 GN=RIPK4 PE=1 SV=1</td>\n",
       "    </tr>\n",
       "    <tr>\n",
       "      <th>sp|Q8TDP1|RNH2C_HUMAN</th>\n",
       "      <td>sp|Q8TDP1|RNH2C_HUMAN</td>\n",
       "      <td>Ribonuclease H2 subunit C OS</td>\n",
       "      <td>Homo sapiens OX</td>\n",
       "      <td>9606 GN=RNASEH2C PE=1 SV=1</td>\n",
       "    </tr>\n",
       "    <tr>\n",
       "      <th>sp|Q9BQ52|RNZ2_HUMAN</th>\n",
       "      <td>sp|Q9BQ52|RNZ2_HUMAN</td>\n",
       "      <td>Zinc phosphodiesterase ELAC protein 2 OS</td>\n",
       "      <td>Homo sapiens OX</td>\n",
       "      <td>9606 GN=ELAC2 PE=1 SV=2</td>\n",
       "    </tr>\n",
       "    <tr>\n",
       "      <th>sp|Q9UL12|SARDH_HUMAN</th>\n",
       "      <td>sp|Q9UL12|SARDH_HUMAN</td>\n",
       "      <td>Sarcosine dehydrogenase, mitochondrial OS</td>\n",
       "      <td>Homo sapiens OX</td>\n",
       "      <td>9606 GN=SARDH PE=1 SV=1</td>\n",
       "    </tr>\n",
       "    <tr>\n",
       "      <th>sp|Q9Y397|ZDHC9_HUMAN</th>\n",
       "      <td>sp|Q9Y397|ZDHC9_HUMAN</td>\n",
       "      <td>Palmitoyltransferase ZDHHC9 OS</td>\n",
       "      <td>Homo sapiens OX</td>\n",
       "      <td>9606 GN=ZDHHC9 PE=1 SV=2</td>\n",
       "    </tr>\n",
       "  </tbody>\n",
       "</table>\n",
       "<p>4106 rows × 4 columns</p>\n",
       "</div>"
      ],
      "text/plain": [
       "                                           0  \\\n",
       "id                                             \n",
       "sp|Q5TD94|RSH4A_HUMAN  sp|Q5TD94|RSH4A_HUMAN   \n",
       "sp|Q14160|SCRIB_HUMAN  sp|Q14160|SCRIB_HUMAN   \n",
       "sp|Q15436|SC23A_HUMAN  sp|Q15436|SC23A_HUMAN   \n",
       "sp|P51170|SCNNG_HUMAN  sp|P51170|SCNNG_HUMAN   \n",
       "sp|Q13228|SBP1_HUMAN    sp|Q13228|SBP1_HUMAN   \n",
       "...                                      ...   \n",
       "sp|P57078|RIPK4_HUMAN  sp|P57078|RIPK4_HUMAN   \n",
       "sp|Q8TDP1|RNH2C_HUMAN  sp|Q8TDP1|RNH2C_HUMAN   \n",
       "sp|Q9BQ52|RNZ2_HUMAN    sp|Q9BQ52|RNZ2_HUMAN   \n",
       "sp|Q9UL12|SARDH_HUMAN  sp|Q9UL12|SARDH_HUMAN   \n",
       "sp|Q9Y397|ZDHC9_HUMAN  sp|Q9Y397|ZDHC9_HUMAN   \n",
       "\n",
       "                                                                       1  \\\n",
       "id                                                                         \n",
       "sp|Q5TD94|RSH4A_HUMAN           Radial spoke head protein 4 homolog A OS   \n",
       "sp|Q14160|SCRIB_HUMAN                        Protein scribble homolog OS   \n",
       "sp|Q15436|SC23A_HUMAN                Protein transport protein Sec23A OS   \n",
       "sp|P51170|SCNNG_HUMAN  Amiloride-sensitive sodium channel subunit gam...   \n",
       "sp|Q13228|SBP1_HUMAN                             Methanethiol oxidase OS   \n",
       "...                                                                  ...   \n",
       "sp|P57078|RIPK4_HUMAN  Receptor-interacting serine/threonine-protein ...   \n",
       "sp|Q8TDP1|RNH2C_HUMAN                       Ribonuclease H2 subunit C OS   \n",
       "sp|Q9BQ52|RNZ2_HUMAN            Zinc phosphodiesterase ELAC protein 2 OS   \n",
       "sp|Q9UL12|SARDH_HUMAN          Sarcosine dehydrogenase, mitochondrial OS   \n",
       "sp|Q9Y397|ZDHC9_HUMAN                     Palmitoyltransferase ZDHHC9 OS   \n",
       "\n",
       "                                     2                           3  \n",
       "id                                                                  \n",
       "sp|Q5TD94|RSH4A_HUMAN  Homo sapiens OX    9606 GN=RSPH4A PE=1 SV=1  \n",
       "sp|Q14160|SCRIB_HUMAN  Homo sapiens OX     9606 GN=SCRIB PE=1 SV=4  \n",
       "sp|Q15436|SC23A_HUMAN  Homo sapiens OX    9606 GN=SEC23A PE=1 SV=2  \n",
       "sp|P51170|SCNNG_HUMAN  Homo sapiens OX    9606 GN=SCNN1G PE=1 SV=4  \n",
       "sp|Q13228|SBP1_HUMAN   Homo sapiens OX  9606 GN=SELENBP1 PE=1 SV=2  \n",
       "...                                ...                         ...  \n",
       "sp|P57078|RIPK4_HUMAN  Homo sapiens OX     9606 GN=RIPK4 PE=1 SV=1  \n",
       "sp|Q8TDP1|RNH2C_HUMAN  Homo sapiens OX  9606 GN=RNASEH2C PE=1 SV=1  \n",
       "sp|Q9BQ52|RNZ2_HUMAN   Homo sapiens OX     9606 GN=ELAC2 PE=1 SV=2  \n",
       "sp|Q9UL12|SARDH_HUMAN  Homo sapiens OX     9606 GN=SARDH PE=1 SV=1  \n",
       "sp|Q9Y397|ZDHC9_HUMAN  Homo sapiens OX    9606 GN=ZDHHC9 PE=1 SV=2  \n",
       "\n",
       "[4106 rows x 4 columns]"
      ]
     },
     "execution_count": 7,
     "metadata": {},
     "output_type": "execute_result"
    }
   ],
   "source": [
    "# splitting the description text of negatif dataset\n",
    "nx = negatif['description'].str.split(' ', 1, expand=True).copy()\n",
    "nx[[1,2]] = nx[1].str.split('=', 1, expand=True)\n",
    "nx[[2,3]] = nx[2].str.split('=', 1, expand=True)\n",
    "negatif[['description','category','misc']] = nx[[1,2,3]]\n",
    "nx"
   ]
  },
  {
   "cell_type": "code",
   "execution_count": 8,
   "metadata": {},
   "outputs": [],
   "source": [
    "# join the dataframe\n",
    "df = pd.concat([positif,negatif])"
   ]
  },
  {
   "cell_type": "markdown",
   "metadata": {},
   "source": [
    "## Exploration"
   ]
  },
  {
   "cell_type": "code",
   "execution_count": 9,
   "metadata": {},
   "outputs": [
    {
     "data": {
      "text/plain": [
       "<AxesSubplot:xlabel='length', ylabel='Count'>"
      ]
     },
     "execution_count": 9,
     "metadata": {},
     "output_type": "execute_result"
    },
    {
     "data": {
      "image/png": "[encoded data removed]",
      "image/svg+xml": "<?xml version=\"1.0\" encoding=\"utf-8\" standalone=\"no\"?>\n<!DOCTYPE svg PUBLIC \"-//W3C//DTD SVG 1.1//EN\"\n  \"http://www.w3.org/Graphics/SVG/1.1/DTD/svg11.dtd\">\n<svg height=\"593.759688pt\" version=\"1.1\" viewBox=\"0 0 627.248027 593.759688\" width=\"627.248027pt\" xmlns=\"http://www.w3.org/2000/svg\" xmlns:xlink=\"http://www.w3.org/1999/xlink\">\n <metadata>\n  <rdf:RDF xmlns:cc=\"http://creativecommons.org/ns#\" xmlns:dc=\"http://purl.org/dc/elements/1.1/\" xmlns:rdf=\"http://www.w3.org/1999/02/22-rdf-syntax-ns#\">\n   <cc:Work>\n    <dc:type rdf:resource=\"http://purl.org/dc/dcmitype/StillImage\"/>\n    <dc:date>2021-04-22T16:29:57.775342</dc:date>\n    <dc:format>image/svg+xml</dc:format>\n    <dc:creator>\n     <cc:Agent>\n      <dc:title>Matplotlib v3.4.1, https://matplotlib.org/</dc:title>\n     </cc:Agent>\n    </dc:creator>\n   </cc:Work>\n  </rdf:RDF>\n </metadata>\n <defs>\n  <style type=\"text/css\">*{stroke-linecap:butt;stroke-linejoin:round;}</style>\n </defs>\n <g id=\"figure_1\">\n  <g id=\"patch_1\">\n   <path d=\"M 0 593.759688 \nL 627.248027 593.759688 \nL 627.248027 0 \nL 0 0 \nz\n\" style=\"fill:#ffffff;\"/>\n  </g>\n  <g id=\"axes_1\">\n   <g id=\"patch_2\">\n    <path d=\"M 60.30875 550.8 \nL 618.30875 550.8 \nL 618.30875 7.2 \nL 60.30875 7.2 \nz\n\" style=\"fill:#eaeaf2;\"/>\n   </g>\n   <g id=\"matplotlib.axis_1\">\n    <g id=\"xtick_1\">\n     <g id=\"line2d_1\">\n      <path clip-path=\"url(#pba56fa87f0)\" d=\"M 85.302923 550.8 \nL 85.302923 7.2 \n\" style=\"fill:none;stroke:#ffffff;stroke-linecap:round;\"/>\n     </g>\n     <g id=\"text_1\">\n      <!-- 0 -->\n      <g style=\"fill:#262626;\" transform=\"translate(81.803548 568.658281)scale(0.11 -0.11)\">\n       <defs>\n        <path d=\"M 2034 4250 \nQ 1547 4250 1301 3770 \nQ 1056 3291 1056 2328 \nQ 1056 1369 1301 889 \nQ 1547 409 2034 409 \nQ 2525 409 2770 889 \nQ 3016 1369 3016 2328 \nQ 3016 3291 2770 3770 \nQ 2525 4250 2034 4250 \nz\nM 2034 4750 \nQ 2819 4750 3233 4129 \nQ 3647 3509 3647 2328 \nQ 3647 1150 3233 529 \nQ 2819 -91 2034 -91 \nQ 1250 -91 836 529 \nQ 422 1150 422 2328 \nQ 422 3509 836 4129 \nQ 1250 4750 2034 4750 \nz\n\" id=\"DejaVuSans-30\" transform=\"scale(0.015625)\"/>\n       </defs>\n       <use xlink:href=\"#DejaVuSans-30\"/>\n      </g>\n     </g>\n    </g>\n    <g id=\"xtick_2\">\n     <g id=\"line2d_2\">\n      <path clip-path=\"url(#pba56fa87f0)\" d=\"M 159.195527 550.8 \nL 159.195527 7.2 \n\" style=\"fill:none;stroke:#ffffff;stroke-linecap:round;\"/>\n     </g>\n     <g id=\"text_2\">\n      <!-- 5000 -->\n      <g style=\"fill:#262626;\" transform=\"translate(145.198027 568.658281)scale(0.11 -0.11)\">\n       <defs>\n        <path d=\"M 691 4666 \nL 3169 4666 \nL 3169 4134 \nL 1269 4134 \nL 1269 2991 \nQ 1406 3038 1543 3061 \nQ 1681 3084 1819 3084 \nQ 2600 3084 3056 2656 \nQ 3513 2228 3513 1497 \nQ 3513 744 3044 326 \nQ 2575 -91 1722 -91 \nQ 1428 -91 1123 -41 \nQ 819 9 494 109 \nL 494 744 \nQ 775 591 1075 516 \nQ 1375 441 1709 441 \nQ 2250 441 2565 725 \nQ 2881 1009 2881 1497 \nQ 2881 1984 2565 2268 \nQ 2250 2553 1709 2553 \nQ 1456 2553 1204 2497 \nQ 953 2441 691 2322 \nL 691 4666 \nz\n\" id=\"DejaVuSans-35\" transform=\"scale(0.015625)\"/>\n       </defs>\n       <use xlink:href=\"#DejaVuSans-35\"/>\n       <use x=\"63.623047\" xlink:href=\"#DejaVuSans-30\"/>\n       <use x=\"127.246094\" xlink:href=\"#DejaVuSans-30\"/>\n       <use x=\"190.869141\" xlink:href=\"#DejaVuSans-30\"/>\n      </g>\n     </g>\n    </g>\n    <g id=\"xtick_3\">\n     <g id=\"line2d_3\">\n      <path clip-path=\"url(#pba56fa87f0)\" d=\"M 233.088132 550.8 \nL 233.088132 7.2 \n\" style=\"fill:none;stroke:#ffffff;stroke-linecap:round;\"/>\n     </g>\n     <g id=\"text_3\">\n      <!-- 10000 -->\n      <g style=\"fill:#262626;\" transform=\"translate(215.591257 568.658281)scale(0.11 -0.11)\">\n       <defs>\n        <path d=\"M 794 531 \nL 1825 531 \nL 1825 4091 \nL 703 3866 \nL 703 4441 \nL 1819 4666 \nL 2450 4666 \nL 2450 531 \nL 3481 531 \nL 3481 0 \nL 794 0 \nL 794 531 \nz\n\" id=\"DejaVuSans-31\" transform=\"scale(0.015625)\"/>\n       </defs>\n       <use xlink:href=\"#DejaVuSans-31\"/>\n       <use x=\"63.623047\" xlink:href=\"#DejaVuSans-30\"/>\n       <use x=\"127.246094\" xlink:href=\"#DejaVuSans-30\"/>\n       <use x=\"190.869141\" xlink:href=\"#DejaVuSans-30\"/>\n       <use x=\"254.492188\" xlink:href=\"#DejaVuSans-30\"/>\n      </g>\n     </g>\n    </g>\n    <g id=\"xtick_4\">\n     <g id=\"line2d_4\">\n      <path clip-path=\"url(#pba56fa87f0)\" d=\"M 306.980736 550.8 \nL 306.980736 7.2 \n\" style=\"fill:none;stroke:#ffffff;stroke-linecap:round;\"/>\n     </g>\n     <g id=\"text_4\">\n      <!-- 15000 -->\n      <g style=\"fill:#262626;\" transform=\"translate(289.483861 568.658281)scale(0.11 -0.11)\">\n       <use xlink:href=\"#DejaVuSans-31\"/>\n       <use x=\"63.623047\" xlink:href=\"#DejaVuSans-35\"/>\n       <use x=\"127.246094\" xlink:href=\"#DejaVuSans-30\"/>\n       <use x=\"190.869141\" xlink:href=\"#DejaVuSans-30\"/>\n       <use x=\"254.492188\" xlink:href=\"#DejaVuSans-30\"/>\n      </g>\n     </g>\n    </g>\n    <g id=\"xtick_5\">\n     <g id=\"line2d_5\">\n      <path clip-path=\"url(#pba56fa87f0)\" d=\"M 380.87334 550.8 \nL 380.87334 7.2 \n\" style=\"fill:none;stroke:#ffffff;stroke-linecap:round;\"/>\n     </g>\n     <g id=\"text_5\">\n      <!-- 20000 -->\n      <g style=\"fill:#262626;\" transform=\"translate(363.376465 568.658281)scale(0.11 -0.11)\">\n       <defs>\n        <path d=\"M 1228 531 \nL 3431 531 \nL 3431 0 \nL 469 0 \nL 469 531 \nQ 828 903 1448 1529 \nQ 2069 2156 2228 2338 \nQ 2531 2678 2651 2914 \nQ 2772 3150 2772 3378 \nQ 2772 3750 2511 3984 \nQ 2250 4219 1831 4219 \nQ 1534 4219 1204 4116 \nQ 875 4013 500 3803 \nL 500 4441 \nQ 881 4594 1212 4672 \nQ 1544 4750 1819 4750 \nQ 2544 4750 2975 4387 \nQ 3406 4025 3406 3419 \nQ 3406 3131 3298 2873 \nQ 3191 2616 2906 2266 \nQ 2828 2175 2409 1742 \nQ 1991 1309 1228 531 \nz\n\" id=\"DejaVuSans-32\" transform=\"scale(0.015625)\"/>\n       </defs>\n       <use xlink:href=\"#DejaVuSans-32\"/>\n       <use x=\"63.623047\" xlink:href=\"#DejaVuSans-30\"/>\n       <use x=\"127.246094\" xlink:href=\"#DejaVuSans-30\"/>\n       <use x=\"190.869141\" xlink:href=\"#DejaVuSans-30\"/>\n       <use x=\"254.492188\" xlink:href=\"#DejaVuSans-30\"/>\n      </g>\n     </g>\n    </g>\n    <g id=\"xtick_6\">\n     <g id=\"line2d_6\">\n      <path clip-path=\"url(#pba56fa87f0)\" d=\"M 454.765944 550.8 \nL 454.765944 7.2 \n\" style=\"fill:none;stroke:#ffffff;stroke-linecap:round;\"/>\n     </g>\n     <g id=\"text_6\">\n      <!-- 25000 -->\n      <g style=\"fill:#262626;\" transform=\"translate(437.269069 568.658281)scale(0.11 -0.11)\">\n       <use xlink:href=\"#DejaVuSans-32\"/>\n       <use x=\"63.623047\" xlink:href=\"#DejaVuSans-35\"/>\n       <use x=\"127.246094\" xlink:href=\"#DejaVuSans-30\"/>\n       <use x=\"190.869141\" xlink:href=\"#DejaVuSans-30\"/>\n       <use x=\"254.492188\" xlink:href=\"#DejaVuSans-30\"/>\n      </g>\n     </g>\n    </g>\n    <g id=\"xtick_7\">\n     <g id=\"line2d_7\">\n      <path clip-path=\"url(#pba56fa87f0)\" d=\"M 528.658548 550.8 \nL 528.658548 7.2 \n\" style=\"fill:none;stroke:#ffffff;stroke-linecap:round;\"/>\n     </g>\n     <g id=\"text_7\">\n      <!-- 30000 -->\n      <g style=\"fill:#262626;\" transform=\"translate(511.161673 568.658281)scale(0.11 -0.11)\">\n       <defs>\n        <path d=\"M 2597 2516 \nQ 3050 2419 3304 2112 \nQ 3559 1806 3559 1356 \nQ 3559 666 3084 287 \nQ 2609 -91 1734 -91 \nQ 1441 -91 1130 -33 \nQ 819 25 488 141 \nL 488 750 \nQ 750 597 1062 519 \nQ 1375 441 1716 441 \nQ 2309 441 2620 675 \nQ 2931 909 2931 1356 \nQ 2931 1769 2642 2001 \nQ 2353 2234 1838 2234 \nL 1294 2234 \nL 1294 2753 \nL 1863 2753 \nQ 2328 2753 2575 2939 \nQ 2822 3125 2822 3475 \nQ 2822 3834 2567 4026 \nQ 2313 4219 1838 4219 \nQ 1578 4219 1281 4162 \nQ 984 4106 628 3988 \nL 628 4550 \nQ 988 4650 1302 4700 \nQ 1616 4750 1894 4750 \nQ 2613 4750 3031 4423 \nQ 3450 4097 3450 3541 \nQ 3450 3153 3228 2886 \nQ 3006 2619 2597 2516 \nz\n\" id=\"DejaVuSans-33\" transform=\"scale(0.015625)\"/>\n       </defs>\n       <use xlink:href=\"#DejaVuSans-33\"/>\n       <use x=\"63.623047\" xlink:href=\"#DejaVuSans-30\"/>\n       <use x=\"127.246094\" xlink:href=\"#DejaVuSans-30\"/>\n       <use x=\"190.869141\" xlink:href=\"#DejaVuSans-30\"/>\n       <use x=\"254.492188\" xlink:href=\"#DejaVuSans-30\"/>\n      </g>\n     </g>\n    </g>\n    <g id=\"xtick_8\">\n     <g id=\"line2d_8\">\n      <path clip-path=\"url(#pba56fa87f0)\" d=\"M 602.551152 550.8 \nL 602.551152 7.2 \n\" style=\"fill:none;stroke:#ffffff;stroke-linecap:round;\"/>\n     </g>\n     <g id=\"text_8\">\n      <!-- 35000 -->\n      <g style=\"fill:#262626;\" transform=\"translate(585.054277 568.658281)scale(0.11 -0.11)\">\n       <use xlink:href=\"#DejaVuSans-33\"/>\n       <use x=\"63.623047\" xlink:href=\"#DejaVuSans-35\"/>\n       <use x=\"127.246094\" xlink:href=\"#DejaVuSans-30\"/>\n       <use x=\"190.869141\" xlink:href=\"#DejaVuSans-30\"/>\n       <use x=\"254.492188\" xlink:href=\"#DejaVuSans-30\"/>\n      </g>\n     </g>\n    </g>\n    <g id=\"text_9\">\n     <!-- length -->\n     <g style=\"fill:#262626;\" transform=\"translate(320.18375 584.064063)scale(0.12 -0.12)\">\n      <defs>\n       <path d=\"M 603 4863 \nL 1178 4863 \nL 1178 0 \nL 603 0 \nL 603 4863 \nz\n\" id=\"DejaVuSans-6c\" transform=\"scale(0.015625)\"/>\n       <path d=\"M 3597 1894 \nL 3597 1613 \nL 953 1613 \nQ 991 1019 1311 708 \nQ 1631 397 2203 397 \nQ 2534 397 2845 478 \nQ 3156 559 3463 722 \nL 3463 178 \nQ 3153 47 2828 -22 \nQ 2503 -91 2169 -91 \nQ 1331 -91 842 396 \nQ 353 884 353 1716 \nQ 353 2575 817 3079 \nQ 1281 3584 2069 3584 \nQ 2775 3584 3186 3129 \nQ 3597 2675 3597 1894 \nz\nM 3022 2063 \nQ 3016 2534 2758 2815 \nQ 2500 3097 2075 3097 \nQ 1594 3097 1305 2825 \nQ 1016 2553 972 2059 \nL 3022 2063 \nz\n\" id=\"DejaVuSans-65\" transform=\"scale(0.015625)\"/>\n       <path d=\"M 3513 2113 \nL 3513 0 \nL 2938 0 \nL 2938 2094 \nQ 2938 2591 2744 2837 \nQ 2550 3084 2163 3084 \nQ 1697 3084 1428 2787 \nQ 1159 2491 1159 1978 \nL 1159 0 \nL 581 0 \nL 581 3500 \nL 1159 3500 \nL 1159 2956 \nQ 1366 3272 1645 3428 \nQ 1925 3584 2291 3584 \nQ 2894 3584 3203 3211 \nQ 3513 2838 3513 2113 \nz\n\" id=\"DejaVuSans-6e\" transform=\"scale(0.015625)\"/>\n       <path d=\"M 2906 1791 \nQ 2906 2416 2648 2759 \nQ 2391 3103 1925 3103 \nQ 1463 3103 1205 2759 \nQ 947 2416 947 1791 \nQ 947 1169 1205 825 \nQ 1463 481 1925 481 \nQ 2391 481 2648 825 \nQ 2906 1169 2906 1791 \nz\nM 3481 434 \nQ 3481 -459 3084 -895 \nQ 2688 -1331 1869 -1331 \nQ 1566 -1331 1297 -1286 \nQ 1028 -1241 775 -1147 \nL 775 -588 \nQ 1028 -725 1275 -790 \nQ 1522 -856 1778 -856 \nQ 2344 -856 2625 -561 \nQ 2906 -266 2906 331 \nL 2906 616 \nQ 2728 306 2450 153 \nQ 2172 0 1784 0 \nQ 1141 0 747 490 \nQ 353 981 353 1791 \nQ 353 2603 747 3093 \nQ 1141 3584 1784 3584 \nQ 2172 3584 2450 3431 \nQ 2728 3278 2906 2969 \nL 2906 3500 \nL 3481 3500 \nL 3481 434 \nz\n\" id=\"DejaVuSans-67\" transform=\"scale(0.015625)\"/>\n       <path d=\"M 1172 4494 \nL 1172 3500 \nL 2356 3500 \nL 2356 3053 \nL 1172 3053 \nL 1172 1153 \nQ 1172 725 1289 603 \nQ 1406 481 1766 481 \nL 2356 481 \nL 2356 0 \nL 1766 0 \nQ 1100 0 847 248 \nQ 594 497 594 1153 \nL 594 3053 \nL 172 3053 \nL 172 3500 \nL 594 3500 \nL 594 4494 \nL 1172 4494 \nz\n\" id=\"DejaVuSans-74\" transform=\"scale(0.015625)\"/>\n       <path d=\"M 3513 2113 \nL 3513 0 \nL 2938 0 \nL 2938 2094 \nQ 2938 2591 2744 2837 \nQ 2550 3084 2163 3084 \nQ 1697 3084 1428 2787 \nQ 1159 2491 1159 1978 \nL 1159 0 \nL 581 0 \nL 581 4863 \nL 1159 4863 \nL 1159 2956 \nQ 1366 3272 1645 3428 \nQ 1925 3584 2291 3584 \nQ 2894 3584 3203 3211 \nQ 3513 2838 3513 2113 \nz\n\" id=\"DejaVuSans-68\" transform=\"scale(0.015625)\"/>\n      </defs>\n      <use xlink:href=\"#DejaVuSans-6c\"/>\n      <use x=\"27.783203\" xlink:href=\"#DejaVuSans-65\"/>\n      <use x=\"89.306641\" xlink:href=\"#DejaVuSans-6e\"/>\n      <use x=\"152.685547\" xlink:href=\"#DejaVuSans-67\"/>\n      <use x=\"216.162109\" xlink:href=\"#DejaVuSans-74\"/>\n      <use x=\"255.371094\" xlink:href=\"#DejaVuSans-68\"/>\n     </g>\n    </g>\n   </g>\n   <g id=\"matplotlib.axis_2\">\n    <g id=\"ytick_1\">\n     <g id=\"line2d_9\">\n      <path clip-path=\"url(#pba56fa87f0)\" d=\"M 60.30875 550.8 \nL 618.30875 550.8 \n\" style=\"fill:none;stroke:#ffffff;stroke-linecap:round;\"/>\n     </g>\n     <g id=\"text_10\">\n      <!-- 0 -->\n      <g style=\"fill:#262626;\" transform=\"translate(43.81 554.979141)scale(0.11 -0.11)\">\n       <use xlink:href=\"#DejaVuSans-30\"/>\n      </g>\n     </g>\n    </g>\n    <g id=\"ytick_2\">\n     <g id=\"line2d_10\">\n      <path clip-path=\"url(#pba56fa87f0)\" d=\"M 60.30875 477.800242 \nL 618.30875 477.800242 \n\" style=\"fill:none;stroke:#ffffff;stroke-linecap:round;\"/>\n     </g>\n     <g id=\"text_11\">\n      <!-- 250 -->\n      <g style=\"fill:#262626;\" transform=\"translate(29.8125 481.979382)scale(0.11 -0.11)\">\n       <use xlink:href=\"#DejaVuSans-32\"/>\n       <use x=\"63.623047\" xlink:href=\"#DejaVuSans-35\"/>\n       <use x=\"127.246094\" xlink:href=\"#DejaVuSans-30\"/>\n      </g>\n     </g>\n    </g>\n    <g id=\"ytick_3\">\n     <g id=\"line2d_11\">\n      <path clip-path=\"url(#pba56fa87f0)\" d=\"M 60.30875 404.800483 \nL 618.30875 404.800483 \n\" style=\"fill:none;stroke:#ffffff;stroke-linecap:round;\"/>\n     </g>\n     <g id=\"text_12\">\n      <!-- 500 -->\n      <g style=\"fill:#262626;\" transform=\"translate(29.8125 408.979624)scale(0.11 -0.11)\">\n       <use xlink:href=\"#DejaVuSans-35\"/>\n       <use x=\"63.623047\" xlink:href=\"#DejaVuSans-30\"/>\n       <use x=\"127.246094\" xlink:href=\"#DejaVuSans-30\"/>\n      </g>\n     </g>\n    </g>\n    <g id=\"ytick_4\">\n     <g id=\"line2d_12\">\n      <path clip-path=\"url(#pba56fa87f0)\" d=\"M 60.30875 331.800725 \nL 618.30875 331.800725 \n\" style=\"fill:none;stroke:#ffffff;stroke-linecap:round;\"/>\n     </g>\n     <g id=\"text_13\">\n      <!-- 750 -->\n      <g style=\"fill:#262626;\" transform=\"translate(29.8125 335.979866)scale(0.11 -0.11)\">\n       <defs>\n        <path d=\"M 525 4666 \nL 3525 4666 \nL 3525 4397 \nL 1831 0 \nL 1172 0 \nL 2766 4134 \nL 525 4134 \nL 525 4666 \nz\n\" id=\"DejaVuSans-37\" transform=\"scale(0.015625)\"/>\n       </defs>\n       <use xlink:href=\"#DejaVuSans-37\"/>\n       <use x=\"63.623047\" xlink:href=\"#DejaVuSans-35\"/>\n       <use x=\"127.246094\" xlink:href=\"#DejaVuSans-30\"/>\n      </g>\n     </g>\n    </g>\n    <g id=\"ytick_5\">\n     <g id=\"line2d_13\">\n      <path clip-path=\"url(#pba56fa87f0)\" d=\"M 60.30875 258.800967 \nL 618.30875 258.800967 \n\" style=\"fill:none;stroke:#ffffff;stroke-linecap:round;\"/>\n     </g>\n     <g id=\"text_14\">\n      <!-- 1000 -->\n      <g style=\"fill:#262626;\" transform=\"translate(22.81375 262.980108)scale(0.11 -0.11)\">\n       <use xlink:href=\"#DejaVuSans-31\"/>\n       <use x=\"63.623047\" xlink:href=\"#DejaVuSans-30\"/>\n       <use x=\"127.246094\" xlink:href=\"#DejaVuSans-30\"/>\n       <use x=\"190.869141\" xlink:href=\"#DejaVuSans-30\"/>\n      </g>\n     </g>\n    </g>\n    <g id=\"ytick_6\">\n     <g id=\"line2d_14\">\n      <path clip-path=\"url(#pba56fa87f0)\" d=\"M 60.30875 185.801209 \nL 618.30875 185.801209 \n\" style=\"fill:none;stroke:#ffffff;stroke-linecap:round;\"/>\n     </g>\n     <g id=\"text_15\">\n      <!-- 1250 -->\n      <g style=\"fill:#262626;\" transform=\"translate(22.81375 189.980349)scale(0.11 -0.11)\">\n       <use xlink:href=\"#DejaVuSans-31\"/>\n       <use x=\"63.623047\" xlink:href=\"#DejaVuSans-32\"/>\n       <use x=\"127.246094\" xlink:href=\"#DejaVuSans-35\"/>\n       <use x=\"190.869141\" xlink:href=\"#DejaVuSans-30\"/>\n      </g>\n     </g>\n    </g>\n    <g id=\"ytick_7\">\n     <g id=\"line2d_15\">\n      <path clip-path=\"url(#pba56fa87f0)\" d=\"M 60.30875 112.80145 \nL 618.30875 112.80145 \n\" style=\"fill:none;stroke:#ffffff;stroke-linecap:round;\"/>\n     </g>\n     <g id=\"text_16\">\n      <!-- 1500 -->\n      <g style=\"fill:#262626;\" transform=\"translate(22.81375 116.980591)scale(0.11 -0.11)\">\n       <use xlink:href=\"#DejaVuSans-31\"/>\n       <use x=\"63.623047\" xlink:href=\"#DejaVuSans-35\"/>\n       <use x=\"127.246094\" xlink:href=\"#DejaVuSans-30\"/>\n       <use x=\"190.869141\" xlink:href=\"#DejaVuSans-30\"/>\n      </g>\n     </g>\n    </g>\n    <g id=\"ytick_8\">\n     <g id=\"line2d_16\">\n      <path clip-path=\"url(#pba56fa87f0)\" d=\"M 60.30875 39.801692 \nL 618.30875 39.801692 \n\" style=\"fill:none;stroke:#ffffff;stroke-linecap:round;\"/>\n     </g>\n     <g id=\"text_17\">\n      <!-- 1750 -->\n      <g style=\"fill:#262626;\" transform=\"translate(22.81375 43.980833)scale(0.11 -0.11)\">\n       <use xlink:href=\"#DejaVuSans-31\"/>\n       <use x=\"63.623047\" xlink:href=\"#DejaVuSans-37\"/>\n       <use x=\"127.246094\" xlink:href=\"#DejaVuSans-35\"/>\n       <use x=\"190.869141\" xlink:href=\"#DejaVuSans-30\"/>\n      </g>\n     </g>\n    </g>\n    <g id=\"text_18\">\n     <!-- Count -->\n     <g style=\"fill:#262626;\" transform=\"translate(16.318125 296.818125)rotate(-90)scale(0.12 -0.12)\">\n      <defs>\n       <path d=\"M 4122 4306 \nL 4122 3641 \nQ 3803 3938 3442 4084 \nQ 3081 4231 2675 4231 \nQ 1875 4231 1450 3742 \nQ 1025 3253 1025 2328 \nQ 1025 1406 1450 917 \nQ 1875 428 2675 428 \nQ 3081 428 3442 575 \nQ 3803 722 4122 1019 \nL 4122 359 \nQ 3791 134 3420 21 \nQ 3050 -91 2638 -91 \nQ 1578 -91 968 557 \nQ 359 1206 359 2328 \nQ 359 3453 968 4101 \nQ 1578 4750 2638 4750 \nQ 3056 4750 3426 4639 \nQ 3797 4528 4122 4306 \nz\n\" id=\"DejaVuSans-43\" transform=\"scale(0.015625)\"/>\n       <path d=\"M 1959 3097 \nQ 1497 3097 1228 2736 \nQ 959 2375 959 1747 \nQ 959 1119 1226 758 \nQ 1494 397 1959 397 \nQ 2419 397 2687 759 \nQ 2956 1122 2956 1747 \nQ 2956 2369 2687 2733 \nQ 2419 3097 1959 3097 \nz\nM 1959 3584 \nQ 2709 3584 3137 3096 \nQ 3566 2609 3566 1747 \nQ 3566 888 3137 398 \nQ 2709 -91 1959 -91 \nQ 1206 -91 779 398 \nQ 353 888 353 1747 \nQ 353 2609 779 3096 \nQ 1206 3584 1959 3584 \nz\n\" id=\"DejaVuSans-6f\" transform=\"scale(0.015625)\"/>\n       <path d=\"M 544 1381 \nL 544 3500 \nL 1119 3500 \nL 1119 1403 \nQ 1119 906 1312 657 \nQ 1506 409 1894 409 \nQ 2359 409 2629 706 \nQ 2900 1003 2900 1516 \nL 2900 3500 \nL 3475 3500 \nL 3475 0 \nL 2900 0 \nL 2900 538 \nQ 2691 219 2414 64 \nQ 2138 -91 1772 -91 \nQ 1169 -91 856 284 \nQ 544 659 544 1381 \nz\nM 1991 3584 \nL 1991 3584 \nz\n\" id=\"DejaVuSans-75\" transform=\"scale(0.015625)\"/>\n      </defs>\n      <use xlink:href=\"#DejaVuSans-43\"/>\n      <use x=\"69.824219\" xlink:href=\"#DejaVuSans-6f\"/>\n      <use x=\"131.005859\" xlink:href=\"#DejaVuSans-75\"/>\n      <use x=\"194.384766\" xlink:href=\"#DejaVuSans-6e\"/>\n      <use x=\"257.763672\" xlink:href=\"#DejaVuSans-74\"/>\n     </g>\n    </g>\n   </g>\n   <g id=\"patch_3\">\n    <path clip-path=\"url(#pba56fa87f0)\" d=\"M 85.672386 550.8 \nL 89.170819 550.8 \nL 89.170819 290.336862 \nL 85.672386 290.336862 \nz\n\" style=\"fill:#4c72b0;fill-opacity:0.75;stroke:#ffffff;stroke-linejoin:miter;stroke-width:0.349843;\"/>\n   </g>\n   <g id=\"patch_4\">\n    <path clip-path=\"url(#pba56fa87f0)\" d=\"M 89.170819 550.8 \nL 92.669252 550.8 \nL 92.669252 33.085714 \nL 89.170819 33.085714 \nz\n\" style=\"fill:#4c72b0;fill-opacity:0.75;stroke:#ffffff;stroke-linejoin:miter;stroke-width:0.349843;\"/>\n   </g>\n   <g id=\"patch_5\">\n    <path clip-path=\"url(#pba56fa87f0)\" d=\"M 92.669252 550.8 \nL 96.167684 550.8 \nL 96.167684 283.328886 \nL 92.669252 283.328886 \nz\n\" style=\"fill:#4c72b0;fill-opacity:0.75;stroke:#ffffff;stroke-linejoin:miter;stroke-width:0.349843;\"/>\n   </g>\n   <g id=\"patch_6\">\n    <path clip-path=\"url(#pba56fa87f0)\" d=\"M 96.167684 550.8 \nL 99.666117 550.8 \nL 99.666117 414.436452 \nL 96.167684 414.436452 \nz\n\" style=\"fill:#4c72b0;fill-opacity:0.75;stroke:#ffffff;stroke-linejoin:miter;stroke-width:0.349843;\"/>\n   </g>\n   <g id=\"patch_7\">\n    <path clip-path=\"url(#pba56fa87f0)\" d=\"M 99.666117 550.8 \nL 103.164549 550.8 \nL 103.164549 472.836258 \nL 99.666117 472.836258 \nz\n\" style=\"fill:#4c72b0;fill-opacity:0.75;stroke:#ffffff;stroke-linejoin:miter;stroke-width:0.349843;\"/>\n   </g>\n   <g id=\"patch_8\">\n    <path clip-path=\"url(#pba56fa87f0)\" d=\"M 103.164549 550.8 \nL 106.662982 550.8 \nL 106.662982 317.784772 \nL 103.164549 317.784772 \nz\n\" style=\"fill:#4c72b0;fill-opacity:0.75;stroke:#ffffff;stroke-linejoin:miter;stroke-width:0.349843;\"/>\n   </g>\n   <g id=\"patch_9\">\n    <path clip-path=\"url(#pba56fa87f0)\" d=\"M 106.662982 550.8 \nL 110.161415 550.8 \nL 110.161415 521.600097 \nL 106.662982 521.600097 \nz\n\" style=\"fill:#4c72b0;fill-opacity:0.75;stroke:#ffffff;stroke-linejoin:miter;stroke-width:0.349843;\"/>\n   </g>\n   <g id=\"patch_10\">\n    <path clip-path=\"url(#pba56fa87f0)\" d=\"M 110.161415 550.8 \nL 113.659847 550.8 \nL 113.659847 528.900073 \nL 110.161415 528.900073 \nz\n\" style=\"fill:#4c72b0;fill-opacity:0.75;stroke:#ffffff;stroke-linejoin:miter;stroke-width:0.349843;\"/>\n   </g>\n   <g id=\"patch_11\">\n    <path clip-path=\"url(#pba56fa87f0)\" d=\"M 113.659847 550.8 \nL 117.15828 550.8 \nL 117.15828 532.988059 \nL 113.659847 532.988059 \nz\n\" style=\"fill:#4c72b0;fill-opacity:0.75;stroke:#ffffff;stroke-linejoin:miter;stroke-width:0.349843;\"/>\n   </g>\n   <g id=\"patch_12\">\n    <path clip-path=\"url(#pba56fa87f0)\" d=\"M 117.15828 550.8 \nL 120.656712 550.8 \nL 120.656712 538.244042 \nL 117.15828 538.244042 \nz\n\" style=\"fill:#4c72b0;fill-opacity:0.75;stroke:#ffffff;stroke-linejoin:miter;stroke-width:0.349843;\"/>\n   </g>\n   <g id=\"patch_13\">\n    <path clip-path=\"url(#pba56fa87f0)\" d=\"M 120.656712 550.8 \nL 124.155145 550.8 \nL 124.155145 540.288035 \nL 120.656712 540.288035 \nz\n\" style=\"fill:#4c72b0;fill-opacity:0.75;stroke:#ffffff;stroke-linejoin:miter;stroke-width:0.349843;\"/>\n   </g>\n   <g id=\"patch_14\">\n    <path clip-path=\"url(#pba56fa87f0)\" d=\"M 124.155145 550.8 \nL 127.653578 550.8 \nL 127.653578 543.792023 \nL 124.155145 543.792023 \nz\n\" style=\"fill:#4c72b0;fill-opacity:0.75;stroke:#ffffff;stroke-linejoin:miter;stroke-width:0.349843;\"/>\n   </g>\n   <g id=\"patch_15\">\n    <path clip-path=\"url(#pba56fa87f0)\" d=\"M 127.653578 550.8 \nL 131.15201 550.8 \nL 131.15201 546.712014 \nL 127.653578 546.712014 \nz\n\" style=\"fill:#4c72b0;fill-opacity:0.75;stroke:#ffffff;stroke-linejoin:miter;stroke-width:0.349843;\"/>\n   </g>\n   <g id=\"patch_16\">\n    <path clip-path=\"url(#pba56fa87f0)\" d=\"M 131.15201 550.8 \nL 134.650443 550.8 \nL 134.650443 546.420015 \nL 131.15201 546.420015 \nz\n\" style=\"fill:#4c72b0;fill-opacity:0.75;stroke:#ffffff;stroke-linejoin:miter;stroke-width:0.349843;\"/>\n   </g>\n   <g id=\"patch_17\">\n    <path clip-path=\"url(#pba56fa87f0)\" d=\"M 134.650443 550.8 \nL 138.148875 550.8 \nL 138.148875 548.464008 \nL 134.650443 548.464008 \nz\n\" style=\"fill:#4c72b0;fill-opacity:0.75;stroke:#ffffff;stroke-linejoin:miter;stroke-width:0.349843;\"/>\n   </g>\n   <g id=\"patch_18\">\n    <path clip-path=\"url(#pba56fa87f0)\" d=\"M 138.148875 550.8 \nL 141.647308 550.8 \nL 141.647308 549.632004 \nL 138.148875 549.632004 \nz\n\" style=\"fill:#4c72b0;fill-opacity:0.75;stroke:#ffffff;stroke-linejoin:miter;stroke-width:0.349843;\"/>\n   </g>\n   <g id=\"patch_19\">\n    <path clip-path=\"url(#pba56fa87f0)\" d=\"M 141.647308 550.8 \nL 145.145741 550.8 \nL 145.145741 548.756007 \nL 141.647308 548.756007 \nz\n\" style=\"fill:#4c72b0;fill-opacity:0.75;stroke:#ffffff;stroke-linejoin:miter;stroke-width:0.349843;\"/>\n   </g>\n   <g id=\"patch_20\">\n    <path clip-path=\"url(#pba56fa87f0)\" d=\"M 145.145741 550.8 \nL 148.644173 550.8 \nL 148.644173 549.048006 \nL 145.145741 549.048006 \nz\n\" style=\"fill:#4c72b0;fill-opacity:0.75;stroke:#ffffff;stroke-linejoin:miter;stroke-width:0.349843;\"/>\n   </g>\n   <g id=\"patch_21\">\n    <path clip-path=\"url(#pba56fa87f0)\" d=\"M 148.644173 550.8 \nL 152.142606 550.8 \nL 152.142606 330.632729 \nL 148.644173 330.632729 \nz\n\" style=\"fill:#4c72b0;fill-opacity:0.75;stroke:#ffffff;stroke-linejoin:miter;stroke-width:0.349843;\"/>\n   </g>\n   <g id=\"patch_22\">\n    <path clip-path=\"url(#pba56fa87f0)\" d=\"M 152.142606 550.8 \nL 155.641038 550.8 \nL 155.641038 548.756007 \nL 152.142606 548.756007 \nz\n\" style=\"fill:#4c72b0;fill-opacity:0.75;stroke:#ffffff;stroke-linejoin:miter;stroke-width:0.349843;\"/>\n   </g>\n   <g id=\"patch_23\">\n    <path clip-path=\"url(#pba56fa87f0)\" d=\"M 155.641038 550.8 \nL 159.139471 550.8 \nL 159.139471 549.340005 \nL 155.641038 549.340005 \nz\n\" style=\"fill:#4c72b0;fill-opacity:0.75;stroke:#ffffff;stroke-linejoin:miter;stroke-width:0.349843;\"/>\n   </g>\n   <g id=\"patch_24\">\n    <path clip-path=\"url(#pba56fa87f0)\" d=\"M 159.139471 550.8 \nL 162.637904 550.8 \nL 162.637904 549.048006 \nL 159.139471 549.048006 \nz\n\" style=\"fill:#4c72b0;fill-opacity:0.75;stroke:#ffffff;stroke-linejoin:miter;stroke-width:0.349843;\"/>\n   </g>\n   <g id=\"patch_25\">\n    <path clip-path=\"url(#pba56fa87f0)\" d=\"M 162.637904 550.8 \nL 166.136336 550.8 \nL 166.136336 550.8 \nL 162.637904 550.8 \nz\n\" style=\"fill:#4c72b0;fill-opacity:0.75;stroke:#ffffff;stroke-linejoin:miter;stroke-width:0.349843;\"/>\n   </g>\n   <g id=\"patch_26\">\n    <path clip-path=\"url(#pba56fa87f0)\" d=\"M 166.136336 550.8 \nL 169.634769 550.8 \nL 169.634769 550.216002 \nL 166.136336 550.216002 \nz\n\" style=\"fill:#4c72b0;fill-opacity:0.75;stroke:#ffffff;stroke-linejoin:miter;stroke-width:0.349843;\"/>\n   </g>\n   <g id=\"patch_27\">\n    <path clip-path=\"url(#pba56fa87f0)\" d=\"M 169.634769 550.8 \nL 173.133201 550.8 \nL 173.133201 550.508001 \nL 169.634769 550.508001 \nz\n\" style=\"fill:#4c72b0;fill-opacity:0.75;stroke:#ffffff;stroke-linejoin:miter;stroke-width:0.349843;\"/>\n   </g>\n   <g id=\"patch_28\">\n    <path clip-path=\"url(#pba56fa87f0)\" d=\"M 173.133201 550.8 \nL 176.631634 550.8 \nL 176.631634 550.8 \nL 173.133201 550.8 \nz\n\" style=\"fill:#4c72b0;fill-opacity:0.75;stroke:#ffffff;stroke-linejoin:miter;stroke-width:0.349843;\"/>\n   </g>\n   <g id=\"patch_29\">\n    <path clip-path=\"url(#pba56fa87f0)\" d=\"M 176.631634 550.8 \nL 180.130067 550.8 \nL 180.130067 550.508001 \nL 176.631634 550.508001 \nz\n\" style=\"fill:#4c72b0;fill-opacity:0.75;stroke:#ffffff;stroke-linejoin:miter;stroke-width:0.349843;\"/>\n   </g>\n   <g id=\"patch_30\">\n    <path clip-path=\"url(#pba56fa87f0)\" d=\"M 180.130067 550.8 \nL 183.628499 550.8 \nL 183.628499 550.8 \nL 180.130067 550.8 \nz\n\" style=\"fill:#4c72b0;fill-opacity:0.75;stroke:#ffffff;stroke-linejoin:miter;stroke-width:0.349843;\"/>\n   </g>\n   <g id=\"patch_31\">\n    <path clip-path=\"url(#pba56fa87f0)\" d=\"M 183.628499 550.8 \nL 187.126932 550.8 \nL 187.126932 550.216002 \nL 183.628499 550.216002 \nz\n\" style=\"fill:#4c72b0;fill-opacity:0.75;stroke:#ffffff;stroke-linejoin:miter;stroke-width:0.349843;\"/>\n   </g>\n   <g id=\"patch_32\">\n    <path clip-path=\"url(#pba56fa87f0)\" d=\"M 187.126932 550.8 \nL 190.625364 550.8 \nL 190.625364 271.356925 \nL 187.126932 271.356925 \nz\n\" style=\"fill:#4c72b0;fill-opacity:0.75;stroke:#ffffff;stroke-linejoin:miter;stroke-width:0.349843;\"/>\n   </g>\n   <g id=\"patch_33\">\n    <path clip-path=\"url(#pba56fa87f0)\" d=\"M 190.625364 550.8 \nL 194.123797 550.8 \nL 194.123797 550.8 \nL 190.625364 550.8 \nz\n\" style=\"fill:#4c72b0;fill-opacity:0.75;stroke:#ffffff;stroke-linejoin:miter;stroke-width:0.349843;\"/>\n   </g>\n   <g id=\"patch_34\">\n    <path clip-path=\"url(#pba56fa87f0)\" d=\"M 194.123797 550.8 \nL 197.62223 550.8 \nL 197.62223 550.216002 \nL 194.123797 550.216002 \nz\n\" style=\"fill:#4c72b0;fill-opacity:0.75;stroke:#ffffff;stroke-linejoin:miter;stroke-width:0.349843;\"/>\n   </g>\n   <g id=\"patch_35\">\n    <path clip-path=\"url(#pba56fa87f0)\" d=\"M 197.62223 550.8 \nL 201.120662 550.8 \nL 201.120662 550.8 \nL 197.62223 550.8 \nz\n\" style=\"fill:#4c72b0;fill-opacity:0.75;stroke:#ffffff;stroke-linejoin:miter;stroke-width:0.349843;\"/>\n   </g>\n   <g id=\"patch_36\">\n    <path clip-path=\"url(#pba56fa87f0)\" d=\"M 201.120662 550.8 \nL 204.619095 550.8 \nL 204.619095 550.8 \nL 201.120662 550.8 \nz\n\" style=\"fill:#4c72b0;fill-opacity:0.75;stroke:#ffffff;stroke-linejoin:miter;stroke-width:0.349843;\"/>\n   </g>\n   <g id=\"patch_37\">\n    <path clip-path=\"url(#pba56fa87f0)\" d=\"M 204.619095 550.8 \nL 208.117527 550.8 \nL 208.117527 550.8 \nL 204.619095 550.8 \nz\n\" style=\"fill:#4c72b0;fill-opacity:0.75;stroke:#ffffff;stroke-linejoin:miter;stroke-width:0.349843;\"/>\n   </g>\n   <g id=\"patch_38\">\n    <path clip-path=\"url(#pba56fa87f0)\" d=\"M 208.117527 550.8 \nL 211.61596 550.8 \nL 211.61596 550.8 \nL 208.117527 550.8 \nz\n\" style=\"fill:#4c72b0;fill-opacity:0.75;stroke:#ffffff;stroke-linejoin:miter;stroke-width:0.349843;\"/>\n   </g>\n   <g id=\"patch_39\">\n    <path clip-path=\"url(#pba56fa87f0)\" d=\"M 211.61596 550.8 \nL 215.114393 550.8 \nL 215.114393 550.8 \nL 211.61596 550.8 \nz\n\" style=\"fill:#4c72b0;fill-opacity:0.75;stroke:#ffffff;stroke-linejoin:miter;stroke-width:0.349843;\"/>\n   </g>\n   <g id=\"patch_40\">\n    <path clip-path=\"url(#pba56fa87f0)\" d=\"M 215.114393 550.8 \nL 218.612825 550.8 \nL 218.612825 550.508001 \nL 215.114393 550.508001 \nz\n\" style=\"fill:#4c72b0;fill-opacity:0.75;stroke:#ffffff;stroke-linejoin:miter;stroke-width:0.349843;\"/>\n   </g>\n   <g id=\"patch_41\">\n    <path clip-path=\"url(#pba56fa87f0)\" d=\"M 218.612825 550.8 \nL 222.111258 550.8 \nL 222.111258 550.8 \nL 218.612825 550.8 \nz\n\" style=\"fill:#4c72b0;fill-opacity:0.75;stroke:#ffffff;stroke-linejoin:miter;stroke-width:0.349843;\"/>\n   </g>\n   <g id=\"patch_42\">\n    <path clip-path=\"url(#pba56fa87f0)\" d=\"M 222.111258 550.8 \nL 225.60969 550.8 \nL 225.60969 550.8 \nL 222.111258 550.8 \nz\n\" style=\"fill:#4c72b0;fill-opacity:0.75;stroke:#ffffff;stroke-linejoin:miter;stroke-width:0.349843;\"/>\n   </g>\n   <g id=\"patch_43\">\n    <path clip-path=\"url(#pba56fa87f0)\" d=\"M 225.60969 550.8 \nL 229.108123 550.8 \nL 229.108123 550.8 \nL 225.60969 550.8 \nz\n\" style=\"fill:#4c72b0;fill-opacity:0.75;stroke:#ffffff;stroke-linejoin:miter;stroke-width:0.349843;\"/>\n   </g>\n   <g id=\"patch_44\">\n    <path clip-path=\"url(#pba56fa87f0)\" d=\"M 229.108123 550.8 \nL 232.606556 550.8 \nL 232.606556 550.8 \nL 229.108123 550.8 \nz\n\" style=\"fill:#4c72b0;fill-opacity:0.75;stroke:#ffffff;stroke-linejoin:miter;stroke-width:0.349843;\"/>\n   </g>\n   <g id=\"patch_45\">\n    <path clip-path=\"url(#pba56fa87f0)\" d=\"M 232.606556 550.8 \nL 236.104988 550.8 \nL 236.104988 550.8 \nL 232.606556 550.8 \nz\n\" style=\"fill:#4c72b0;fill-opacity:0.75;stroke:#ffffff;stroke-linejoin:miter;stroke-width:0.349843;\"/>\n   </g>\n   <g id=\"patch_46\">\n    <path clip-path=\"url(#pba56fa87f0)\" d=\"M 236.104988 550.8 \nL 239.603421 550.8 \nL 239.603421 550.8 \nL 236.104988 550.8 \nz\n\" style=\"fill:#4c72b0;fill-opacity:0.75;stroke:#ffffff;stroke-linejoin:miter;stroke-width:0.349843;\"/>\n   </g>\n   <g id=\"patch_47\">\n    <path clip-path=\"url(#pba56fa87f0)\" d=\"M 239.603421 550.8 \nL 243.101853 550.8 \nL 243.101853 550.8 \nL 239.603421 550.8 \nz\n\" style=\"fill:#4c72b0;fill-opacity:0.75;stroke:#ffffff;stroke-linejoin:miter;stroke-width:0.349843;\"/>\n   </g>\n   <g id=\"patch_48\">\n    <path clip-path=\"url(#pba56fa87f0)\" d=\"M 243.101853 550.8 \nL 246.600286 550.8 \nL 246.600286 550.8 \nL 243.101853 550.8 \nz\n\" style=\"fill:#4c72b0;fill-opacity:0.75;stroke:#ffffff;stroke-linejoin:miter;stroke-width:0.349843;\"/>\n   </g>\n   <g id=\"patch_49\">\n    <path clip-path=\"url(#pba56fa87f0)\" d=\"M 246.600286 550.8 \nL 250.098719 550.8 \nL 250.098719 550.8 \nL 246.600286 550.8 \nz\n\" style=\"fill:#4c72b0;fill-opacity:0.75;stroke:#ffffff;stroke-linejoin:miter;stroke-width:0.349843;\"/>\n   </g>\n   <g id=\"patch_50\">\n    <path clip-path=\"url(#pba56fa87f0)\" d=\"M 250.098719 550.8 \nL 253.597151 550.8 \nL 253.597151 550.8 \nL 250.098719 550.8 \nz\n\" style=\"fill:#4c72b0;fill-opacity:0.75;stroke:#ffffff;stroke-linejoin:miter;stroke-width:0.349843;\"/>\n   </g>\n   <g id=\"patch_51\">\n    <path clip-path=\"url(#pba56fa87f0)\" d=\"M 253.597151 550.8 \nL 257.095584 550.8 \nL 257.095584 550.8 \nL 253.597151 550.8 \nz\n\" style=\"fill:#4c72b0;fill-opacity:0.75;stroke:#ffffff;stroke-linejoin:miter;stroke-width:0.349843;\"/>\n   </g>\n   <g id=\"patch_52\">\n    <path clip-path=\"url(#pba56fa87f0)\" d=\"M 257.095584 550.8 \nL 260.594016 550.8 \nL 260.594016 550.8 \nL 257.095584 550.8 \nz\n\" style=\"fill:#4c72b0;fill-opacity:0.75;stroke:#ffffff;stroke-linejoin:miter;stroke-width:0.349843;\"/>\n   </g>\n   <g id=\"patch_53\">\n    <path clip-path=\"url(#pba56fa87f0)\" d=\"M 260.594016 550.8 \nL 264.092449 550.8 \nL 264.092449 550.8 \nL 260.594016 550.8 \nz\n\" style=\"fill:#4c72b0;fill-opacity:0.75;stroke:#ffffff;stroke-linejoin:miter;stroke-width:0.349843;\"/>\n   </g>\n   <g id=\"patch_54\">\n    <path clip-path=\"url(#pba56fa87f0)\" d=\"M 264.092449 550.8 \nL 267.590882 550.8 \nL 267.590882 550.8 \nL 264.092449 550.8 \nz\n\" style=\"fill:#4c72b0;fill-opacity:0.75;stroke:#ffffff;stroke-linejoin:miter;stroke-width:0.349843;\"/>\n   </g>\n   <g id=\"patch_55\">\n    <path clip-path=\"url(#pba56fa87f0)\" d=\"M 267.590882 550.8 \nL 271.089314 550.8 \nL 271.089314 550.8 \nL 267.590882 550.8 \nz\n\" style=\"fill:#4c72b0;fill-opacity:0.75;stroke:#ffffff;stroke-linejoin:miter;stroke-width:0.349843;\"/>\n   </g>\n   <g id=\"patch_56\">\n    <path clip-path=\"url(#pba56fa87f0)\" d=\"M 271.089314 550.8 \nL 274.587747 550.8 \nL 274.587747 550.8 \nL 271.089314 550.8 \nz\n\" style=\"fill:#4c72b0;fill-opacity:0.75;stroke:#ffffff;stroke-linejoin:miter;stroke-width:0.349843;\"/>\n   </g>\n   <g id=\"patch_57\">\n    <path clip-path=\"url(#pba56fa87f0)\" d=\"M 274.587747 550.8 \nL 278.086179 550.8 \nL 278.086179 550.8 \nL 274.587747 550.8 \nz\n\" style=\"fill:#4c72b0;fill-opacity:0.75;stroke:#ffffff;stroke-linejoin:miter;stroke-width:0.349843;\"/>\n   </g>\n   <g id=\"patch_58\">\n    <path clip-path=\"url(#pba56fa87f0)\" d=\"M 278.086179 550.8 \nL 281.584612 550.8 \nL 281.584612 550.8 \nL 278.086179 550.8 \nz\n\" style=\"fill:#4c72b0;fill-opacity:0.75;stroke:#ffffff;stroke-linejoin:miter;stroke-width:0.349843;\"/>\n   </g>\n   <g id=\"patch_59\">\n    <path clip-path=\"url(#pba56fa87f0)\" d=\"M 281.584612 550.8 \nL 285.083045 550.8 \nL 285.083045 550.8 \nL 281.584612 550.8 \nz\n\" style=\"fill:#4c72b0;fill-opacity:0.75;stroke:#ffffff;stroke-linejoin:miter;stroke-width:0.349843;\"/>\n   </g>\n   <g id=\"patch_60\">\n    <path clip-path=\"url(#pba56fa87f0)\" d=\"M 285.083045 550.8 \nL 288.581477 550.8 \nL 288.581477 550.8 \nL 285.083045 550.8 \nz\n\" style=\"fill:#4c72b0;fill-opacity:0.75;stroke:#ffffff;stroke-linejoin:miter;stroke-width:0.349843;\"/>\n   </g>\n   <g id=\"patch_61\">\n    <path clip-path=\"url(#pba56fa87f0)\" d=\"M 288.581477 550.8 \nL 292.07991 550.8 \nL 292.07991 550.8 \nL 288.581477 550.8 \nz\n\" style=\"fill:#4c72b0;fill-opacity:0.75;stroke:#ffffff;stroke-linejoin:miter;stroke-width:0.349843;\"/>\n   </g>\n   <g id=\"patch_62\">\n    <path clip-path=\"url(#pba56fa87f0)\" d=\"M 292.07991 550.8 \nL 295.578342 550.8 \nL 295.578342 550.8 \nL 292.07991 550.8 \nz\n\" style=\"fill:#4c72b0;fill-opacity:0.75;stroke:#ffffff;stroke-linejoin:miter;stroke-width:0.349843;\"/>\n   </g>\n   <g id=\"patch_63\">\n    <path clip-path=\"url(#pba56fa87f0)\" d=\"M 295.578342 550.8 \nL 299.076775 550.8 \nL 299.076775 550.8 \nL 295.578342 550.8 \nz\n\" style=\"fill:#4c72b0;fill-opacity:0.75;stroke:#ffffff;stroke-linejoin:miter;stroke-width:0.349843;\"/>\n   </g>\n   <g id=\"patch_64\">\n    <path clip-path=\"url(#pba56fa87f0)\" d=\"M 299.076775 550.8 \nL 302.575208 550.8 \nL 302.575208 550.8 \nL 299.076775 550.8 \nz\n\" style=\"fill:#4c72b0;fill-opacity:0.75;stroke:#ffffff;stroke-linejoin:miter;stroke-width:0.349843;\"/>\n   </g>\n   <g id=\"patch_65\">\n    <path clip-path=\"url(#pba56fa87f0)\" d=\"M 302.575208 550.8 \nL 306.07364 550.8 \nL 306.07364 550.8 \nL 302.575208 550.8 \nz\n\" style=\"fill:#4c72b0;fill-opacity:0.75;stroke:#ffffff;stroke-linejoin:miter;stroke-width:0.349843;\"/>\n   </g>\n   <g id=\"patch_66\">\n    <path clip-path=\"url(#pba56fa87f0)\" d=\"M 306.07364 550.8 \nL 309.572073 550.8 \nL 309.572073 550.8 \nL 306.07364 550.8 \nz\n\" style=\"fill:#4c72b0;fill-opacity:0.75;stroke:#ffffff;stroke-linejoin:miter;stroke-width:0.349843;\"/>\n   </g>\n   <g id=\"patch_67\">\n    <path clip-path=\"url(#pba56fa87f0)\" d=\"M 309.572073 550.8 \nL 313.070505 550.8 \nL 313.070505 550.8 \nL 309.572073 550.8 \nz\n\" style=\"fill:#4c72b0;fill-opacity:0.75;stroke:#ffffff;stroke-linejoin:miter;stroke-width:0.349843;\"/>\n   </g>\n   <g id=\"patch_68\">\n    <path clip-path=\"url(#pba56fa87f0)\" d=\"M 313.070505 550.8 \nL 316.568938 550.8 \nL 316.568938 550.8 \nL 313.070505 550.8 \nz\n\" style=\"fill:#4c72b0;fill-opacity:0.75;stroke:#ffffff;stroke-linejoin:miter;stroke-width:0.349843;\"/>\n   </g>\n   <g id=\"patch_69\">\n    <path clip-path=\"url(#pba56fa87f0)\" d=\"M 316.568938 550.8 \nL 320.067371 550.8 \nL 320.067371 550.8 \nL 316.568938 550.8 \nz\n\" style=\"fill:#4c72b0;fill-opacity:0.75;stroke:#ffffff;stroke-linejoin:miter;stroke-width:0.349843;\"/>\n   </g>\n   <g id=\"patch_70\">\n    <path clip-path=\"url(#pba56fa87f0)\" d=\"M 320.067371 550.8 \nL 323.565803 550.8 \nL 323.565803 550.8 \nL 320.067371 550.8 \nz\n\" style=\"fill:#4c72b0;fill-opacity:0.75;stroke:#ffffff;stroke-linejoin:miter;stroke-width:0.349843;\"/>\n   </g>\n   <g id=\"patch_71\">\n    <path clip-path=\"url(#pba56fa87f0)\" d=\"M 323.565803 550.8 \nL 327.064236 550.8 \nL 327.064236 550.8 \nL 323.565803 550.8 \nz\n\" style=\"fill:#4c72b0;fill-opacity:0.75;stroke:#ffffff;stroke-linejoin:miter;stroke-width:0.349843;\"/>\n   </g>\n   <g id=\"patch_72\">\n    <path clip-path=\"url(#pba56fa87f0)\" d=\"M 327.064236 550.8 \nL 330.562668 550.8 \nL 330.562668 550.8 \nL 327.064236 550.8 \nz\n\" style=\"fill:#4c72b0;fill-opacity:0.75;stroke:#ffffff;stroke-linejoin:miter;stroke-width:0.349843;\"/>\n   </g>\n   <g id=\"patch_73\">\n    <path clip-path=\"url(#pba56fa87f0)\" d=\"M 330.562668 550.8 \nL 334.061101 550.8 \nL 334.061101 550.8 \nL 330.562668 550.8 \nz\n\" style=\"fill:#4c72b0;fill-opacity:0.75;stroke:#ffffff;stroke-linejoin:miter;stroke-width:0.349843;\"/>\n   </g>\n   <g id=\"patch_74\">\n    <path clip-path=\"url(#pba56fa87f0)\" d=\"M 334.061101 550.8 \nL 337.559534 550.8 \nL 337.559534 550.8 \nL 334.061101 550.8 \nz\n\" style=\"fill:#4c72b0;fill-opacity:0.75;stroke:#ffffff;stroke-linejoin:miter;stroke-width:0.349843;\"/>\n   </g>\n   <g id=\"patch_75\">\n    <path clip-path=\"url(#pba56fa87f0)\" d=\"M 337.559534 550.8 \nL 341.057966 550.8 \nL 341.057966 550.8 \nL 337.559534 550.8 \nz\n\" style=\"fill:#4c72b0;fill-opacity:0.75;stroke:#ffffff;stroke-linejoin:miter;stroke-width:0.349843;\"/>\n   </g>\n   <g id=\"patch_76\">\n    <path clip-path=\"url(#pba56fa87f0)\" d=\"M 341.057966 550.8 \nL 344.556399 550.8 \nL 344.556399 550.8 \nL 341.057966 550.8 \nz\n\" style=\"fill:#4c72b0;fill-opacity:0.75;stroke:#ffffff;stroke-linejoin:miter;stroke-width:0.349843;\"/>\n   </g>\n   <g id=\"patch_77\">\n    <path clip-path=\"url(#pba56fa87f0)\" d=\"M 344.556399 550.8 \nL 348.054832 550.8 \nL 348.054832 550.8 \nL 344.556399 550.8 \nz\n\" style=\"fill:#4c72b0;fill-opacity:0.75;stroke:#ffffff;stroke-linejoin:miter;stroke-width:0.349843;\"/>\n   </g>\n   <g id=\"patch_78\">\n    <path clip-path=\"url(#pba56fa87f0)\" d=\"M 348.054832 550.8 \nL 351.553264 550.8 \nL 351.553264 550.8 \nL 348.054832 550.8 \nz\n\" style=\"fill:#4c72b0;fill-opacity:0.75;stroke:#ffffff;stroke-linejoin:miter;stroke-width:0.349843;\"/>\n   </g>\n   <g id=\"patch_79\">\n    <path clip-path=\"url(#pba56fa87f0)\" d=\"M 351.553264 550.8 \nL 355.051697 550.8 \nL 355.051697 550.8 \nL 351.553264 550.8 \nz\n\" style=\"fill:#4c72b0;fill-opacity:0.75;stroke:#ffffff;stroke-linejoin:miter;stroke-width:0.349843;\"/>\n   </g>\n   <g id=\"patch_80\">\n    <path clip-path=\"url(#pba56fa87f0)\" d=\"M 355.051697 550.8 \nL 358.550129 550.8 \nL 358.550129 550.8 \nL 355.051697 550.8 \nz\n\" style=\"fill:#4c72b0;fill-opacity:0.75;stroke:#ffffff;stroke-linejoin:miter;stroke-width:0.349843;\"/>\n   </g>\n   <g id=\"patch_81\">\n    <path clip-path=\"url(#pba56fa87f0)\" d=\"M 358.550129 550.8 \nL 362.048562 550.8 \nL 362.048562 550.8 \nL 358.550129 550.8 \nz\n\" style=\"fill:#4c72b0;fill-opacity:0.75;stroke:#ffffff;stroke-linejoin:miter;stroke-width:0.349843;\"/>\n   </g>\n   <g id=\"patch_82\">\n    <path clip-path=\"url(#pba56fa87f0)\" d=\"M 362.048562 550.8 \nL 365.546995 550.8 \nL 365.546995 550.8 \nL 362.048562 550.8 \nz\n\" style=\"fill:#4c72b0;fill-opacity:0.75;stroke:#ffffff;stroke-linejoin:miter;stroke-width:0.349843;\"/>\n   </g>\n   <g id=\"patch_83\">\n    <path clip-path=\"url(#pba56fa87f0)\" d=\"M 365.546995 550.8 \nL 369.045427 550.8 \nL 369.045427 550.8 \nL 365.546995 550.8 \nz\n\" style=\"fill:#4c72b0;fill-opacity:0.75;stroke:#ffffff;stroke-linejoin:miter;stroke-width:0.349843;\"/>\n   </g>\n   <g id=\"patch_84\">\n    <path clip-path=\"url(#pba56fa87f0)\" d=\"M 369.045427 550.8 \nL 372.54386 550.8 \nL 372.54386 550.8 \nL 369.045427 550.8 \nz\n\" style=\"fill:#4c72b0;fill-opacity:0.75;stroke:#ffffff;stroke-linejoin:miter;stroke-width:0.349843;\"/>\n   </g>\n   <g id=\"patch_85\">\n    <path clip-path=\"url(#pba56fa87f0)\" d=\"M 372.54386 550.8 \nL 376.042292 550.8 \nL 376.042292 550.8 \nL 372.54386 550.8 \nz\n\" style=\"fill:#4c72b0;fill-opacity:0.75;stroke:#ffffff;stroke-linejoin:miter;stroke-width:0.349843;\"/>\n   </g>\n   <g id=\"patch_86\">\n    <path clip-path=\"url(#pba56fa87f0)\" d=\"M 376.042292 550.8 \nL 379.540725 550.8 \nL 379.540725 550.8 \nL 376.042292 550.8 \nz\n\" style=\"fill:#4c72b0;fill-opacity:0.75;stroke:#ffffff;stroke-linejoin:miter;stroke-width:0.349843;\"/>\n   </g>\n   <g id=\"patch_87\">\n    <path clip-path=\"url(#pba56fa87f0)\" d=\"M 379.540725 550.8 \nL 383.039158 550.8 \nL 383.039158 550.8 \nL 379.540725 550.8 \nz\n\" style=\"fill:#4c72b0;fill-opacity:0.75;stroke:#ffffff;stroke-linejoin:miter;stroke-width:0.349843;\"/>\n   </g>\n   <g id=\"patch_88\">\n    <path clip-path=\"url(#pba56fa87f0)\" d=\"M 383.039158 550.8 \nL 386.53759 550.8 \nL 386.53759 550.8 \nL 383.039158 550.8 \nz\n\" style=\"fill:#4c72b0;fill-opacity:0.75;stroke:#ffffff;stroke-linejoin:miter;stroke-width:0.349843;\"/>\n   </g>\n   <g id=\"patch_89\">\n    <path clip-path=\"url(#pba56fa87f0)\" d=\"M 386.53759 550.8 \nL 390.036023 550.8 \nL 390.036023 550.8 \nL 386.53759 550.8 \nz\n\" style=\"fill:#4c72b0;fill-opacity:0.75;stroke:#ffffff;stroke-linejoin:miter;stroke-width:0.349843;\"/>\n   </g>\n   <g id=\"patch_90\">\n    <path clip-path=\"url(#pba56fa87f0)\" d=\"M 390.036023 550.8 \nL 393.534455 550.8 \nL 393.534455 550.8 \nL 390.036023 550.8 \nz\n\" style=\"fill:#4c72b0;fill-opacity:0.75;stroke:#ffffff;stroke-linejoin:miter;stroke-width:0.349843;\"/>\n   </g>\n   <g id=\"patch_91\">\n    <path clip-path=\"url(#pba56fa87f0)\" d=\"M 393.534455 550.8 \nL 397.032888 550.8 \nL 397.032888 550.8 \nL 393.534455 550.8 \nz\n\" style=\"fill:#4c72b0;fill-opacity:0.75;stroke:#ffffff;stroke-linejoin:miter;stroke-width:0.349843;\"/>\n   </g>\n   <g id=\"patch_92\">\n    <path clip-path=\"url(#pba56fa87f0)\" d=\"M 397.032888 550.8 \nL 400.531321 550.8 \nL 400.531321 550.8 \nL 397.032888 550.8 \nz\n\" style=\"fill:#4c72b0;fill-opacity:0.75;stroke:#ffffff;stroke-linejoin:miter;stroke-width:0.349843;\"/>\n   </g>\n   <g id=\"patch_93\">\n    <path clip-path=\"url(#pba56fa87f0)\" d=\"M 400.531321 550.8 \nL 404.029753 550.8 \nL 404.029753 550.8 \nL 400.531321 550.8 \nz\n\" style=\"fill:#4c72b0;fill-opacity:0.75;stroke:#ffffff;stroke-linejoin:miter;stroke-width:0.349843;\"/>\n   </g>\n   <g id=\"patch_94\">\n    <path clip-path=\"url(#pba56fa87f0)\" d=\"M 404.029753 550.8 \nL 407.528186 550.8 \nL 407.528186 550.8 \nL 404.029753 550.8 \nz\n\" style=\"fill:#4c72b0;fill-opacity:0.75;stroke:#ffffff;stroke-linejoin:miter;stroke-width:0.349843;\"/>\n   </g>\n   <g id=\"patch_95\">\n    <path clip-path=\"url(#pba56fa87f0)\" d=\"M 407.528186 550.8 \nL 411.026618 550.8 \nL 411.026618 550.8 \nL 407.528186 550.8 \nz\n\" style=\"fill:#4c72b0;fill-opacity:0.75;stroke:#ffffff;stroke-linejoin:miter;stroke-width:0.349843;\"/>\n   </g>\n   <g id=\"patch_96\">\n    <path clip-path=\"url(#pba56fa87f0)\" d=\"M 411.026618 550.8 \nL 414.525051 550.8 \nL 414.525051 550.8 \nL 411.026618 550.8 \nz\n\" style=\"fill:#4c72b0;fill-opacity:0.75;stroke:#ffffff;stroke-linejoin:miter;stroke-width:0.349843;\"/>\n   </g>\n   <g id=\"patch_97\">\n    <path clip-path=\"url(#pba56fa87f0)\" d=\"M 414.525051 550.8 \nL 418.023484 550.8 \nL 418.023484 550.8 \nL 414.525051 550.8 \nz\n\" style=\"fill:#4c72b0;fill-opacity:0.75;stroke:#ffffff;stroke-linejoin:miter;stroke-width:0.349843;\"/>\n   </g>\n   <g id=\"patch_98\">\n    <path clip-path=\"url(#pba56fa87f0)\" d=\"M 418.023484 550.8 \nL 421.521916 550.8 \nL 421.521916 550.8 \nL 418.023484 550.8 \nz\n\" style=\"fill:#4c72b0;fill-opacity:0.75;stroke:#ffffff;stroke-linejoin:miter;stroke-width:0.349843;\"/>\n   </g>\n   <g id=\"patch_99\">\n    <path clip-path=\"url(#pba56fa87f0)\" d=\"M 421.521916 550.8 \nL 425.020349 550.8 \nL 425.020349 550.8 \nL 421.521916 550.8 \nz\n\" style=\"fill:#4c72b0;fill-opacity:0.75;stroke:#ffffff;stroke-linejoin:miter;stroke-width:0.349843;\"/>\n   </g>\n   <g id=\"patch_100\">\n    <path clip-path=\"url(#pba56fa87f0)\" d=\"M 425.020349 550.8 \nL 428.518781 550.8 \nL 428.518781 550.8 \nL 425.020349 550.8 \nz\n\" style=\"fill:#4c72b0;fill-opacity:0.75;stroke:#ffffff;stroke-linejoin:miter;stroke-width:0.349843;\"/>\n   </g>\n   <g id=\"patch_101\">\n    <path clip-path=\"url(#pba56fa87f0)\" d=\"M 428.518781 550.8 \nL 432.017214 550.8 \nL 432.017214 550.8 \nL 428.518781 550.8 \nz\n\" style=\"fill:#4c72b0;fill-opacity:0.75;stroke:#ffffff;stroke-linejoin:miter;stroke-width:0.349843;\"/>\n   </g>\n   <g id=\"patch_102\">\n    <path clip-path=\"url(#pba56fa87f0)\" d=\"M 432.017214 550.8 \nL 435.515647 550.8 \nL 435.515647 550.8 \nL 432.017214 550.8 \nz\n\" style=\"fill:#4c72b0;fill-opacity:0.75;stroke:#ffffff;stroke-linejoin:miter;stroke-width:0.349843;\"/>\n   </g>\n   <g id=\"patch_103\">\n    <path clip-path=\"url(#pba56fa87f0)\" d=\"M 435.515647 550.8 \nL 439.014079 550.8 \nL 439.014079 550.8 \nL 435.515647 550.8 \nz\n\" style=\"fill:#4c72b0;fill-opacity:0.75;stroke:#ffffff;stroke-linejoin:miter;stroke-width:0.349843;\"/>\n   </g>\n   <g id=\"patch_104\">\n    <path clip-path=\"url(#pba56fa87f0)\" d=\"M 439.014079 550.8 \nL 442.512512 550.8 \nL 442.512512 550.8 \nL 439.014079 550.8 \nz\n\" style=\"fill:#4c72b0;fill-opacity:0.75;stroke:#ffffff;stroke-linejoin:miter;stroke-width:0.349843;\"/>\n   </g>\n   <g id=\"patch_105\">\n    <path clip-path=\"url(#pba56fa87f0)\" d=\"M 442.512512 550.8 \nL 446.010944 550.8 \nL 446.010944 550.8 \nL 442.512512 550.8 \nz\n\" style=\"fill:#4c72b0;fill-opacity:0.75;stroke:#ffffff;stroke-linejoin:miter;stroke-width:0.349843;\"/>\n   </g>\n   <g id=\"patch_106\">\n    <path clip-path=\"url(#pba56fa87f0)\" d=\"M 446.010944 550.8 \nL 449.509377 550.8 \nL 449.509377 550.8 \nL 446.010944 550.8 \nz\n\" style=\"fill:#4c72b0;fill-opacity:0.75;stroke:#ffffff;stroke-linejoin:miter;stroke-width:0.349843;\"/>\n   </g>\n   <g id=\"patch_107\">\n    <path clip-path=\"url(#pba56fa87f0)\" d=\"M 449.509377 550.8 \nL 453.00781 550.8 \nL 453.00781 550.8 \nL 449.509377 550.8 \nz\n\" style=\"fill:#4c72b0;fill-opacity:0.75;stroke:#ffffff;stroke-linejoin:miter;stroke-width:0.349843;\"/>\n   </g>\n   <g id=\"patch_108\">\n    <path clip-path=\"url(#pba56fa87f0)\" d=\"M 453.00781 550.8 \nL 456.506242 550.8 \nL 456.506242 550.8 \nL 453.00781 550.8 \nz\n\" style=\"fill:#4c72b0;fill-opacity:0.75;stroke:#ffffff;stroke-linejoin:miter;stroke-width:0.349843;\"/>\n   </g>\n   <g id=\"patch_109\">\n    <path clip-path=\"url(#pba56fa87f0)\" d=\"M 456.506242 550.8 \nL 460.004675 550.8 \nL 460.004675 550.8 \nL 456.506242 550.8 \nz\n\" style=\"fill:#4c72b0;fill-opacity:0.75;stroke:#ffffff;stroke-linejoin:miter;stroke-width:0.349843;\"/>\n   </g>\n   <g id=\"patch_110\">\n    <path clip-path=\"url(#pba56fa87f0)\" d=\"M 460.004675 550.8 \nL 463.503107 550.8 \nL 463.503107 550.8 \nL 460.004675 550.8 \nz\n\" style=\"fill:#4c72b0;fill-opacity:0.75;stroke:#ffffff;stroke-linejoin:miter;stroke-width:0.349843;\"/>\n   </g>\n   <g id=\"patch_111\">\n    <path clip-path=\"url(#pba56fa87f0)\" d=\"M 463.503107 550.8 \nL 467.00154 550.8 \nL 467.00154 550.8 \nL 463.503107 550.8 \nz\n\" style=\"fill:#4c72b0;fill-opacity:0.75;stroke:#ffffff;stroke-linejoin:miter;stroke-width:0.349843;\"/>\n   </g>\n   <g id=\"patch_112\">\n    <path clip-path=\"url(#pba56fa87f0)\" d=\"M 467.00154 550.8 \nL 470.499973 550.8 \nL 470.499973 550.8 \nL 467.00154 550.8 \nz\n\" style=\"fill:#4c72b0;fill-opacity:0.75;stroke:#ffffff;stroke-linejoin:miter;stroke-width:0.349843;\"/>\n   </g>\n   <g id=\"patch_113\">\n    <path clip-path=\"url(#pba56fa87f0)\" d=\"M 470.499973 550.8 \nL 473.998405 550.8 \nL 473.998405 550.8 \nL 470.499973 550.8 \nz\n\" style=\"fill:#4c72b0;fill-opacity:0.75;stroke:#ffffff;stroke-linejoin:miter;stroke-width:0.349843;\"/>\n   </g>\n   <g id=\"patch_114\">\n    <path clip-path=\"url(#pba56fa87f0)\" d=\"M 473.998405 550.8 \nL 477.496838 550.8 \nL 477.496838 550.8 \nL 473.998405 550.8 \nz\n\" style=\"fill:#4c72b0;fill-opacity:0.75;stroke:#ffffff;stroke-linejoin:miter;stroke-width:0.349843;\"/>\n   </g>\n   <g id=\"patch_115\">\n    <path clip-path=\"url(#pba56fa87f0)\" d=\"M 477.496838 550.8 \nL 480.99527 550.8 \nL 480.99527 550.8 \nL 477.496838 550.8 \nz\n\" style=\"fill:#4c72b0;fill-opacity:0.75;stroke:#ffffff;stroke-linejoin:miter;stroke-width:0.349843;\"/>\n   </g>\n   <g id=\"patch_116\">\n    <path clip-path=\"url(#pba56fa87f0)\" d=\"M 480.99527 550.8 \nL 484.493703 550.8 \nL 484.493703 550.8 \nL 480.99527 550.8 \nz\n\" style=\"fill:#4c72b0;fill-opacity:0.75;stroke:#ffffff;stroke-linejoin:miter;stroke-width:0.349843;\"/>\n   </g>\n   <g id=\"patch_117\">\n    <path clip-path=\"url(#pba56fa87f0)\" d=\"M 484.493703 550.8 \nL 487.992136 550.8 \nL 487.992136 550.8 \nL 484.493703 550.8 \nz\n\" style=\"fill:#4c72b0;fill-opacity:0.75;stroke:#ffffff;stroke-linejoin:miter;stroke-width:0.349843;\"/>\n   </g>\n   <g id=\"patch_118\">\n    <path clip-path=\"url(#pba56fa87f0)\" d=\"M 487.992136 550.8 \nL 491.490568 550.8 \nL 491.490568 550.8 \nL 487.992136 550.8 \nz\n\" style=\"fill:#4c72b0;fill-opacity:0.75;stroke:#ffffff;stroke-linejoin:miter;stroke-width:0.349843;\"/>\n   </g>\n   <g id=\"patch_119\">\n    <path clip-path=\"url(#pba56fa87f0)\" d=\"M 491.490568 550.8 \nL 494.989001 550.8 \nL 494.989001 550.8 \nL 491.490568 550.8 \nz\n\" style=\"fill:#4c72b0;fill-opacity:0.75;stroke:#ffffff;stroke-linejoin:miter;stroke-width:0.349843;\"/>\n   </g>\n   <g id=\"patch_120\">\n    <path clip-path=\"url(#pba56fa87f0)\" d=\"M 494.989001 550.8 \nL 498.487433 550.8 \nL 498.487433 550.8 \nL 494.989001 550.8 \nz\n\" style=\"fill:#4c72b0;fill-opacity:0.75;stroke:#ffffff;stroke-linejoin:miter;stroke-width:0.349843;\"/>\n   </g>\n   <g id=\"patch_121\">\n    <path clip-path=\"url(#pba56fa87f0)\" d=\"M 498.487433 550.8 \nL 501.985866 550.8 \nL 501.985866 550.8 \nL 498.487433 550.8 \nz\n\" style=\"fill:#4c72b0;fill-opacity:0.75;stroke:#ffffff;stroke-linejoin:miter;stroke-width:0.349843;\"/>\n   </g>\n   <g id=\"patch_122\">\n    <path clip-path=\"url(#pba56fa87f0)\" d=\"M 501.985866 550.8 \nL 505.484299 550.8 \nL 505.484299 550.8 \nL 501.985866 550.8 \nz\n\" style=\"fill:#4c72b0;fill-opacity:0.75;stroke:#ffffff;stroke-linejoin:miter;stroke-width:0.349843;\"/>\n   </g>\n   <g id=\"patch_123\">\n    <path clip-path=\"url(#pba56fa87f0)\" d=\"M 505.484299 550.8 \nL 508.982731 550.8 \nL 508.982731 550.8 \nL 505.484299 550.8 \nz\n\" style=\"fill:#4c72b0;fill-opacity:0.75;stroke:#ffffff;stroke-linejoin:miter;stroke-width:0.349843;\"/>\n   </g>\n   <g id=\"patch_124\">\n    <path clip-path=\"url(#pba56fa87f0)\" d=\"M 508.982731 550.8 \nL 512.481164 550.8 \nL 512.481164 550.8 \nL 508.982731 550.8 \nz\n\" style=\"fill:#4c72b0;fill-opacity:0.75;stroke:#ffffff;stroke-linejoin:miter;stroke-width:0.349843;\"/>\n   </g>\n   <g id=\"patch_125\">\n    <path clip-path=\"url(#pba56fa87f0)\" d=\"M 512.481164 550.8 \nL 515.979596 550.8 \nL 515.979596 550.8 \nL 512.481164 550.8 \nz\n\" style=\"fill:#4c72b0;fill-opacity:0.75;stroke:#ffffff;stroke-linejoin:miter;stroke-width:0.349843;\"/>\n   </g>\n   <g id=\"patch_126\">\n    <path clip-path=\"url(#pba56fa87f0)\" d=\"M 515.979596 550.8 \nL 519.478029 550.8 \nL 519.478029 550.8 \nL 515.979596 550.8 \nz\n\" style=\"fill:#4c72b0;fill-opacity:0.75;stroke:#ffffff;stroke-linejoin:miter;stroke-width:0.349843;\"/>\n   </g>\n   <g id=\"patch_127\">\n    <path clip-path=\"url(#pba56fa87f0)\" d=\"M 519.478029 550.8 \nL 522.976462 550.8 \nL 522.976462 550.8 \nL 519.478029 550.8 \nz\n\" style=\"fill:#4c72b0;fill-opacity:0.75;stroke:#ffffff;stroke-linejoin:miter;stroke-width:0.349843;\"/>\n   </g>\n   <g id=\"patch_128\">\n    <path clip-path=\"url(#pba56fa87f0)\" d=\"M 522.976462 550.8 \nL 526.474894 550.8 \nL 526.474894 550.8 \nL 522.976462 550.8 \nz\n\" style=\"fill:#4c72b0;fill-opacity:0.75;stroke:#ffffff;stroke-linejoin:miter;stroke-width:0.349843;\"/>\n   </g>\n   <g id=\"patch_129\">\n    <path clip-path=\"url(#pba56fa87f0)\" d=\"M 526.474894 550.8 \nL 529.973327 550.8 \nL 529.973327 550.8 \nL 526.474894 550.8 \nz\n\" style=\"fill:#4c72b0;fill-opacity:0.75;stroke:#ffffff;stroke-linejoin:miter;stroke-width:0.349843;\"/>\n   </g>\n   <g id=\"patch_130\">\n    <path clip-path=\"url(#pba56fa87f0)\" d=\"M 529.973327 550.8 \nL 533.471759 550.8 \nL 533.471759 550.8 \nL 529.973327 550.8 \nz\n\" style=\"fill:#4c72b0;fill-opacity:0.75;stroke:#ffffff;stroke-linejoin:miter;stroke-width:0.349843;\"/>\n   </g>\n   <g id=\"patch_131\">\n    <path clip-path=\"url(#pba56fa87f0)\" d=\"M 533.471759 550.8 \nL 536.970192 550.8 \nL 536.970192 550.8 \nL 533.471759 550.8 \nz\n\" style=\"fill:#4c72b0;fill-opacity:0.75;stroke:#ffffff;stroke-linejoin:miter;stroke-width:0.349843;\"/>\n   </g>\n   <g id=\"patch_132\">\n    <path clip-path=\"url(#pba56fa87f0)\" d=\"M 536.970192 550.8 \nL 540.468625 550.8 \nL 540.468625 550.8 \nL 536.970192 550.8 \nz\n\" style=\"fill:#4c72b0;fill-opacity:0.75;stroke:#ffffff;stroke-linejoin:miter;stroke-width:0.349843;\"/>\n   </g>\n   <g id=\"patch_133\">\n    <path clip-path=\"url(#pba56fa87f0)\" d=\"M 540.468625 550.8 \nL 543.967057 550.8 \nL 543.967057 550.8 \nL 540.468625 550.8 \nz\n\" style=\"fill:#4c72b0;fill-opacity:0.75;stroke:#ffffff;stroke-linejoin:miter;stroke-width:0.349843;\"/>\n   </g>\n   <g id=\"patch_134\">\n    <path clip-path=\"url(#pba56fa87f0)\" d=\"M 543.967057 550.8 \nL 547.46549 550.8 \nL 547.46549 550.8 \nL 543.967057 550.8 \nz\n\" style=\"fill:#4c72b0;fill-opacity:0.75;stroke:#ffffff;stroke-linejoin:miter;stroke-width:0.349843;\"/>\n   </g>\n   <g id=\"patch_135\">\n    <path clip-path=\"url(#pba56fa87f0)\" d=\"M 547.46549 550.8 \nL 550.963922 550.8 \nL 550.963922 550.8 \nL 547.46549 550.8 \nz\n\" style=\"fill:#4c72b0;fill-opacity:0.75;stroke:#ffffff;stroke-linejoin:miter;stroke-width:0.349843;\"/>\n   </g>\n   <g id=\"patch_136\">\n    <path clip-path=\"url(#pba56fa87f0)\" d=\"M 550.963922 550.8 \nL 554.462355 550.8 \nL 554.462355 550.8 \nL 550.963922 550.8 \nz\n\" style=\"fill:#4c72b0;fill-opacity:0.75;stroke:#ffffff;stroke-linejoin:miter;stroke-width:0.349843;\"/>\n   </g>\n   <g id=\"patch_137\">\n    <path clip-path=\"url(#pba56fa87f0)\" d=\"M 554.462355 550.8 \nL 557.960788 550.8 \nL 557.960788 550.8 \nL 554.462355 550.8 \nz\n\" style=\"fill:#4c72b0;fill-opacity:0.75;stroke:#ffffff;stroke-linejoin:miter;stroke-width:0.349843;\"/>\n   </g>\n   <g id=\"patch_138\">\n    <path clip-path=\"url(#pba56fa87f0)\" d=\"M 557.960788 550.8 \nL 561.45922 550.8 \nL 561.45922 550.8 \nL 557.960788 550.8 \nz\n\" style=\"fill:#4c72b0;fill-opacity:0.75;stroke:#ffffff;stroke-linejoin:miter;stroke-width:0.349843;\"/>\n   </g>\n   <g id=\"patch_139\">\n    <path clip-path=\"url(#pba56fa87f0)\" d=\"M 561.45922 550.8 \nL 564.957653 550.8 \nL 564.957653 550.8 \nL 561.45922 550.8 \nz\n\" style=\"fill:#4c72b0;fill-opacity:0.75;stroke:#ffffff;stroke-linejoin:miter;stroke-width:0.349843;\"/>\n   </g>\n   <g id=\"patch_140\">\n    <path clip-path=\"url(#pba56fa87f0)\" d=\"M 564.957653 550.8 \nL 568.456085 550.8 \nL 568.456085 550.8 \nL 564.957653 550.8 \nz\n\" style=\"fill:#4c72b0;fill-opacity:0.75;stroke:#ffffff;stroke-linejoin:miter;stroke-width:0.349843;\"/>\n   </g>\n   <g id=\"patch_141\">\n    <path clip-path=\"url(#pba56fa87f0)\" d=\"M 568.456085 550.8 \nL 571.954518 550.8 \nL 571.954518 550.8 \nL 568.456085 550.8 \nz\n\" style=\"fill:#4c72b0;fill-opacity:0.75;stroke:#ffffff;stroke-linejoin:miter;stroke-width:0.349843;\"/>\n   </g>\n   <g id=\"patch_142\">\n    <path clip-path=\"url(#pba56fa87f0)\" d=\"M 571.954518 550.8 \nL 575.452951 550.8 \nL 575.452951 550.8 \nL 571.954518 550.8 \nz\n\" style=\"fill:#4c72b0;fill-opacity:0.75;stroke:#ffffff;stroke-linejoin:miter;stroke-width:0.349843;\"/>\n   </g>\n   <g id=\"patch_143\">\n    <path clip-path=\"url(#pba56fa87f0)\" d=\"M 575.452951 550.8 \nL 578.951383 550.8 \nL 578.951383 550.8 \nL 575.452951 550.8 \nz\n\" style=\"fill:#4c72b0;fill-opacity:0.75;stroke:#ffffff;stroke-linejoin:miter;stroke-width:0.349843;\"/>\n   </g>\n   <g id=\"patch_144\">\n    <path clip-path=\"url(#pba56fa87f0)\" d=\"M 578.951383 550.8 \nL 582.449816 550.8 \nL 582.449816 550.8 \nL 578.951383 550.8 \nz\n\" style=\"fill:#4c72b0;fill-opacity:0.75;stroke:#ffffff;stroke-linejoin:miter;stroke-width:0.349843;\"/>\n   </g>\n   <g id=\"patch_145\">\n    <path clip-path=\"url(#pba56fa87f0)\" d=\"M 582.449816 550.8 \nL 585.948248 550.8 \nL 585.948248 550.8 \nL 582.449816 550.8 \nz\n\" style=\"fill:#4c72b0;fill-opacity:0.75;stroke:#ffffff;stroke-linejoin:miter;stroke-width:0.349843;\"/>\n   </g>\n   <g id=\"patch_146\">\n    <path clip-path=\"url(#pba56fa87f0)\" d=\"M 585.948248 550.8 \nL 589.446681 550.8 \nL 589.446681 550.8 \nL 585.948248 550.8 \nz\n\" style=\"fill:#4c72b0;fill-opacity:0.75;stroke:#ffffff;stroke-linejoin:miter;stroke-width:0.349843;\"/>\n   </g>\n   <g id=\"patch_147\">\n    <path clip-path=\"url(#pba56fa87f0)\" d=\"M 589.446681 550.8 \nL 592.945114 550.8 \nL 592.945114 550.508001 \nL 589.446681 550.508001 \nz\n\" style=\"fill:#4c72b0;fill-opacity:0.75;stroke:#ffffff;stroke-linejoin:miter;stroke-width:0.349843;\"/>\n   </g>\n   <g id=\"patch_148\">\n    <path d=\"M 60.30875 550.8 \nL 60.30875 7.2 \n\" style=\"fill:none;stroke:#ffffff;stroke-linecap:square;stroke-linejoin:miter;stroke-width:1.25;\"/>\n   </g>\n   <g id=\"patch_149\">\n    <path d=\"M 618.30875 550.8 \nL 618.30875 7.2 \n\" style=\"fill:none;stroke:#ffffff;stroke-linecap:square;stroke-linejoin:miter;stroke-width:1.25;\"/>\n   </g>\n   <g id=\"patch_150\">\n    <path d=\"M 60.30875 550.8 \nL 618.30875 550.8 \n\" style=\"fill:none;stroke:#ffffff;stroke-linecap:square;stroke-linejoin:miter;stroke-width:1.25;\"/>\n   </g>\n   <g id=\"patch_151\">\n    <path d=\"M 60.30875 7.2 \nL 618.30875 7.2 \n\" style=\"fill:none;stroke:#ffffff;stroke-linecap:square;stroke-linejoin:miter;stroke-width:1.25;\"/>\n   </g>\n  </g>\n </g>\n <defs>\n  <clipPath id=\"pba56fa87f0\">\n   <rect height=\"543.6\" width=\"558\" x=\"60.30875\" y=\"7.2\"/>\n  </clipPath>\n </defs>\n</svg>\n",
      "text/plain": [
       "<Figure size 720x720 with 1 Axes>"
      ]
     },
     "metadata": {},
     "output_type": "display_data"
    }
   ],
   "source": [
    "# histogram plot of sequences' length\n",
    "fig, ax = plt.subplots(figsize=(10,10))\n",
    "sns.histplot(df['length'], ax=ax)"
   ]
  },
  {
   "cell_type": "code",
   "execution_count": 10,
   "metadata": {},
   "outputs": [
    {
     "data": {
      "text/plain": [
       "count                          7245\n",
       "unique                         4153\n",
       "top       2'-O-methyltransferase OS\n",
       "freq                            809\n",
       "Name: description, dtype: object"
      ]
     },
     "execution_count": 10,
     "metadata": {},
     "output_type": "execute_result"
    }
   ],
   "source": [
    "# desc. stats of description\n",
    "df.description.describe()"
   ]
  },
  {
   "cell_type": "code",
   "execution_count": 11,
   "metadata": {},
   "outputs": [
    {
     "data": {
      "text/plain": [
       "count                                                  7245\n",
       "unique                                                 7201\n",
       "top       RXAPHGHVMVELVAELEGIQYGRSGETLGVLVPHVGEIPVAYRKVL...\n",
       "freq                                                      6\n",
       "Name: sequence, dtype: object"
      ]
     },
     "execution_count": 11,
     "metadata": {},
     "output_type": "execute_result"
    }
   ],
   "source": [
    "# desc. stats of sequence\n",
    "df.sequence.describe()"
   ]
  },
  {
   "cell_type": "code",
   "execution_count": 12,
   "metadata": {},
   "outputs": [
    {
     "data": {
      "image/png": "[encoded data removed]",
      "image/svg+xml": "<?xml version=\"1.0\" encoding=\"utf-8\" standalone=\"no\"?>\n<!DOCTYPE svg PUBLIC \"-//W3C//DTD SVG 1.1//EN\"\n  \"http://www.w3.org/Graphics/SVG/1.1/DTD/svg11.dtd\">\n<svg height=\"282.717813pt\" version=\"1.1\" viewBox=\"0 0 512.972074 282.717813\" width=\"512.972074pt\" xmlns=\"http://www.w3.org/2000/svg\" xmlns:xlink=\"http://www.w3.org/1999/xlink\">\n <metadata>\n  <rdf:RDF xmlns:cc=\"http://creativecommons.org/ns#\" xmlns:dc=\"http://purl.org/dc/elements/1.1/\" xmlns:rdf=\"http://www.w3.org/1999/02/22-rdf-syntax-ns#\">\n   <cc:Work>\n    <dc:type rdf:resource=\"http://purl.org/dc/dcmitype/StillImage\"/>\n    <dc:date>2021-04-22T16:29:58.701755</dc:date>\n    <dc:format>image/svg+xml</dc:format>\n    <dc:creator>\n     <cc:Agent>\n      <dc:title>Matplotlib v3.4.1, https://matplotlib.org/</dc:title>\n     </cc:Agent>\n    </dc:creator>\n   </cc:Work>\n  </rdf:RDF>\n </metadata>\n <defs>\n  <style type=\"text/css\">*{stroke-linecap:butt;stroke-linejoin:round;}</style>\n </defs>\n <g id=\"figure_1\">\n  <g id=\"patch_1\">\n   <path d=\"M 0 282.717813 \nL 512.972074 282.717813 \nL 512.972074 0 \nL 0 0 \nz\n\" style=\"fill:#ffffff;\"/>\n  </g>\n  <g id=\"axes_1\">\n   <g id=\"patch_2\">\n    <path d=\"M 137.733537 239.758125 \nL 472.533537 239.758125 \nL 472.533537 22.318125 \nL 137.733537 22.318125 \nz\n\" style=\"fill:#eaeaf2;\"/>\n   </g>\n   <g id=\"matplotlib.axis_1\">\n    <g id=\"xtick_1\">\n     <g id=\"line2d_1\">\n      <path clip-path=\"url(#p977f5cc18c)\" d=\"M 152.951719 239.758125 \nL 152.951719 22.318125 \n\" style=\"fill:none;stroke:#ffffff;stroke-linecap:round;\"/>\n     </g>\n     <g id=\"text_1\">\n      <!-- Severe acute respiratory syndrome coronavirus 2 OX -->\n      <g style=\"fill:#262626;\" transform=\"translate(7.2 257.616406)scale(0.11 -0.11)\">\n       <defs>\n        <path d=\"M 3425 4513 \nL 3425 3897 \nQ 3066 4069 2747 4153 \nQ 2428 4238 2131 4238 \nQ 1616 4238 1336 4038 \nQ 1056 3838 1056 3469 \nQ 1056 3159 1242 3001 \nQ 1428 2844 1947 2747 \nL 2328 2669 \nQ 3034 2534 3370 2195 \nQ 3706 1856 3706 1288 \nQ 3706 609 3251 259 \nQ 2797 -91 1919 -91 \nQ 1588 -91 1214 -16 \nQ 841 59 441 206 \nL 441 856 \nQ 825 641 1194 531 \nQ 1563 422 1919 422 \nQ 2459 422 2753 634 \nQ 3047 847 3047 1241 \nQ 3047 1584 2836 1778 \nQ 2625 1972 2144 2069 \nL 1759 2144 \nQ 1053 2284 737 2584 \nQ 422 2884 422 3419 \nQ 422 4038 858 4394 \nQ 1294 4750 2059 4750 \nQ 2388 4750 2728 4690 \nQ 3069 4631 3425 4513 \nz\n\" id=\"DejaVuSans-53\" transform=\"scale(0.015625)\"/>\n        <path d=\"M 3597 1894 \nL 3597 1613 \nL 953 1613 \nQ 991 1019 1311 708 \nQ 1631 397 2203 397 \nQ 2534 397 2845 478 \nQ 3156 559 3463 722 \nL 3463 178 \nQ 3153 47 2828 -22 \nQ 2503 -91 2169 -91 \nQ 1331 -91 842 396 \nQ 353 884 353 1716 \nQ 353 2575 817 3079 \nQ 1281 3584 2069 3584 \nQ 2775 3584 3186 3129 \nQ 3597 2675 3597 1894 \nz\nM 3022 2063 \nQ 3016 2534 2758 2815 \nQ 2500 3097 2075 3097 \nQ 1594 3097 1305 2825 \nQ 1016 2553 972 2059 \nL 3022 2063 \nz\n\" id=\"DejaVuSans-65\" transform=\"scale(0.015625)\"/>\n        <path d=\"M 191 3500 \nL 800 3500 \nL 1894 563 \nL 2988 3500 \nL 3597 3500 \nL 2284 0 \nL 1503 0 \nL 191 3500 \nz\n\" id=\"DejaVuSans-76\" transform=\"scale(0.015625)\"/>\n        <path d=\"M 2631 2963 \nQ 2534 3019 2420 3045 \nQ 2306 3072 2169 3072 \nQ 1681 3072 1420 2755 \nQ 1159 2438 1159 1844 \nL 1159 0 \nL 581 0 \nL 581 3500 \nL 1159 3500 \nL 1159 2956 \nQ 1341 3275 1631 3429 \nQ 1922 3584 2338 3584 \nQ 2397 3584 2469 3576 \nQ 2541 3569 2628 3553 \nL 2631 2963 \nz\n\" id=\"DejaVuSans-72\" transform=\"scale(0.015625)\"/>\n        <path id=\"DejaVuSans-20\" transform=\"scale(0.015625)\"/>\n        <path d=\"M 2194 1759 \nQ 1497 1759 1228 1600 \nQ 959 1441 959 1056 \nQ 959 750 1161 570 \nQ 1363 391 1709 391 \nQ 2188 391 2477 730 \nQ 2766 1069 2766 1631 \nL 2766 1759 \nL 2194 1759 \nz\nM 3341 1997 \nL 3341 0 \nL 2766 0 \nL 2766 531 \nQ 2569 213 2275 61 \nQ 1981 -91 1556 -91 \nQ 1019 -91 701 211 \nQ 384 513 384 1019 \nQ 384 1609 779 1909 \nQ 1175 2209 1959 2209 \nL 2766 2209 \nL 2766 2266 \nQ 2766 2663 2505 2880 \nQ 2244 3097 1772 3097 \nQ 1472 3097 1187 3025 \nQ 903 2953 641 2809 \nL 641 3341 \nQ 956 3463 1253 3523 \nQ 1550 3584 1831 3584 \nQ 2591 3584 2966 3190 \nQ 3341 2797 3341 1997 \nz\n\" id=\"DejaVuSans-61\" transform=\"scale(0.015625)\"/>\n        <path d=\"M 3122 3366 \nL 3122 2828 \nQ 2878 2963 2633 3030 \nQ 2388 3097 2138 3097 \nQ 1578 3097 1268 2742 \nQ 959 2388 959 1747 \nQ 959 1106 1268 751 \nQ 1578 397 2138 397 \nQ 2388 397 2633 464 \nQ 2878 531 3122 666 \nL 3122 134 \nQ 2881 22 2623 -34 \nQ 2366 -91 2075 -91 \nQ 1284 -91 818 406 \nQ 353 903 353 1747 \nQ 353 2603 823 3093 \nQ 1294 3584 2113 3584 \nQ 2378 3584 2631 3529 \nQ 2884 3475 3122 3366 \nz\n\" id=\"DejaVuSans-63\" transform=\"scale(0.015625)\"/>\n        <path d=\"M 544 1381 \nL 544 3500 \nL 1119 3500 \nL 1119 1403 \nQ 1119 906 1312 657 \nQ 1506 409 1894 409 \nQ 2359 409 2629 706 \nQ 2900 1003 2900 1516 \nL 2900 3500 \nL 3475 3500 \nL 3475 0 \nL 2900 0 \nL 2900 538 \nQ 2691 219 2414 64 \nQ 2138 -91 1772 -91 \nQ 1169 -91 856 284 \nQ 544 659 544 1381 \nz\nM 1991 3584 \nL 1991 3584 \nz\n\" id=\"DejaVuSans-75\" transform=\"scale(0.015625)\"/>\n        <path d=\"M 1172 4494 \nL 1172 3500 \nL 2356 3500 \nL 2356 3053 \nL 1172 3053 \nL 1172 1153 \nQ 1172 725 1289 603 \nQ 1406 481 1766 481 \nL 2356 481 \nL 2356 0 \nL 1766 0 \nQ 1100 0 847 248 \nQ 594 497 594 1153 \nL 594 3053 \nL 172 3053 \nL 172 3500 \nL 594 3500 \nL 594 4494 \nL 1172 4494 \nz\n\" id=\"DejaVuSans-74\" transform=\"scale(0.015625)\"/>\n        <path d=\"M 2834 3397 \nL 2834 2853 \nQ 2591 2978 2328 3040 \nQ 2066 3103 1784 3103 \nQ 1356 3103 1142 2972 \nQ 928 2841 928 2578 \nQ 928 2378 1081 2264 \nQ 1234 2150 1697 2047 \nL 1894 2003 \nQ 2506 1872 2764 1633 \nQ 3022 1394 3022 966 \nQ 3022 478 2636 193 \nQ 2250 -91 1575 -91 \nQ 1294 -91 989 -36 \nQ 684 19 347 128 \nL 347 722 \nQ 666 556 975 473 \nQ 1284 391 1588 391 \nQ 1994 391 2212 530 \nQ 2431 669 2431 922 \nQ 2431 1156 2273 1281 \nQ 2116 1406 1581 1522 \nL 1381 1569 \nQ 847 1681 609 1914 \nQ 372 2147 372 2553 \nQ 372 3047 722 3315 \nQ 1072 3584 1716 3584 \nQ 2034 3584 2315 3537 \nQ 2597 3491 2834 3397 \nz\n\" id=\"DejaVuSans-73\" transform=\"scale(0.015625)\"/>\n        <path d=\"M 1159 525 \nL 1159 -1331 \nL 581 -1331 \nL 581 3500 \nL 1159 3500 \nL 1159 2969 \nQ 1341 3281 1617 3432 \nQ 1894 3584 2278 3584 \nQ 2916 3584 3314 3078 \nQ 3713 2572 3713 1747 \nQ 3713 922 3314 415 \nQ 2916 -91 2278 -91 \nQ 1894 -91 1617 61 \nQ 1341 213 1159 525 \nz\nM 3116 1747 \nQ 3116 2381 2855 2742 \nQ 2594 3103 2138 3103 \nQ 1681 3103 1420 2742 \nQ 1159 2381 1159 1747 \nQ 1159 1113 1420 752 \nQ 1681 391 2138 391 \nQ 2594 391 2855 752 \nQ 3116 1113 3116 1747 \nz\n\" id=\"DejaVuSans-70\" transform=\"scale(0.015625)\"/>\n        <path d=\"M 603 3500 \nL 1178 3500 \nL 1178 0 \nL 603 0 \nL 603 3500 \nz\nM 603 4863 \nL 1178 4863 \nL 1178 4134 \nL 603 4134 \nL 603 4863 \nz\n\" id=\"DejaVuSans-69\" transform=\"scale(0.015625)\"/>\n        <path d=\"M 1959 3097 \nQ 1497 3097 1228 2736 \nQ 959 2375 959 1747 \nQ 959 1119 1226 758 \nQ 1494 397 1959 397 \nQ 2419 397 2687 759 \nQ 2956 1122 2956 1747 \nQ 2956 2369 2687 2733 \nQ 2419 3097 1959 3097 \nz\nM 1959 3584 \nQ 2709 3584 3137 3096 \nQ 3566 2609 3566 1747 \nQ 3566 888 3137 398 \nQ 2709 -91 1959 -91 \nQ 1206 -91 779 398 \nQ 353 888 353 1747 \nQ 353 2609 779 3096 \nQ 1206 3584 1959 3584 \nz\n\" id=\"DejaVuSans-6f\" transform=\"scale(0.015625)\"/>\n        <path d=\"M 2059 -325 \nQ 1816 -950 1584 -1140 \nQ 1353 -1331 966 -1331 \nL 506 -1331 \nL 506 -850 \nL 844 -850 \nQ 1081 -850 1212 -737 \nQ 1344 -625 1503 -206 \nL 1606 56 \nL 191 3500 \nL 800 3500 \nL 1894 763 \nL 2988 3500 \nL 3597 3500 \nL 2059 -325 \nz\n\" id=\"DejaVuSans-79\" transform=\"scale(0.015625)\"/>\n        <path d=\"M 3513 2113 \nL 3513 0 \nL 2938 0 \nL 2938 2094 \nQ 2938 2591 2744 2837 \nQ 2550 3084 2163 3084 \nQ 1697 3084 1428 2787 \nQ 1159 2491 1159 1978 \nL 1159 0 \nL 581 0 \nL 581 3500 \nL 1159 3500 \nL 1159 2956 \nQ 1366 3272 1645 3428 \nQ 1925 3584 2291 3584 \nQ 2894 3584 3203 3211 \nQ 3513 2838 3513 2113 \nz\n\" id=\"DejaVuSans-6e\" transform=\"scale(0.015625)\"/>\n        <path d=\"M 2906 2969 \nL 2906 4863 \nL 3481 4863 \nL 3481 0 \nL 2906 0 \nL 2906 525 \nQ 2725 213 2448 61 \nQ 2172 -91 1784 -91 \nQ 1150 -91 751 415 \nQ 353 922 353 1747 \nQ 353 2572 751 3078 \nQ 1150 3584 1784 3584 \nQ 2172 3584 2448 3432 \nQ 2725 3281 2906 2969 \nz\nM 947 1747 \nQ 947 1113 1208 752 \nQ 1469 391 1925 391 \nQ 2381 391 2643 752 \nQ 2906 1113 2906 1747 \nQ 2906 2381 2643 2742 \nQ 2381 3103 1925 3103 \nQ 1469 3103 1208 2742 \nQ 947 2381 947 1747 \nz\n\" id=\"DejaVuSans-64\" transform=\"scale(0.015625)\"/>\n        <path d=\"M 3328 2828 \nQ 3544 3216 3844 3400 \nQ 4144 3584 4550 3584 \nQ 5097 3584 5394 3201 \nQ 5691 2819 5691 2113 \nL 5691 0 \nL 5113 0 \nL 5113 2094 \nQ 5113 2597 4934 2840 \nQ 4756 3084 4391 3084 \nQ 3944 3084 3684 2787 \nQ 3425 2491 3425 1978 \nL 3425 0 \nL 2847 0 \nL 2847 2094 \nQ 2847 2600 2669 2842 \nQ 2491 3084 2119 3084 \nQ 1678 3084 1418 2786 \nQ 1159 2488 1159 1978 \nL 1159 0 \nL 581 0 \nL 581 3500 \nL 1159 3500 \nL 1159 2956 \nQ 1356 3278 1631 3431 \nQ 1906 3584 2284 3584 \nQ 2666 3584 2933 3390 \nQ 3200 3197 3328 2828 \nz\n\" id=\"DejaVuSans-6d\" transform=\"scale(0.015625)\"/>\n        <path d=\"M 1228 531 \nL 3431 531 \nL 3431 0 \nL 469 0 \nL 469 531 \nQ 828 903 1448 1529 \nQ 2069 2156 2228 2338 \nQ 2531 2678 2651 2914 \nQ 2772 3150 2772 3378 \nQ 2772 3750 2511 3984 \nQ 2250 4219 1831 4219 \nQ 1534 4219 1204 4116 \nQ 875 4013 500 3803 \nL 500 4441 \nQ 881 4594 1212 4672 \nQ 1544 4750 1819 4750 \nQ 2544 4750 2975 4387 \nQ 3406 4025 3406 3419 \nQ 3406 3131 3298 2873 \nQ 3191 2616 2906 2266 \nQ 2828 2175 2409 1742 \nQ 1991 1309 1228 531 \nz\n\" id=\"DejaVuSans-32\" transform=\"scale(0.015625)\"/>\n        <path d=\"M 2522 4238 \nQ 1834 4238 1429 3725 \nQ 1025 3213 1025 2328 \nQ 1025 1447 1429 934 \nQ 1834 422 2522 422 \nQ 3209 422 3611 934 \nQ 4013 1447 4013 2328 \nQ 4013 3213 3611 3725 \nQ 3209 4238 2522 4238 \nz\nM 2522 4750 \nQ 3503 4750 4090 4092 \nQ 4678 3434 4678 2328 \nQ 4678 1225 4090 567 \nQ 3503 -91 2522 -91 \nQ 1538 -91 948 565 \nQ 359 1222 359 2328 \nQ 359 3434 948 4092 \nQ 1538 4750 2522 4750 \nz\n\" id=\"DejaVuSans-4f\" transform=\"scale(0.015625)\"/>\n        <path d=\"M 403 4666 \nL 1081 4666 \nL 2241 2931 \nL 3406 4666 \nL 4084 4666 \nL 2584 2425 \nL 4184 0 \nL 3506 0 \nL 2194 1984 \nL 872 0 \nL 191 0 \nL 1856 2491 \nL 403 4666 \nz\n\" id=\"DejaVuSans-58\" transform=\"scale(0.015625)\"/>\n       </defs>\n       <use xlink:href=\"#DejaVuSans-53\"/>\n       <use x=\"63.476562\" xlink:href=\"#DejaVuSans-65\"/>\n       <use x=\"125\" xlink:href=\"#DejaVuSans-76\"/>\n       <use x=\"184.179688\" xlink:href=\"#DejaVuSans-65\"/>\n       <use x=\"245.703125\" xlink:href=\"#DejaVuSans-72\"/>\n       <use x=\"284.566406\" xlink:href=\"#DejaVuSans-65\"/>\n       <use x=\"346.089844\" xlink:href=\"#DejaVuSans-20\"/>\n       <use x=\"377.876953\" xlink:href=\"#DejaVuSans-61\"/>\n       <use x=\"439.15625\" xlink:href=\"#DejaVuSans-63\"/>\n       <use x=\"494.136719\" xlink:href=\"#DejaVuSans-75\"/>\n       <use x=\"557.515625\" xlink:href=\"#DejaVuSans-74\"/>\n       <use x=\"596.724609\" xlink:href=\"#DejaVuSans-65\"/>\n       <use x=\"658.248047\" xlink:href=\"#DejaVuSans-20\"/>\n       <use x=\"690.035156\" xlink:href=\"#DejaVuSans-72\"/>\n       <use x=\"728.898438\" xlink:href=\"#DejaVuSans-65\"/>\n       <use x=\"790.421875\" xlink:href=\"#DejaVuSans-73\"/>\n       <use x=\"842.521484\" xlink:href=\"#DejaVuSans-70\"/>\n       <use x=\"905.998047\" xlink:href=\"#DejaVuSans-69\"/>\n       <use x=\"933.78125\" xlink:href=\"#DejaVuSans-72\"/>\n       <use x=\"974.894531\" xlink:href=\"#DejaVuSans-61\"/>\n       <use x=\"1036.173828\" xlink:href=\"#DejaVuSans-74\"/>\n       <use x=\"1075.382812\" xlink:href=\"#DejaVuSans-6f\"/>\n       <use x=\"1136.564453\" xlink:href=\"#DejaVuSans-72\"/>\n       <use x=\"1177.677734\" xlink:href=\"#DejaVuSans-79\"/>\n       <use x=\"1236.857422\" xlink:href=\"#DejaVuSans-20\"/>\n       <use x=\"1268.644531\" xlink:href=\"#DejaVuSans-73\"/>\n       <use x=\"1320.744141\" xlink:href=\"#DejaVuSans-79\"/>\n       <use x=\"1379.923828\" xlink:href=\"#DejaVuSans-6e\"/>\n       <use x=\"1443.302734\" xlink:href=\"#DejaVuSans-64\"/>\n       <use x=\"1506.779297\" xlink:href=\"#DejaVuSans-72\"/>\n       <use x=\"1545.642578\" xlink:href=\"#DejaVuSans-6f\"/>\n       <use x=\"1606.824219\" xlink:href=\"#DejaVuSans-6d\"/>\n       <use x=\"1704.236328\" xlink:href=\"#DejaVuSans-65\"/>\n       <use x=\"1765.759766\" xlink:href=\"#DejaVuSans-20\"/>\n       <use x=\"1797.546875\" xlink:href=\"#DejaVuSans-63\"/>\n       <use x=\"1852.527344\" xlink:href=\"#DejaVuSans-6f\"/>\n       <use x=\"1913.708984\" xlink:href=\"#DejaVuSans-72\"/>\n       <use x=\"1952.572266\" xlink:href=\"#DejaVuSans-6f\"/>\n       <use x=\"2013.753906\" xlink:href=\"#DejaVuSans-6e\"/>\n       <use x=\"2077.132812\" xlink:href=\"#DejaVuSans-61\"/>\n       <use x=\"2138.412109\" xlink:href=\"#DejaVuSans-76\"/>\n       <use x=\"2197.591797\" xlink:href=\"#DejaVuSans-69\"/>\n       <use x=\"2225.375\" xlink:href=\"#DejaVuSans-72\"/>\n       <use x=\"2266.488281\" xlink:href=\"#DejaVuSans-75\"/>\n       <use x=\"2329.867188\" xlink:href=\"#DejaVuSans-73\"/>\n       <use x=\"2381.966797\" xlink:href=\"#DejaVuSans-20\"/>\n       <use x=\"2413.753906\" xlink:href=\"#DejaVuSans-32\"/>\n       <use x=\"2477.376953\" xlink:href=\"#DejaVuSans-20\"/>\n       <use x=\"2509.164062\" xlink:href=\"#DejaVuSans-4f\"/>\n       <use x=\"2581.5\" xlink:href=\"#DejaVuSans-58\"/>\n      </g>\n     </g>\n    </g>\n    <g id=\"xtick_2\">\n     <g id=\"line2d_2\">\n      <path clip-path=\"url(#p977f5cc18c)\" d=\"M 457.315355 239.758125 \nL 457.315355 22.318125 \n\" style=\"fill:none;stroke:#ffffff;stroke-linecap:round;\"/>\n     </g>\n     <g id=\"text_2\">\n      <!-- Homo sapiens OX -->\n      <g style=\"fill:#262626;\" transform=\"translate(408.858636 257.616406)scale(0.11 -0.11)\">\n       <defs>\n        <path d=\"M 628 4666 \nL 1259 4666 \nL 1259 2753 \nL 3553 2753 \nL 3553 4666 \nL 4184 4666 \nL 4184 0 \nL 3553 0 \nL 3553 2222 \nL 1259 2222 \nL 1259 0 \nL 628 0 \nL 628 4666 \nz\n\" id=\"DejaVuSans-48\" transform=\"scale(0.015625)\"/>\n       </defs>\n       <use xlink:href=\"#DejaVuSans-48\"/>\n       <use x=\"75.195312\" xlink:href=\"#DejaVuSans-6f\"/>\n       <use x=\"136.376953\" xlink:href=\"#DejaVuSans-6d\"/>\n       <use x=\"233.789062\" xlink:href=\"#DejaVuSans-6f\"/>\n       <use x=\"294.970703\" xlink:href=\"#DejaVuSans-20\"/>\n       <use x=\"326.757812\" xlink:href=\"#DejaVuSans-73\"/>\n       <use x=\"378.857422\" xlink:href=\"#DejaVuSans-61\"/>\n       <use x=\"440.136719\" xlink:href=\"#DejaVuSans-70\"/>\n       <use x=\"503.613281\" xlink:href=\"#DejaVuSans-69\"/>\n       <use x=\"531.396484\" xlink:href=\"#DejaVuSans-65\"/>\n       <use x=\"592.919922\" xlink:href=\"#DejaVuSans-6e\"/>\n       <use x=\"656.298828\" xlink:href=\"#DejaVuSans-73\"/>\n       <use x=\"708.398438\" xlink:href=\"#DejaVuSans-20\"/>\n       <use x=\"740.185547\" xlink:href=\"#DejaVuSans-4f\"/>\n       <use x=\"812.521484\" xlink:href=\"#DejaVuSans-58\"/>\n      </g>\n     </g>\n    </g>\n    <g id=\"text_3\">\n     <!-- Label -->\n     <g style=\"fill:#262626;\" transform=\"translate(288.945724 273.022188)scale(0.12 -0.12)\">\n      <defs>\n       <path d=\"M 628 4666 \nL 1259 4666 \nL 1259 531 \nL 3531 531 \nL 3531 0 \nL 628 0 \nL 628 4666 \nz\n\" id=\"DejaVuSans-4c\" transform=\"scale(0.015625)\"/>\n       <path d=\"M 3116 1747 \nQ 3116 2381 2855 2742 \nQ 2594 3103 2138 3103 \nQ 1681 3103 1420 2742 \nQ 1159 2381 1159 1747 \nQ 1159 1113 1420 752 \nQ 1681 391 2138 391 \nQ 2594 391 2855 752 \nQ 3116 1113 3116 1747 \nz\nM 1159 2969 \nQ 1341 3281 1617 3432 \nQ 1894 3584 2278 3584 \nQ 2916 3584 3314 3078 \nQ 3713 2572 3713 1747 \nQ 3713 922 3314 415 \nQ 2916 -91 2278 -91 \nQ 1894 -91 1617 61 \nQ 1341 213 1159 525 \nL 1159 0 \nL 581 0 \nL 581 4863 \nL 1159 4863 \nL 1159 2969 \nz\n\" id=\"DejaVuSans-62\" transform=\"scale(0.015625)\"/>\n       <path d=\"M 603 4863 \nL 1178 4863 \nL 1178 0 \nL 603 0 \nL 603 4863 \nz\n\" id=\"DejaVuSans-6c\" transform=\"scale(0.015625)\"/>\n      </defs>\n      <use xlink:href=\"#DejaVuSans-4c\"/>\n      <use x=\"55.712891\" xlink:href=\"#DejaVuSans-61\"/>\n      <use x=\"116.992188\" xlink:href=\"#DejaVuSans-62\"/>\n      <use x=\"180.46875\" xlink:href=\"#DejaVuSans-65\"/>\n      <use x=\"241.992188\" xlink:href=\"#DejaVuSans-6c\"/>\n     </g>\n    </g>\n   </g>\n   <g id=\"matplotlib.axis_2\">\n    <g id=\"ytick_1\">\n     <g id=\"line2d_3\">\n      <path clip-path=\"url(#p977f5cc18c)\" d=\"M 137.733537 239.758125 \nL 472.533537 239.758125 \n\" style=\"fill:none;stroke:#ffffff;stroke-linecap:round;\"/>\n     </g>\n     <g id=\"text_4\">\n      <!-- 0 -->\n      <g style=\"fill:#262626;\" transform=\"translate(121.234787 243.937266)scale(0.11 -0.11)\">\n       <defs>\n        <path d=\"M 2034 4250 \nQ 1547 4250 1301 3770 \nQ 1056 3291 1056 2328 \nQ 1056 1369 1301 889 \nQ 1547 409 2034 409 \nQ 2525 409 2770 889 \nQ 3016 1369 3016 2328 \nQ 3016 3291 2770 3770 \nQ 2525 4250 2034 4250 \nz\nM 2034 4750 \nQ 2819 4750 3233 4129 \nQ 3647 3509 3647 2328 \nQ 3647 1150 3233 529 \nQ 2819 -91 2034 -91 \nQ 1250 -91 836 529 \nQ 422 1150 422 2328 \nQ 422 3509 836 4129 \nQ 1250 4750 2034 4750 \nz\n\" id=\"DejaVuSans-30\" transform=\"scale(0.015625)\"/>\n       </defs>\n       <use xlink:href=\"#DejaVuSans-30\"/>\n      </g>\n     </g>\n    </g>\n    <g id=\"ytick_2\">\n     <g id=\"line2d_4\">\n      <path clip-path=\"url(#p977f5cc18c)\" d=\"M 137.733537 214.540673 \nL 472.533537 214.540673 \n\" style=\"fill:none;stroke:#ffffff;stroke-linecap:round;\"/>\n     </g>\n     <g id=\"text_5\">\n      <!-- 500 -->\n      <g style=\"fill:#262626;\" transform=\"translate(107.237287 218.719814)scale(0.11 -0.11)\">\n       <defs>\n        <path d=\"M 691 4666 \nL 3169 4666 \nL 3169 4134 \nL 1269 4134 \nL 1269 2991 \nQ 1406 3038 1543 3061 \nQ 1681 3084 1819 3084 \nQ 2600 3084 3056 2656 \nQ 3513 2228 3513 1497 \nQ 3513 744 3044 326 \nQ 2575 -91 1722 -91 \nQ 1428 -91 1123 -41 \nQ 819 9 494 109 \nL 494 744 \nQ 775 591 1075 516 \nQ 1375 441 1709 441 \nQ 2250 441 2565 725 \nQ 2881 1009 2881 1497 \nQ 2881 1984 2565 2268 \nQ 2250 2553 1709 2553 \nQ 1456 2553 1204 2497 \nQ 953 2441 691 2322 \nL 691 4666 \nz\n\" id=\"DejaVuSans-35\" transform=\"scale(0.015625)\"/>\n       </defs>\n       <use xlink:href=\"#DejaVuSans-35\"/>\n       <use x=\"63.623047\" xlink:href=\"#DejaVuSans-30\"/>\n       <use x=\"127.246094\" xlink:href=\"#DejaVuSans-30\"/>\n      </g>\n     </g>\n    </g>\n    <g id=\"ytick_3\">\n     <g id=\"line2d_5\">\n      <path clip-path=\"url(#p977f5cc18c)\" d=\"M 137.733537 189.323221 \nL 472.533537 189.323221 \n\" style=\"fill:none;stroke:#ffffff;stroke-linecap:round;\"/>\n     </g>\n     <g id=\"text_6\">\n      <!-- 1000 -->\n      <g style=\"fill:#262626;\" transform=\"translate(100.238537 193.502362)scale(0.11 -0.11)\">\n       <defs>\n        <path d=\"M 794 531 \nL 1825 531 \nL 1825 4091 \nL 703 3866 \nL 703 4441 \nL 1819 4666 \nL 2450 4666 \nL 2450 531 \nL 3481 531 \nL 3481 0 \nL 794 0 \nL 794 531 \nz\n\" id=\"DejaVuSans-31\" transform=\"scale(0.015625)\"/>\n       </defs>\n       <use xlink:href=\"#DejaVuSans-31\"/>\n       <use x=\"63.623047\" xlink:href=\"#DejaVuSans-30\"/>\n       <use x=\"127.246094\" xlink:href=\"#DejaVuSans-30\"/>\n       <use x=\"190.869141\" xlink:href=\"#DejaVuSans-30\"/>\n      </g>\n     </g>\n    </g>\n    <g id=\"ytick_4\">\n     <g id=\"line2d_6\">\n      <path clip-path=\"url(#p977f5cc18c)\" d=\"M 137.733537 164.10577 \nL 472.533537 164.10577 \n\" style=\"fill:none;stroke:#ffffff;stroke-linecap:round;\"/>\n     </g>\n     <g id=\"text_7\">\n      <!-- 1500 -->\n      <g style=\"fill:#262626;\" transform=\"translate(100.238537 168.28491)scale(0.11 -0.11)\">\n       <use xlink:href=\"#DejaVuSans-31\"/>\n       <use x=\"63.623047\" xlink:href=\"#DejaVuSans-35\"/>\n       <use x=\"127.246094\" xlink:href=\"#DejaVuSans-30\"/>\n       <use x=\"190.869141\" xlink:href=\"#DejaVuSans-30\"/>\n      </g>\n     </g>\n    </g>\n    <g id=\"ytick_5\">\n     <g id=\"line2d_7\">\n      <path clip-path=\"url(#p977f5cc18c)\" d=\"M 137.733537 138.888318 \nL 472.533537 138.888318 \n\" style=\"fill:none;stroke:#ffffff;stroke-linecap:round;\"/>\n     </g>\n     <g id=\"text_8\">\n      <!-- 2000 -->\n      <g style=\"fill:#262626;\" transform=\"translate(100.238537 143.067458)scale(0.11 -0.11)\">\n       <use xlink:href=\"#DejaVuSans-32\"/>\n       <use x=\"63.623047\" xlink:href=\"#DejaVuSans-30\"/>\n       <use x=\"127.246094\" xlink:href=\"#DejaVuSans-30\"/>\n       <use x=\"190.869141\" xlink:href=\"#DejaVuSans-30\"/>\n      </g>\n     </g>\n    </g>\n    <g id=\"ytick_6\">\n     <g id=\"line2d_8\">\n      <path clip-path=\"url(#p977f5cc18c)\" d=\"M 137.733537 113.670866 \nL 472.533537 113.670866 \n\" style=\"fill:none;stroke:#ffffff;stroke-linecap:round;\"/>\n     </g>\n     <g id=\"text_9\">\n      <!-- 2500 -->\n      <g style=\"fill:#262626;\" transform=\"translate(100.238537 117.850007)scale(0.11 -0.11)\">\n       <use xlink:href=\"#DejaVuSans-32\"/>\n       <use x=\"63.623047\" xlink:href=\"#DejaVuSans-35\"/>\n       <use x=\"127.246094\" xlink:href=\"#DejaVuSans-30\"/>\n       <use x=\"190.869141\" xlink:href=\"#DejaVuSans-30\"/>\n      </g>\n     </g>\n    </g>\n    <g id=\"ytick_7\">\n     <g id=\"line2d_9\">\n      <path clip-path=\"url(#p977f5cc18c)\" d=\"M 137.733537 88.453414 \nL 472.533537 88.453414 \n\" style=\"fill:none;stroke:#ffffff;stroke-linecap:round;\"/>\n     </g>\n     <g id=\"text_10\">\n      <!-- 3000 -->\n      <g style=\"fill:#262626;\" transform=\"translate(100.238537 92.632555)scale(0.11 -0.11)\">\n       <defs>\n        <path d=\"M 2597 2516 \nQ 3050 2419 3304 2112 \nQ 3559 1806 3559 1356 \nQ 3559 666 3084 287 \nQ 2609 -91 1734 -91 \nQ 1441 -91 1130 -33 \nQ 819 25 488 141 \nL 488 750 \nQ 750 597 1062 519 \nQ 1375 441 1716 441 \nQ 2309 441 2620 675 \nQ 2931 909 2931 1356 \nQ 2931 1769 2642 2001 \nQ 2353 2234 1838 2234 \nL 1294 2234 \nL 1294 2753 \nL 1863 2753 \nQ 2328 2753 2575 2939 \nQ 2822 3125 2822 3475 \nQ 2822 3834 2567 4026 \nQ 2313 4219 1838 4219 \nQ 1578 4219 1281 4162 \nQ 984 4106 628 3988 \nL 628 4550 \nQ 988 4650 1302 4700 \nQ 1616 4750 1894 4750 \nQ 2613 4750 3031 4423 \nQ 3450 4097 3450 3541 \nQ 3450 3153 3228 2886 \nQ 3006 2619 2597 2516 \nz\n\" id=\"DejaVuSans-33\" transform=\"scale(0.015625)\"/>\n       </defs>\n       <use xlink:href=\"#DejaVuSans-33\"/>\n       <use x=\"63.623047\" xlink:href=\"#DejaVuSans-30\"/>\n       <use x=\"127.246094\" xlink:href=\"#DejaVuSans-30\"/>\n       <use x=\"190.869141\" xlink:href=\"#DejaVuSans-30\"/>\n      </g>\n     </g>\n    </g>\n    <g id=\"ytick_8\">\n     <g id=\"line2d_10\">\n      <path clip-path=\"url(#p977f5cc18c)\" d=\"M 137.733537 63.235962 \nL 472.533537 63.235962 \n\" style=\"fill:none;stroke:#ffffff;stroke-linecap:round;\"/>\n     </g>\n     <g id=\"text_11\">\n      <!-- 3500 -->\n      <g style=\"fill:#262626;\" transform=\"translate(100.238537 67.415103)scale(0.11 -0.11)\">\n       <use xlink:href=\"#DejaVuSans-33\"/>\n       <use x=\"63.623047\" xlink:href=\"#DejaVuSans-35\"/>\n       <use x=\"127.246094\" xlink:href=\"#DejaVuSans-30\"/>\n       <use x=\"190.869141\" xlink:href=\"#DejaVuSans-30\"/>\n      </g>\n     </g>\n    </g>\n    <g id=\"ytick_9\">\n     <g id=\"line2d_11\">\n      <path clip-path=\"url(#p977f5cc18c)\" d=\"M 137.733537 38.01851 \nL 472.533537 38.01851 \n\" style=\"fill:none;stroke:#ffffff;stroke-linecap:round;\"/>\n     </g>\n     <g id=\"text_12\">\n      <!-- 4000 -->\n      <g style=\"fill:#262626;\" transform=\"translate(100.238537 42.197651)scale(0.11 -0.11)\">\n       <defs>\n        <path d=\"M 2419 4116 \nL 825 1625 \nL 2419 1625 \nL 2419 4116 \nz\nM 2253 4666 \nL 3047 4666 \nL 3047 1625 \nL 3713 1625 \nL 3713 1100 \nL 3047 1100 \nL 3047 0 \nL 2419 0 \nL 2419 1100 \nL 313 1100 \nL 313 1709 \nL 2253 4666 \nz\n\" id=\"DejaVuSans-34\" transform=\"scale(0.015625)\"/>\n       </defs>\n       <use xlink:href=\"#DejaVuSans-34\"/>\n       <use x=\"63.623047\" xlink:href=\"#DejaVuSans-30\"/>\n       <use x=\"127.246094\" xlink:href=\"#DejaVuSans-30\"/>\n       <use x=\"190.869141\" xlink:href=\"#DejaVuSans-30\"/>\n      </g>\n     </g>\n    </g>\n    <g id=\"text_13\">\n     <!-- Count -->\n     <g style=\"fill:#262626;\" transform=\"translate(93.742912 148.85625)rotate(-90)scale(0.12 -0.12)\">\n      <defs>\n       <path d=\"M 4122 4306 \nL 4122 3641 \nQ 3803 3938 3442 4084 \nQ 3081 4231 2675 4231 \nQ 1875 4231 1450 3742 \nQ 1025 3253 1025 2328 \nQ 1025 1406 1450 917 \nQ 1875 428 2675 428 \nQ 3081 428 3442 575 \nQ 3803 722 4122 1019 \nL 4122 359 \nQ 3791 134 3420 21 \nQ 3050 -91 2638 -91 \nQ 1578 -91 968 557 \nQ 359 1206 359 2328 \nQ 359 3453 968 4101 \nQ 1578 4750 2638 4750 \nQ 3056 4750 3426 4639 \nQ 3797 4528 4122 4306 \nz\n\" id=\"DejaVuSans-43\" transform=\"scale(0.015625)\"/>\n      </defs>\n      <use xlink:href=\"#DejaVuSans-43\"/>\n      <use x=\"69.824219\" xlink:href=\"#DejaVuSans-6f\"/>\n      <use x=\"131.005859\" xlink:href=\"#DejaVuSans-75\"/>\n      <use x=\"194.384766\" xlink:href=\"#DejaVuSans-6e\"/>\n      <use x=\"257.763672\" xlink:href=\"#DejaVuSans-74\"/>\n     </g>\n    </g>\n   </g>\n   <g id=\"patch_3\">\n    <path clip-path=\"url(#p977f5cc18c)\" d=\"M 152.951719 239.758125 \nL 183.388082 239.758125 \nL 183.388082 81.442963 \nL 152.951719 81.442963 \nz\n\" style=\"fill:#4c72b0;stroke:#1a1a1a;stroke-linejoin:miter;\"/>\n   </g>\n   <g id=\"patch_4\">\n    <path clip-path=\"url(#p977f5cc18c)\" d=\"M 183.388082 239.758125 \nL 213.824446 239.758125 \nL 213.824446 239.758125 \nL 183.388082 239.758125 \nz\n\" style=\"fill:#4c72b0;stroke:#1a1a1a;stroke-linejoin:miter;\"/>\n   </g>\n   <g id=\"patch_5\">\n    <path clip-path=\"url(#p977f5cc18c)\" d=\"M 213.824446 239.758125 \nL 244.26081 239.758125 \nL 244.26081 239.758125 \nL 213.824446 239.758125 \nz\n\" style=\"fill:#4c72b0;stroke:#1a1a1a;stroke-linejoin:miter;\"/>\n   </g>\n   <g id=\"patch_6\">\n    <path clip-path=\"url(#p977f5cc18c)\" d=\"M 244.26081 239.758125 \nL 274.697173 239.758125 \nL 274.697173 239.758125 \nL 244.26081 239.758125 \nz\n\" style=\"fill:#4c72b0;stroke:#1a1a1a;stroke-linejoin:miter;\"/>\n   </g>\n   <g id=\"patch_7\">\n    <path clip-path=\"url(#p977f5cc18c)\" d=\"M 274.697173 239.758125 \nL 305.133537 239.758125 \nL 305.133537 239.758125 \nL 274.697173 239.758125 \nz\n\" style=\"fill:#4c72b0;stroke:#1a1a1a;stroke-linejoin:miter;\"/>\n   </g>\n   <g id=\"patch_8\">\n    <path clip-path=\"url(#p977f5cc18c)\" d=\"M 305.133537 239.758125 \nL 335.569901 239.758125 \nL 335.569901 239.758125 \nL 305.133537 239.758125 \nz\n\" style=\"fill:#4c72b0;stroke:#1a1a1a;stroke-linejoin:miter;\"/>\n   </g>\n   <g id=\"patch_9\">\n    <path clip-path=\"url(#p977f5cc18c)\" d=\"M 335.569901 239.758125 \nL 366.006264 239.758125 \nL 366.006264 239.758125 \nL 335.569901 239.758125 \nz\n\" style=\"fill:#4c72b0;stroke:#1a1a1a;stroke-linejoin:miter;\"/>\n   </g>\n   <g id=\"patch_10\">\n    <path clip-path=\"url(#p977f5cc18c)\" d=\"M 366.006264 239.758125 \nL 396.442628 239.758125 \nL 396.442628 239.758125 \nL 366.006264 239.758125 \nz\n\" style=\"fill:#4c72b0;stroke:#1a1a1a;stroke-linejoin:miter;\"/>\n   </g>\n   <g id=\"patch_11\">\n    <path clip-path=\"url(#p977f5cc18c)\" d=\"M 396.442628 239.758125 \nL 426.878991 239.758125 \nL 426.878991 239.758125 \nL 396.442628 239.758125 \nz\n\" style=\"fill:#4c72b0;stroke:#1a1a1a;stroke-linejoin:miter;\"/>\n   </g>\n   <g id=\"patch_12\">\n    <path clip-path=\"url(#p977f5cc18c)\" d=\"M 426.878991 239.758125 \nL 457.315355 239.758125 \nL 457.315355 32.672411 \nL 426.878991 32.672411 \nz\n\" style=\"fill:#4c72b0;stroke:#1a1a1a;stroke-linejoin:miter;\"/>\n   </g>\n   <g id=\"patch_13\">\n    <path d=\"M 137.733537 239.758125 \nL 137.733537 22.318125 \n\" style=\"fill:none;stroke:#ffffff;stroke-linecap:square;stroke-linejoin:miter;stroke-width:1.25;\"/>\n   </g>\n   <g id=\"patch_14\">\n    <path d=\"M 472.533537 239.758125 \nL 472.533537 22.318125 \n\" style=\"fill:none;stroke:#ffffff;stroke-linecap:square;stroke-linejoin:miter;stroke-width:1.25;\"/>\n   </g>\n   <g id=\"patch_15\">\n    <path d=\"M 137.733537 239.758125 \nL 472.533537 239.758125 \n\" style=\"fill:none;stroke:#ffffff;stroke-linecap:square;stroke-linejoin:miter;stroke-width:1.25;\"/>\n   </g>\n   <g id=\"patch_16\">\n    <path d=\"M 137.733537 22.318125 \nL 472.533537 22.318125 \n\" style=\"fill:none;stroke:#ffffff;stroke-linecap:square;stroke-linejoin:miter;stroke-width:1.25;\"/>\n   </g>\n   <g id=\"text_14\">\n    <!-- Counts of Labels -->\n    <g style=\"fill:#262626;\" transform=\"translate(255.279162 16.318125)scale(0.12 -0.12)\">\n     <defs>\n      <path d=\"M 2375 4863 \nL 2375 4384 \nL 1825 4384 \nQ 1516 4384 1395 4259 \nQ 1275 4134 1275 3809 \nL 1275 3500 \nL 2222 3500 \nL 2222 3053 \nL 1275 3053 \nL 1275 0 \nL 697 0 \nL 697 3053 \nL 147 3053 \nL 147 3500 \nL 697 3500 \nL 697 3744 \nQ 697 4328 969 4595 \nQ 1241 4863 1831 4863 \nL 2375 4863 \nz\n\" id=\"DejaVuSans-66\" transform=\"scale(0.015625)\"/>\n     </defs>\n     <use xlink:href=\"#DejaVuSans-43\"/>\n     <use x=\"69.824219\" xlink:href=\"#DejaVuSans-6f\"/>\n     <use x=\"131.005859\" xlink:href=\"#DejaVuSans-75\"/>\n     <use x=\"194.384766\" xlink:href=\"#DejaVuSans-6e\"/>\n     <use x=\"257.763672\" xlink:href=\"#DejaVuSans-74\"/>\n     <use x=\"296.972656\" xlink:href=\"#DejaVuSans-73\"/>\n     <use x=\"349.072266\" xlink:href=\"#DejaVuSans-20\"/>\n     <use x=\"380.859375\" xlink:href=\"#DejaVuSans-6f\"/>\n     <use x=\"442.041016\" xlink:href=\"#DejaVuSans-66\"/>\n     <use x=\"477.246094\" xlink:href=\"#DejaVuSans-20\"/>\n     <use x=\"509.033203\" xlink:href=\"#DejaVuSans-4c\"/>\n     <use x=\"564.746094\" xlink:href=\"#DejaVuSans-61\"/>\n     <use x=\"626.025391\" xlink:href=\"#DejaVuSans-62\"/>\n     <use x=\"689.501953\" xlink:href=\"#DejaVuSans-65\"/>\n     <use x=\"751.025391\" xlink:href=\"#DejaVuSans-6c\"/>\n     <use x=\"778.808594\" xlink:href=\"#DejaVuSans-73\"/>\n    </g>\n   </g>\n  </g>\n </g>\n <defs>\n  <clipPath id=\"p977f5cc18c\">\n   <rect height=\"217.44\" width=\"334.8\" x=\"137.733537\" y=\"22.318125\"/>\n  </clipPath>\n </defs>\n</svg>\n",
      "text/plain": [
       "<Figure size 432x288 with 1 Axes>"
      ]
     },
     "metadata": {},
     "output_type": "display_data"
    }
   ],
   "source": [
    "# value counts of category, to find out wether the data imbalance or not\n",
    "plt.hist(df.category, edgecolor = 'k'); \n",
    "plt.xlabel('Label'); plt.ylabel('Count'); plt.title('Counts of Labels');"
   ]
  },
  {
   "cell_type": "code",
   "execution_count": 13,
   "metadata": {},
   "outputs": [
    {
     "data": {
      "text/plain": [
       "count     7245.000000\n",
       "mean      1962.365079\n",
       "std       2393.274102\n",
       "min         25.000000\n",
       "25%        406.000000\n",
       "50%        748.000000\n",
       "75%       2699.000000\n",
       "max      34350.000000\n",
       "Name: length, dtype: float64"
      ]
     },
     "execution_count": 13,
     "metadata": {},
     "output_type": "execute_result"
    }
   ],
   "source": [
    "# desc. stats of length\n",
    "df.length.describe()"
   ]
  },
  {
   "cell_type": "code",
   "execution_count": 14,
   "metadata": {},
   "outputs": [
    {
     "data": {
      "text/plain": [
       "7096"
      ]
     },
     "execution_count": 14,
     "metadata": {},
     "output_type": "execute_result"
    }
   ],
   "source": [
    "# max length of 99% quantile data\n",
    "maxlength = int(df.length.quantile(0.99))\n",
    "maxlength"
   ]
  },
  {
   "cell_type": "markdown",
   "metadata": {},
   "source": [
    "## Preprocessing"
   ]
  },
  {
   "cell_type": "code",
   "execution_count": 15,
   "metadata": {},
   "outputs": [],
   "source": [
    "# transform label to binary\n",
    "dx = df[['sequence','category']].copy()\n",
    "lb = LabelBinarizer()\n",
    "dx['category'] = lb.fit_transform(dx['category'])"
   ]
  },
  {
   "cell_type": "code",
   "execution_count": 16,
   "metadata": {},
   "outputs": [],
   "source": [
    "tokenizer = Tokenizer(char_level=True)"
   ]
  },
  {
   "cell_type": "code",
   "execution_count": 17,
   "metadata": {},
   "outputs": [],
   "source": [
    "tokenizer.fit_on_texts(dx.sequence.values)\n",
    "x = tokenizer.texts_to_sequences(dx.sequence.values)\n",
    "x = sequence.pad_sequences(x, maxlen=maxlength)"
   ]
  },
  {
   "cell_type": "code",
   "execution_count": 18,
   "metadata": {},
   "outputs": [
    {
     "data": {
      "text/plain": [
       "ElasticNet()"
      ]
     },
     "execution_count": 18,
     "metadata": {},
     "output_type": "execute_result"
    }
   ],
   "source": [
    "fs = ElasticNet()\n",
    "fs.fit(x,dx.category.values)"
   ]
  },
  {
   "cell_type": "code",
   "execution_count": 19,
   "metadata": {},
   "outputs": [
    {
     "data": {
      "text/plain": [
       "array([-0.00360533, -0.00278628, -0.00246416, -0.0019132 , -0.00186833,\n",
       "       -0.00157084, -0.00078169, -0.00062731, -0.00046855,  0.        ,\n",
       "        0.00036757,  0.00080638,  0.00091615,  0.0010412 ,  0.00157882,\n",
       "        0.00218539,  0.00250739,  0.00285551,  0.00303181,  0.00677662,\n",
       "        0.0072493 ,  0.01853464])"
      ]
     },
     "execution_count": 19,
     "metadata": {},
     "output_type": "execute_result"
    }
   ],
   "source": [
    "# importance value of features\n",
    "importance = fs.coef_\n",
    "np.unique(importance)"
   ]
  },
  {
   "cell_type": "code",
   "execution_count": 20,
   "metadata": {},
   "outputs": [
    {
     "data": {
      "text/plain": [
       "[3336, 3665, 5871, 5879, 5975, 6083, 6722, 7002, 7006, 7032, 7063, 7065]"
      ]
     },
     "execution_count": 20,
     "metadata": {},
     "output_type": "execute_result"
    }
   ],
   "source": [
    "# selected features withvalue > 0\n",
    "sf = list(np.array(np.where(importance>0))[0])\n",
    "sf"
   ]
  },
  {
   "cell_type": "code",
   "execution_count": 21,
   "metadata": {},
   "outputs": [
    {
     "data": {
      "text/plain": [
       "(7245, 12)"
      ]
     },
     "execution_count": 21,
     "metadata": {},
     "output_type": "execute_result"
    }
   ],
   "source": [
    "# selected features data\n",
    "X = x[:,sf]\n",
    "\n",
    "# print out the shape of selected features data\n",
    "X.shape"
   ]
  },
  {
   "cell_type": "code",
   "execution_count": 22,
   "metadata": {},
   "outputs": [
    {
     "data": {
      "text/plain": [
       "(7245,)"
      ]
     },
     "execution_count": 22,
     "metadata": {},
     "output_type": "execute_result"
    }
   ],
   "source": [
    "# print out label shape\n",
    "y = np.array(dx.category)\n",
    "y.shape"
   ]
  },
  {
   "cell_type": "code",
   "execution_count": 23,
   "metadata": {},
   "outputs": [],
   "source": [
    "# split data for training and testing\n",
    "x_train, x_test, y_train, y_test = train_test_split(X,y, test_size=0.2, random_state=1)"
   ]
  },
  {
   "cell_type": "markdown",
   "metadata": {},
   "source": [
    "## Training"
   ]
  },
  {
   "cell_type": "code",
   "execution_count": 24,
   "metadata": {},
   "outputs": [
    {
     "data": {
      "text/plain": [
       "{'boosting_type': 'gbdt',\n",
       " 'class_weight': None,\n",
       " 'colsample_bytree': 1.0,\n",
       " 'importance_type': 'split',\n",
       " 'learning_rate': 0.1,\n",
       " 'max_depth': -1,\n",
       " 'min_child_samples': 20,\n",
       " 'min_child_weight': 0.001,\n",
       " 'min_split_gain': 0.0,\n",
       " 'n_estimators': 100,\n",
       " 'n_jobs': -1,\n",
       " 'num_leaves': 31,\n",
       " 'objective': None,\n",
       " 'random_state': None,\n",
       " 'reg_alpha': 0.0,\n",
       " 'reg_lambda': 0.0,\n",
       " 'silent': True,\n",
       " 'subsample': 1.0,\n",
       " 'subsample_for_bin': 200000,\n",
       " 'subsample_freq': 0,\n",
       " 'verbose': -1,\n",
       " 'force_col_wise': True}"
      ]
     },
     "execution_count": 24,
     "metadata": {},
     "output_type": "execute_result"
    }
   ],
   "source": [
    "# define LGBMClassifier model and show the default parameters\n",
    "model = lgb.LGBMClassifier(verbose=-1, force_col_wise=True)\n",
    "model.get_params()"
   ]
  },
  {
   "cell_type": "code",
   "execution_count": 25,
   "metadata": {},
   "outputs": [
    {
     "data": {
      "text/plain": [
       "1.0986122886681098"
      ]
     },
     "execution_count": 25,
     "metadata": {},
     "output_type": "execute_result"
    }
   ],
   "source": [
    "np.log(3)"
   ]
  },
  {
   "cell_type": "code",
   "execution_count": 26,
   "metadata": {},
   "outputs": [],
   "source": [
    "# search space\n",
    "space = {\n",
    "    'class_weight': Categorical([None, 'balanced']),\n",
    "    'boosting_type': Categorical(['gbdt', 'goss','dart']),\n",
    "    'num_leaves': Integer(30,50),\n",
    "    'learning_rate': Real(0.005, 0.2, 'log-uniform'),\n",
    "    'subsample_for_bin': Integer(20000, 300000),\n",
    "    'min_child_samples': Integer(20, 500),\n",
    "    'reg_alpha': Real(0, 1),\n",
    "    'reg_lambda': Real(0, 1),\n",
    "    'colsample_bytree': Real(0.6, 1),\n",
    "}"
   ]
  },
  {
   "cell_type": "code",
   "execution_count": 27,
   "metadata": {},
   "outputs": [
    {
     "data": {
      "text/plain": [
       "BayesSearchCV(estimator=LGBMClassifier(force_col_wise=True, verbose=-1),\n",
       "              n_iter=20, random_state=0,\n",
       "              search_spaces={'boosting_type': Categorical(categories=('gbdt', 'goss', 'dart'), prior=None),\n",
       "                             'class_weight': Categorical(categories=(None, 'balanced'), prior=None),\n",
       "                             'colsample_bytree': Real(low=0.6, high=1, prior='uniform', transform='identity'),\n",
       "                             'learning_rate': Real...\n",
       "                             'min_child_samples': Integer(low=20, high=500, prior='uniform', transform='identity'),\n",
       "                             'num_leaves': Integer(low=30, high=50, prior='uniform', transform='identity'),\n",
       "                             'reg_alpha': Real(low=0, high=1, prior='uniform', transform='identity'),\n",
       "                             'reg_lambda': Real(low=0, high=1, prior='uniform', transform='identity'),\n",
       "                             'subsample_for_bin': Integer(low=20000, high=300000, prior='uniform', transform='identity')})"
      ]
     },
     "execution_count": 27,
     "metadata": {},
     "output_type": "execute_result"
    }
   ],
   "source": [
    "# bayesian optimization over hyper parameters\n",
    "optimization = BayesSearchCV(model, space, n_iter=20, random_state=0)\n",
    "optimization.fit(x_train,y_train)"
   ]
  },
  {
   "cell_type": "markdown",
   "metadata": {},
   "source": [
    "## Results"
   ]
  },
  {
   "cell_type": "code",
   "execution_count": 28,
   "metadata": {},
   "outputs": [
    {
     "name": "stdout",
     "output_type": "stream",
     "text": [
      "val. score : 0.9910282953761215\n",
      "test score : 0.9937888198757764\n"
     ]
    }
   ],
   "source": [
    "# score\n",
    "print('val. score :',optimization.best_score_)\n",
    "print('test score :',optimization.score(x_test,y_test))"
   ]
  },
  {
   "cell_type": "code",
   "execution_count": 29,
   "metadata": {},
   "outputs": [
    {
     "data": {
      "text/plain": [
       "OrderedDict([('boosting_type', 'gbdt'),\n",
       "             ('class_weight', 'balanced'),\n",
       "             ('colsample_bytree', 0.8471984215264478),\n",
       "             ('learning_rate', 0.2),\n",
       "             ('min_child_samples', 20),\n",
       "             ('num_leaves', 33),\n",
       "             ('reg_alpha', 0.24280627512244907),\n",
       "             ('reg_lambda', 0.9217548172035158),\n",
       "             ('subsample_for_bin', 240163)])"
      ]
     },
     "execution_count": 29,
     "metadata": {},
     "output_type": "execute_result"
    }
   ],
   "source": [
    "# best parameters\n",
    "optimization.best_params_"
   ]
  }
 ],
 "metadata": {
  "kernelspec": {
   "display_name": "Python 3.8.6 64-bit ('2021-018-protein-5OEEltf7': pipenv)",
   "name": "python386jvsc74a57bd0e990825c806e76a41824873aee5aeb51dd825df3efcb592f26b705322d1d52be"
  },
  "language_info": {
   "codemirror_mode": {
    "name": "ipython",
    "version": 3
   },
   "file_extension": ".py",
   "mimetype": "text/x-python",
   "name": "python",
   "nbconvert_exporter": "python",
   "pygments_lexer": "ipython3",
   "version": "3.8.6"
  },
  "orig_nbformat": 2
 },
 "nbformat": 4,
 "nbformat_minor": 2
}
